{
  "nbformat": 4,
  "nbformat_minor": 0,
  "metadata": {
    "colab": {
      "provenance": []
    },
    "kernelspec": {
      "name": "python3",
      "display_name": "Python 3"
    },
    "language_info": {
      "name": "python"
    }
  },
  "cells": [
    {
      "cell_type": "markdown",
      "source": [
        "Iterating Over Lines in a File"
      ],
      "metadata": {
        "id": "EyYDLr4vwCkn"
      }
    },
    {
      "cell_type": "code",
      "execution_count": null,
      "metadata": {
        "id": "JAuw64DRv0aR"
      },
      "outputs": [],
      "source": [
        "filereader=open(\"emotion_words.txt\",\"r\")\n",
        "reader=filereader.readlines()\n",
        "counter=0\n",
        "for i in reader:\n",
        "    counter+=1\n",
        "num_lines=counter\n",
        "filereader.close()\n",
        "print(num_lines)\n",
        "\n"
      ]
    },
    {
      "cell_type": "code",
      "source": [
        "olympicsfile = open(\"olympics.txt\", \"r\")\n",
        "\n",
        "for aline in olympicsfile.readlines():\n",
        "    values = aline.split(\",\")\n",
        "    print(values[0], \"is from\", values[3], \"and is on the roster for\", values[4])\n",
        "\n",
        "olympicsfile.close()\n"
      ],
      "metadata": {
        "id": "meux61z6wOPk"
      },
      "execution_count": null,
      "outputs": []
    },
    {
      "cell_type": "code",
      "source": [
        "filename = \"squared_numbers.txt\"\n",
        "outfile = open(filename, \"w\")\n",
        "\n",
        "for number in range(1, 13):\n",
        "    square = number * number\n",
        "    outfile.write(str(square) + \"\\n\")\n",
        "\n",
        "outfile.close()\n",
        "\n",
        "infile = open(filename, \"r\")\n",
        "print(infile.read()[:10])\n",
        "infile.close()\n"
      ],
      "metadata": {
        "id": "RX66Lkkhzdvn"
      },
      "execution_count": null,
      "outputs": []
    },
    {
      "cell_type": "code",
      "source": [
        "with open('mydata.txt', 'r') as md:\n",
        "    for line in md:\n",
        "        print(line)\n",
        "# continue on with other code"
      ],
      "metadata": {
        "id": "XwFtbg-30aJr"
      },
      "execution_count": null,
      "outputs": []
    },
    {
      "cell_type": "code",
      "source": [
        "md = open('mydata.txt', 'r')\n",
        "for line in md:\n",
        "    print(line)\n",
        "md.close()\n",
        "# continue with other code\n"
      ],
      "metadata": {
        "id": "7uovBvJO0drd"
      },
      "execution_count": null,
      "outputs": []
    },
    {
      "cell_type": "code",
      "source": [
        "fname = \"yourfile.txt\"\n",
        "with open(fname, 'r') as fileref:         # step 1\n",
        "    lines = fileref.readlines()           # step 2\n",
        "    for lin in lines:                     # step 3\n",
        "        #some code that references the variable lin\n",
        "#some other code not relying on fileref   # step 4"
      ],
      "metadata": {
        "id": "y8AEmaqC3Icf"
      },
      "execution_count": null,
      "outputs": []
    },
    {
      "cell_type": "code",
      "source": [
        "with open(fname, 'r') as fileref:\n",
        " for lin in fileref:\n",
        "     ## some code that uses line as the current line of the file\n",
        "     ## some more code"
      ],
      "metadata": {
        "id": "gHSQJMMB3KL_"
      },
      "execution_count": null,
      "outputs": []
    },
    {
      "cell_type": "markdown",
      "source": [
        "CSV format\n"
      ],
      "metadata": {
        "id": "PhIBS-X7CKK2"
      }
    },
    {
      "cell_type": "code",
      "source": [
        "Name,score,grade\n",
        "Jamal,98,A+\n",
        "Eloise,87,B+\n",
        "Madeline,99,A+\n",
        "Wei,94,A"
      ],
      "metadata": {
        "id": "ChwWgJqpCL_e"
      },
      "execution_count": null,
      "outputs": []
    },
    {
      "cell_type": "markdown",
      "source": [
        "Reading in data from a CSV File"
      ],
      "metadata": {
        "id": "R8EFYlK-CWAz"
      }
    },
    {
      "cell_type": "code",
      "source": [
        "fileconnection = open(\"olympics.txt\", 'r')\n",
        "lines = fileconnection.readlines()\n",
        "header = lines[0]\n",
        "field_names = header.strip().split(',')\n",
        "print(field_names)\n",
        "for row in lines[1:]:\n",
        "    vals = row.strip().split(',')\n",
        "    if vals[5] != \"NA\":\n",
        "        print(\"{}: {}; {}\".format(\n",
        "                vals[0],\n",
        "                vals[4],\n",
        "                vals[5]))"
      ],
      "metadata": {
        "id": "FUB7K2o5COZI"
      },
      "execution_count": null,
      "outputs": []
    },
    {
      "cell_type": "code",
      "source": [
        "n = [0] * 12\n",
        "for i in range(1,13):\n",
        "    n[i-1] = i *12\n",
        "outfile = open(\"Multiples of 12\", \"w\")\n",
        "for j in range(0, len(n)):\n",
        "    outfile.write(str(j+1) + ',' + str(n[j]))\n",
        "    # +1 to j since the array starts at 0 and we start counting at 1\n",
        "    outfile.write('\\n')\n",
        "outfile.close()\n"
      ],
      "metadata": {
        "colab": {
          "base_uri": "https://localhost:8080/"
        },
        "id": "tZ6e7Qv_JNkN",
        "outputId": "4d1066c9-63df-440c-cd42-b2a0feade233"
      },
      "execution_count": null,
      "outputs": [
        {
          "output_type": "stream",
          "name": "stdout",
          "text": [
            "[12, 24, 36, 48, 60, 72, 84, 96, 108, 120, 132, 144]\n"
          ]
        }
      ]
    },
    {
      "cell_type": "code",
      "source": [
        "olympians = [(\"John Aalberg\", 31, \"Cross Country Skiing\"),\n",
        "             (\"Minna Maarit Aalto\", 30, \"Sailing\"),\n",
        "             (\"Win Valdemar Aaltonen\", 54, \"Art Competitions\"),\n",
        "             (\"Wakako Abe\", 18, \"Cycling\")]\n",
        "\n",
        "outfile = open(\"reduced_olympics.csv\", \"w\")\n",
        "# output the header row\n",
        "outfile.write('Name,Age,Sport')\n",
        "outfile.write('\\n')\n",
        "# output each of the rows:\n",
        "for olympian in olympians:\n",
        "    row_string = '{},{},{}'.format(olympian[0], olympian[1], olympian[2])\n",
        "    outfile.write(row_string)\n",
        "    outfile.write('\\n')\n",
        "outfile.close()"
      ],
      "metadata": {
        "id": "zCI-D_1zKdMD"
      },
      "execution_count": null,
      "outputs": []
    },
    {
      "cell_type": "code",
      "source": [
        "olympians = [(\"John Aalberg\", 31, \"Cross Country Skiing, 15KM\"),\n",
        "             (\"Minna Maarit Aalto\", 30, \"Sailing\"),\n",
        "             (\"Win Valdemar Aaltonen\", 54, \"Art Competitions\"),\n",
        "             (\"Wakako Abe\", 18, \"Cycling\")]\n",
        "\n",
        "outfile = open(\"reduced_olympics2.csv\", \"w\")\n",
        "# output the header row\n",
        "outfile.write('\"Name\",\"Age\",\"Sport\"')\n",
        "outfile.write('\\n')\n",
        "# output each of the rows:\n",
        "for olympian in olympians:\n",
        "    row_string = '\"{}\", \"{}\", \"{}\"'.format(olympian[0], olympian[1], olympian[2])\n",
        "    outfile.write(row_string)\n",
        "    outfile.write('\\n')\n",
        "outfile.close()\n"
      ],
      "metadata": {
        "id": "PLj6lm0-LCEE"
      },
      "execution_count": null,
      "outputs": []
    },
    {
      "cell_type": "markdown",
      "source": [
        "W=\"Welcome to {} to {} Wscubetech\".format(\"hello\",20)\n",
        "print(W)\n",
        "\n",
        "W=\"Welcome {1} to {0} Wscubetech\".format(\"hello\",20)\n",
        "print(W)\n",
        "\n",
        "W=\"Welcome {a} to {b} Wscubetech\".format(a=30, b=40)\n",
        "print(W)\n",
        "\n",
        "W=\"Welcome {b:10} to {a} Wscubetech\".format(a=30,b=40)\n",
        "print(W) #since b is 40 so it has 2 characters 4 0 already and so b:10 means a space will be applied for 10-2 characters before it. The position of 40 can be modified b:^10, b:<10"
      ],
      "metadata": {
        "id": "g1JUQySM2Eev"
      }
    },
    {
      "cell_type": "code",
      "source": [
        "# Import the csv module to work with CSV files\n",
        "import csv\n",
        "\n",
        "# Create a list of tuples where each tuple represents an athlete's details\n",
        "olympians = [\n",
        "    (\"John Aalberg\", 31, \"Cross Country Skiing, 15KM\"),  # Name, Age, Sport\n",
        "    (\"Minna Maarit Aalto\", 30, \"Sailing\"),\n",
        "    (\"Win Valdemar Aaltonen\", 54, \"Art Competitions\"),\n",
        "    (\"Wakako Abe\", 18, \"Cycling\")\n",
        "]\n",
        "\n",
        "# Open a new CSV file in write mode (\"w\")\n",
        "# The file will be created if it doesn't exist, or overwritten if it does\n",
        "outfile = open(\"reduced_olympics_2.csv\", \"w\")\n",
        "\n",
        "# Create a writer object to handle writing data into the CSV file\n",
        "writer = csv.writer(outfile)\n",
        "\n",
        "# Write the header row (column names) to the CSV file\n",
        "# Each value in the list becomes a column in the CSV\n",
        "writer.writerow(['Name', 'Age', 'Sport'])\n",
        "\n",
        "# Iterate through the list of olympians to write their details as rows\n",
        "for olympian in olympians:\n",
        "    # Each olympian is a tuple, and writer.writerow() writes it as a row in the CSV\n",
        "    writer.writerow(olympian)\n",
        "\n",
        "# Close the file to ensure data is saved and resources are released\n",
        "outfile.close()\n"
      ],
      "metadata": {
        "id": "SHIY62hp-egs"
      },
      "execution_count": null,
      "outputs": []
    },
    {
      "cell_type": "markdown",
      "source": [
        "Dictionary"
      ],
      "metadata": {
        "id": "2v25oNBXK2RV"
      }
    },
    {
      "cell_type": "code",
      "source": [
        "eng2sp = {}\n",
        "eng2sp['one'] = 'uno'\n",
        "eng2sp['two'] = 'dos'\n",
        "eng2sp['three'] = 'tres'\n",
        "print(eng2sp)"
      ],
      "metadata": {
        "colab": {
          "base_uri": "https://localhost:8080/"
        },
        "id": "4vg-FTWRK1FG",
        "outputId": "22724e19-fed4-4d47-d6f5-05251607169c"
      },
      "execution_count": null,
      "outputs": [
        {
          "output_type": "stream",
          "name": "stdout",
          "text": [
            "{'one': 'uno', 'two': 'dos', 'three': 'tres'}\n"
          ]
        }
      ]
    },
    {
      "cell_type": "code",
      "source": [
        "eng2sp = {'three': 'tres', 'one': 'uno', 'two': 'dos'}\n",
        "print(eng2sp)"
      ],
      "metadata": {
        "colab": {
          "base_uri": "https://localhost:8080/"
        },
        "id": "jsZc6Ao9LB4L",
        "outputId": "8ce4ddbc-684e-48e5-f1f4-1958a5f82479"
      },
      "execution_count": null,
      "outputs": [
        {
          "output_type": "stream",
          "name": "stdout",
          "text": [
            "{'three': 'tres', 'one': 'uno', 'two': 'dos'}\n"
          ]
        }
      ]
    },
    {
      "cell_type": "code",
      "source": [
        "eng2sp = {'three': 'tres', 'one': 'uno', 'two': 'dos'}\n",
        "value = eng2sp['two']\n",
        "print(value)\n",
        "print(eng2sp['one'])"
      ],
      "metadata": {
        "colab": {
          "base_uri": "https://localhost:8080/"
        },
        "id": "FHVgYnaoK-tI",
        "outputId": "49527234-eaa4-49fd-e5ed-e6cc92a9f25b"
      },
      "execution_count": null,
      "outputs": [
        {
          "output_type": "stream",
          "name": "stdout",
          "text": [
            "dos\n",
            "uno\n"
          ]
        }
      ]
    },
    {
      "cell_type": "code",
      "source": [
        "inventory = {'apples': 430, 'bananas': 312, 'oranges': 525, 'pears': 217}\n",
        "del inventory['pears']"
      ],
      "metadata": {
        "id": "34-qmqChLuUY"
      },
      "execution_count": null,
      "outputs": []
    },
    {
      "cell_type": "code",
      "source": [
        "inventory = {'apples': 430, 'bananas': 312, 'oranges': 525, 'pears': 217}\n",
        "inventory['pears'] = 0"
      ],
      "metadata": {
        "id": "Tey9lsPsLzPK"
      },
      "execution_count": null,
      "outputs": []
    },
    {
      "cell_type": "code",
      "source": [
        "inventory = {'apples': 430, 'bananas': 312, 'oranges': 525, 'pears': 217}\n",
        "inventory['bananas'] = inventory['bananas'] + 200\n",
        "numItems = len(inventory)"
      ],
      "metadata": {
        "id": "lKLsLyNEL2yE"
      },
      "execution_count": null,
      "outputs": []
    },
    {
      "cell_type": "code",
      "source": [
        "mydict = {\"cat\":12, \"dog\":6, \"elephant\":23}\n",
        "mydict[\"mouse\"] = mydict[\"cat\"] + mydict[\"dog\"]\n",
        "print(mydict[\"mouse\"])"
      ],
      "metadata": {
        "colab": {
          "base_uri": "https://localhost:8080/"
        },
        "id": "vMumJ8hPL_CX",
        "outputId": "7dcb6b18-21d5-4529-c790-807740d2d066"
      },
      "execution_count": null,
      "outputs": [
        {
          "output_type": "stream",
          "name": "stdout",
          "text": [
            "18\n"
          ]
        }
      ]
    },
    {
      "cell_type": "code",
      "source": [
        "swimmers = {'Manuel':4, 'Lochte':12, 'Adrian':7, 'Ledecky':5, 'Dirado':4, 'Phelps':23}\n",
        "swimmers['Phelps'] = swimmers['Phelps'] + 5\n"
      ],
      "metadata": {
        "id": "f8JdpE9LMCUR"
      },
      "execution_count": null,
      "outputs": []
    },
    {
      "cell_type": "code",
      "source": [
        "inventory = {'apples': 430, 'bananas': 312, 'pears': 217, 'oranges': 525}\n",
        "\n",
        "for key in inventory.keys():     # the order in which we get the keys is not defined\n",
        "    print(\"Got key\", key, \"which maps to value\", inventory[key])\n",
        "print(\"-------------------\")\n",
        "ks = list(inventory.keys())       # Make a list of all of the keys\n",
        "print(ks)\n",
        "print(\"-------------------\")\n",
        "print(ks[0])"
      ],
      "metadata": {
        "colab": {
          "base_uri": "https://localhost:8080/"
        },
        "id": "IPyc707VQ-3w",
        "outputId": "7eeffd6d-115c-4f17-907e-2a50fa1e1d9a"
      },
      "execution_count": null,
      "outputs": [
        {
          "output_type": "stream",
          "name": "stdout",
          "text": [
            "Got key apples which maps to value 430\n",
            "Got key bananas which maps to value 312\n",
            "Got key pears which maps to value 217\n",
            "Got key oranges which maps to value 525\n",
            "-------------------\n",
            "['apples', 'bananas', 'pears', 'oranges']\n",
            "-------------------\n",
            "apples\n"
          ]
        }
      ]
    },
    {
      "cell_type": "code",
      "source": [
        "inventory = {'apples': 430, 'bananas': 312, 'oranges': 525, 'pears': 217}\n",
        "\n",
        "for k in inventory:\n",
        "    print(\"Got key\", k)"
      ],
      "metadata": {
        "colab": {
          "base_uri": "https://localhost:8080/"
        },
        "id": "a0GkP29yRuy-",
        "outputId": "0f7abec4-a965-48c7-f426-10c1e2bec3e3"
      },
      "execution_count": null,
      "outputs": [
        {
          "output_type": "stream",
          "name": "stdout",
          "text": [
            "Got key apples\n",
            "Got key bananas\n",
            "Got key oranges\n",
            "Got key pears\n"
          ]
        }
      ]
    },
    {
      "cell_type": "code",
      "source": [
        "inventory = {'apples': 430, 'bananas': 312, 'oranges': 525, 'pears': 217}\n",
        "\n",
        "print(list(inventory.values()))\n",
        "\n",
        "for v in inventory.values():\n",
        "    print(\"Got\", v)"
      ],
      "metadata": {
        "colab": {
          "base_uri": "https://localhost:8080/"
        },
        "id": "n5y-hiMTRyH3",
        "outputId": "c32af887-6d2a-4983-ef75-116136efb6c8"
      },
      "execution_count": null,
      "outputs": [
        {
          "output_type": "stream",
          "name": "stdout",
          "text": [
            "[430, 312, 525, 217]\n",
            "Got 430\n",
            "Got 312\n",
            "Got 525\n",
            "Got 217\n"
          ]
        }
      ]
    },
    {
      "cell_type": "code",
      "source": [
        "inventory = {'apples': 430, 'bananas': 312, 'oranges': 525, 'pears': 217}\n",
        "\n",
        "print(list(inventory.items()))\n",
        "\n",
        "for k, v in inventory.items():\n",
        "    print(\"Got\", k, \"that maps to\", v)"
      ],
      "metadata": {
        "colab": {
          "base_uri": "https://localhost:8080/"
        },
        "id": "A_rd6HUbSAXe",
        "outputId": "dfd32c3c-7adf-4339-99f8-2ad05629cdb4"
      },
      "execution_count": null,
      "outputs": [
        {
          "output_type": "stream",
          "name": "stdout",
          "text": [
            "[('apples', 430), ('bananas', 312), ('oranges', 525), ('pears', 217)]\n",
            "Got apples that maps to 430\n",
            "Got bananas that maps to 312\n",
            "Got oranges that maps to 525\n",
            "Got pears that maps to 217\n"
          ]
        }
      ]
    },
    {
      "cell_type": "code",
      "source": [
        "inventory = {'apples': 430, 'bananas': 312, 'oranges': 525, 'pears': 217}\n",
        "print('apples' in inventory)\n",
        "print('cherries' in inventory)\n",
        "\n",
        "if 'bananas' in inventory:\n",
        "    print(inventory['bananas'])\n",
        "else:\n",
        "    print(\"We have no bananas\")\n"
      ],
      "metadata": {
        "colab": {
          "base_uri": "https://localhost:8080/"
        },
        "id": "cSLHDik_SG56",
        "outputId": "775ebefb-2f0d-4bf1-d0ee-bf11fe5c0149"
      },
      "execution_count": null,
      "outputs": [
        {
          "output_type": "stream",
          "name": "stdout",
          "text": [
            "True\n",
            "False\n",
            "312\n"
          ]
        }
      ]
    },
    {
      "cell_type": "code",
      "source": [
        "inventory = {'apples': 430, 'bananas': 312, 'oranges': 525, 'pears': 217}\n",
        "\n",
        "print(inventory.get(\"apples\"))\n",
        "print(inventory.get(\"cherries\"))\n",
        "\n",
        "print(inventory.get(\"cherries\",0))\n"
      ],
      "metadata": {
        "colab": {
          "base_uri": "https://localhost:8080/"
        },
        "id": "1TWBD3F8SL5c",
        "outputId": "0a5e5db6-0162-435b-b21b-1d8d595ea8c6"
      },
      "execution_count": null,
      "outputs": [
        {
          "output_type": "stream",
          "name": "stdout",
          "text": [
            "430\n",
            "None\n",
            "0\n"
          ]
        }
      ]
    },
    {
      "cell_type": "code",
      "source": [
        "mydict = {\"cat\":12, \"dog\":6, \"elephant\":23, \"bear\":20}\n",
        "print(\"dog\" in mydict)"
      ],
      "metadata": {
        "colab": {
          "base_uri": "https://localhost:8080/"
        },
        "id": "Hh3OZqYBSNuM",
        "outputId": "78e046f8-8d7d-4af9-a333-b66010fce90c"
      },
      "execution_count": null,
      "outputs": [
        {
          "output_type": "stream",
          "name": "stdout",
          "text": [
            "True\n"
          ]
        }
      ]
    },
    {
      "cell_type": "code",
      "source": [
        "mydict = {\"cat\":12, \"dog\":6, \"elephant\":23, \"bear\":20}\n",
        "print(23 in mydict)\n",
        "#checks keys not values but it would be true if mydict.values()"
      ],
      "metadata": {
        "colab": {
          "base_uri": "https://localhost:8080/"
        },
        "id": "WOVEc59fSXWh",
        "outputId": "c68b5c4c-df49-4940-cf00-97984bc8e146"
      },
      "execution_count": null,
      "outputs": [
        {
          "output_type": "stream",
          "name": "stdout",
          "text": [
            "False\n"
          ]
        }
      ]
    },
    {
      "cell_type": "code",
      "source": [
        "total = 0\n",
        "mydict = {\"cat\":12, \"dog\":6, \"elephant\":23, \"bear\":20}\n",
        "for akey in mydict:\n",
        "   if len(akey) > 3:\n",
        "      total = total + mydict[akey]\n",
        "print(total)"
      ],
      "metadata": {
        "colab": {
          "base_uri": "https://localhost:8080/"
        },
        "id": "jQ5VX6K9Si2P",
        "outputId": "215108dd-3646-460b-e1ba-c0c245ff17a1"
      },
      "execution_count": null,
      "outputs": [
        {
          "output_type": "stream",
          "name": "stdout",
          "text": [
            "43\n"
          ]
        }
      ]
    },
    {
      "cell_type": "code",
      "source": [
        "medal_events = {'Shooting': 7, 'Fencing': 4, 'Judo': 2, 'Swimming': 3, 'Diving': 2}\n",
        "events=list(medal_events.keys())"
      ],
      "metadata": {
        "id": "hQ9yExybSzvv"
      },
      "execution_count": null,
      "outputs": []
    },
    {
      "cell_type": "code",
      "source": [
        "opposites = {'up': 'down', 'right': 'wrong', 'true': 'false'}\n",
        "alias = opposites\n",
        "\n",
        "print(alias is opposites)\n",
        "\n",
        "alias['right'] = 'left'\n",
        "print(opposites['right'])\n"
      ],
      "metadata": {
        "colab": {
          "base_uri": "https://localhost:8080/"
        },
        "id": "w8HiH9qJThgF",
        "outputId": "7fd87d85-6fb1-4d64-e3a8-4513249b62b1"
      },
      "execution_count": null,
      "outputs": [
        {
          "output_type": "stream",
          "name": "stdout",
          "text": [
            "True\n",
            "left\n"
          ]
        }
      ]
    },
    {
      "cell_type": "code",
      "source": [
        "mydict = {\"cat\":12, \"dog\":6, \"elephant\":23, \"bear\":20}\n",
        "yourdict = mydict\n",
        "yourdict[\"elephant\"] = 999\n",
        "print(mydict[\"elephant\"])"
      ],
      "metadata": {
        "colab": {
          "base_uri": "https://localhost:8080/"
        },
        "id": "tKyTcVuNTiSV",
        "outputId": "ce928664-cb6a-4320-f14d-e937b8ae9166"
      },
      "execution_count": null,
      "outputs": [
        {
          "output_type": "stream",
          "name": "stdout",
          "text": [
            "999\n"
          ]
        }
      ]
    },
    {
      "cell_type": "code",
      "source": [
        "f = open('scarlet.txt', 'r')\n",
        "txt = f.read()\n",
        "# now txt is one long string containing all the characters\n",
        "t_count = 0 #initialize the accumulator variable\n",
        "for c in txt:\n",
        "    if c == 't':\n",
        "        t_count = t_count + 1   #increment the counter\n",
        "print(\"t: \" + str(t_count) + \" occurrences\")\n"
      ],
      "metadata": {
        "colab": {
          "base_uri": "https://localhost:8080/",
          "height": 211
        },
        "id": "rVlMHix-c3TJ",
        "outputId": "0e2bf3ab-2792-444f-e86e-e357ffc8bef5"
      },
      "execution_count": null,
      "outputs": [
        {
          "output_type": "error",
          "ename": "FileNotFoundError",
          "evalue": "[Errno 2] No such file or directory: 'scarlet.txt'",
          "traceback": [
            "\u001b[0;31m---------------------------------------------------------------------------\u001b[0m",
            "\u001b[0;31mFileNotFoundError\u001b[0m                         Traceback (most recent call last)",
            "\u001b[0;32m<ipython-input-24-78654416fb13>\u001b[0m in \u001b[0;36m<cell line: 0>\u001b[0;34m()\u001b[0m\n\u001b[0;32m----> 1\u001b[0;31m \u001b[0mf\u001b[0m \u001b[0;34m=\u001b[0m \u001b[0mopen\u001b[0m\u001b[0;34m(\u001b[0m\u001b[0;34m'scarlet.txt'\u001b[0m\u001b[0;34m,\u001b[0m \u001b[0;34m'r'\u001b[0m\u001b[0;34m)\u001b[0m\u001b[0;34m\u001b[0m\u001b[0;34m\u001b[0m\u001b[0m\n\u001b[0m\u001b[1;32m      2\u001b[0m \u001b[0mtxt\u001b[0m \u001b[0;34m=\u001b[0m \u001b[0mf\u001b[0m\u001b[0;34m.\u001b[0m\u001b[0mread\u001b[0m\u001b[0;34m(\u001b[0m\u001b[0;34m)\u001b[0m\u001b[0;34m\u001b[0m\u001b[0;34m\u001b[0m\u001b[0m\n\u001b[1;32m      3\u001b[0m \u001b[0;31m# now txt is one long string containing all the characters\u001b[0m\u001b[0;34m\u001b[0m\u001b[0;34m\u001b[0m\u001b[0m\n\u001b[1;32m      4\u001b[0m \u001b[0mt_count\u001b[0m \u001b[0;34m=\u001b[0m \u001b[0;36m0\u001b[0m \u001b[0;31m#initialize the accumulator variable\u001b[0m\u001b[0;34m\u001b[0m\u001b[0;34m\u001b[0m\u001b[0m\n\u001b[1;32m      5\u001b[0m \u001b[0;32mfor\u001b[0m \u001b[0mc\u001b[0m \u001b[0;32min\u001b[0m \u001b[0mtxt\u001b[0m\u001b[0;34m:\u001b[0m\u001b[0;34m\u001b[0m\u001b[0;34m\u001b[0m\u001b[0m\n",
            "\u001b[0;31mFileNotFoundError\u001b[0m: [Errno 2] No such file or directory: 'scarlet.txt'"
          ]
        }
      ]
    },
    {
      "cell_type": "code",
      "source": [
        "f = open('scarlet.txt', 'r')\n",
        "txt = f.read()\n",
        "# now txt is one long string containing all the characters\n",
        "t_count = 0 #initialize the accumulator variable\n",
        "s_count = 0 # initialize the s counter accumulator as well\n",
        "for c in txt:\n",
        "    if c == 't':\n",
        "        t_count = t_count + 1   #increment the t counter\n",
        "    elif c == 's':\n",
        "        s_count = s_count + 1\n",
        "print(\"t: \" + str(t_count) + \" occurrences\")\n",
        "print(\"s: \" + str(s_count) + \" occurrences\")"
      ],
      "metadata": {
        "id": "aUVApzFXc5My"
      },
      "execution_count": null,
      "outputs": []
    },
    {
      "cell_type": "code",
      "source": [
        "f = open('scarlet.txt', 'r')\n",
        "txt = f.read()\n",
        "# now txt is one long string containing all the characters\n",
        "letter_counts = {} # start with an empty dictionary\n",
        "letter_counts['t'] = 0  # initialize the t counter\n",
        "letter_counts['s'] = 0  # initialize the s counter\n",
        "for c in txt:\n",
        "    if c == 't':\n",
        "        letter_counts['t'] = letter_counts['t'] + 1  # increment the t counter\n",
        "    elif c == 's':\n",
        "        letter_counts['s'] = letter_counts['s'] + 1  # increment the s counter\n",
        "\n",
        "print(\"t: \" + str(letter_counts['t']) + \" occurrences\")\n",
        "print(\"s: \" + str(letter_counts['s']) + \" occurrences\")"
      ],
      "metadata": {
        "id": "vtU_iTprc_CU"
      },
      "execution_count": null,
      "outputs": []
    },
    {
      "cell_type": "code",
      "source": [
        "f = open('scarlet.txt', 'r')\n",
        "txt = f.read()\n",
        "# now txt is one long string containing all the characters\n",
        "letter_counts = {} # start with an empty dictionary\n",
        "letter_counts['t'] = 0  # intiialize the t counter\n",
        "letter_counts['s'] = 0  # initialize the s counter\n",
        "for c in txt:\n",
        "    if c == 't':\n",
        "        letter_counts[c] = letter_counts[c] + 1   # increment the t counter\n",
        "    elif c == 's':\n",
        "        letter_counts[c] = letter_counts[c] + 1   # increment the s counter\n",
        "\n",
        "print(\"t: \" + str(letter_counts['t']) + \" occurrences\")\n",
        "print(\"s: \" + str(letter_counts['s']) + \" occurrences\")"
      ],
      "metadata": {
        "id": "Ibsu20PQdBCW"
      },
      "execution_count": null,
      "outputs": []
    },
    {
      "cell_type": "code",
      "source": [
        "f = open('scarlet.txt', 'r')\n",
        "txt = f.read()\n",
        "# now txt is one long string containing all the characters\n",
        "letter_counts = {} # start with an empty dictionary\n",
        "letter_counts['t'] = 15 # initialize the t counter\n",
        "letter_counts['s'] = 25 # initialize the s counter"
      ],
      "metadata": {
        "id": "0UEsETlsdE5_"
      },
      "execution_count": null,
      "outputs": []
    },
    {
      "cell_type": "code",
      "source": [
        "f = open('scarlet.txt', 'r')\n",
        "txt = f.read()\n",
        "# now txt is one long string containing all the characters\n",
        "letter_counts = {} # start with an empty dictionary\n",
        "for c in txt:\n",
        "    if c not in letter_counts:\n",
        "        # we have not seen this character before, so initialize a counter for it\n",
        "        letter_counts[c] = 0\n",
        "\n",
        "    #whether we've seen it before or not, increment its counter\n",
        "    letter_counts[c] = letter_counts[c] + 1\n",
        "\n",
        "print(\"t: \" + str(letter_counts['t']) + \" occurrences\")\n",
        "print(\"s: \" + str(letter_counts['s']) + \" occurrences\")"
      ],
      "metadata": {
        "id": "XHZ3gB1odF9p"
      },
      "execution_count": null,
      "outputs": []
    },
    {
      "cell_type": "code",
      "source": [
        "f = open('scarlet.txt', 'r')\n",
        "txt = f.read()\n",
        "letter_counts = {}\n",
        "for c in txt:\n",
        "    if c not in letter_counts:\n",
        "        letter_counts[c] = 0\n",
        "\n",
        "    letter_counts[c] = letter_counts[c] + 1\n",
        "\n",
        "# Write a loop that prints the letters and their counts"
      ],
      "metadata": {
        "id": "Ssy4c-6tdayC"
      },
      "execution_count": null,
      "outputs": []
    },
    {
      "cell_type": "code",
      "source": [
        "f = open('scarlet.txt', 'r')\n",
        "txt_lines = f.readlines()\n",
        "# now txt_lines is a list, where each item is one\n",
        "# line of text from the story\n",
        "print(len(txt_lines))"
      ],
      "metadata": {
        "colab": {
          "base_uri": "https://localhost:8080/",
          "height": 211
        },
        "id": "-Y0vZKmbfTBr",
        "outputId": "ab543a8f-7f27-437d-c8ba-0d36916a4528"
      },
      "execution_count": null,
      "outputs": [
        {
          "output_type": "error",
          "ename": "FileNotFoundError",
          "evalue": "[Errno 2] No such file or directory: 'scarlet.txt'",
          "traceback": [
            "\u001b[0;31m---------------------------------------------------------------------------\u001b[0m",
            "\u001b[0;31mFileNotFoundError\u001b[0m                         Traceback (most recent call last)",
            "\u001b[0;32m<ipython-input-25-7862c768d16d>\u001b[0m in \u001b[0;36m<cell line: 0>\u001b[0;34m()\u001b[0m\n\u001b[0;32m----> 1\u001b[0;31m \u001b[0mf\u001b[0m \u001b[0;34m=\u001b[0m \u001b[0mopen\u001b[0m\u001b[0;34m(\u001b[0m\u001b[0;34m'scarlet.txt'\u001b[0m\u001b[0;34m,\u001b[0m \u001b[0;34m'r'\u001b[0m\u001b[0;34m)\u001b[0m\u001b[0;34m\u001b[0m\u001b[0;34m\u001b[0m\u001b[0m\n\u001b[0m\u001b[1;32m      2\u001b[0m \u001b[0mtxt_lines\u001b[0m \u001b[0;34m=\u001b[0m \u001b[0mf\u001b[0m\u001b[0;34m.\u001b[0m\u001b[0mreadlines\u001b[0m\u001b[0;34m(\u001b[0m\u001b[0;34m)\u001b[0m\u001b[0;34m\u001b[0m\u001b[0;34m\u001b[0m\u001b[0m\n\u001b[1;32m      3\u001b[0m \u001b[0;31m# now txt_lines is a list, where each item is one\u001b[0m\u001b[0;34m\u001b[0m\u001b[0;34m\u001b[0m\u001b[0m\n\u001b[1;32m      4\u001b[0m \u001b[0;31m# line of text from the story\u001b[0m\u001b[0;34m\u001b[0m\u001b[0;34m\u001b[0m\u001b[0m\n\u001b[1;32m      5\u001b[0m \u001b[0mprint\u001b[0m\u001b[0;34m(\u001b[0m\u001b[0mlen\u001b[0m\u001b[0;34m(\u001b[0m\u001b[0mtxt_lines\u001b[0m\u001b[0;34m)\u001b[0m\u001b[0;34m)\u001b[0m\u001b[0;34m\u001b[0m\u001b[0;34m\u001b[0m\u001b[0m\n",
            "\u001b[0;31mFileNotFoundError\u001b[0m: [Errno 2] No such file or directory: 'scarlet.txt'"
          ]
        }
      ]
    },
    {
      "cell_type": "code",
      "source": [
        "f = open('scarlet2.txt', 'r')\n",
        "txt = f.read()\n",
        "# now txt is one long string containing all the characters\n",
        "letter_counts = {} # start with an empty dictionary\n",
        "for c in txt:\n",
        "    if c not in letter_counts:\n",
        "        # we have not seen this character before, so initialize a counter for it\n",
        "        letter_counts[c] = 0\n",
        "\n",
        "    #whether we've seen it before or not, increment its counter\n",
        "    letter_counts[c] = letter_counts[c] + 1\n",
        "\n",
        "letter_values = {'a': 1, 'b': 3, 'c': 3, 'd': 2, 'e': 1, 'f':4, 'g': 2, 'h':4, 'i':1, 'j':8, 'k':5, 'l':1, 'm':3, 'n':1, 'o':1, 'p':3, 'q':10, 'r':1, 's':1, 't':1, 'u':1, 'v':4, 'w':4, 'x':8, 'y':4, 'z':10}\n",
        "\n",
        "tot = 0\n",
        "for letter in letter_counts:\n",
        "    if letter in letter_values:\n",
        "        tot = tot + letter_values[letter] * letter_counts[letter]\n",
        "\n",
        "print(tot)"
      ],
      "metadata": {
        "id": "6XuwRbBShOiO"
      },
      "execution_count": null,
      "outputs": []
    },
    {
      "cell_type": "code",
      "source": [
        "travel = {\"North America\": 2, \"Europe\": 8, \"South America\": 3, \"Asia\": 4, \"Africa\":1, \"Antarctica\": 0, \"Australia\": 1}\n",
        "total=0\n",
        "for i in travel:\n",
        "    total=total+travel[i]\n"
      ],
      "metadata": {
        "id": "z6UmEoaghle4"
      },
      "execution_count": null,
      "outputs": []
    },
    {
      "cell_type": "code",
      "source": [
        "schedule = {\"UARTS 150\": 3, \"SPANISH 103\": 4, \"ENGLISH 125\": 4, \"SI 110\": 4, \"ENS 356\": 2, \"WOMENSTD 240\": 4, \"SI 106\": 4, \"BIO 118\": 3, \"SPANISH 231\": 4, \"PSYCH 111\": 4, \"LING 111\": 3, \"SPANISH 232\": 4, \"STATS 250\": 4, \"SI 206\": 4, \"COGSCI 200\": 4, \"AMCULT 202\": 4, \"ANTHRO 101\": 4}\n",
        "total_credits = 0\n",
        "\n",
        "# Iterate over the values (credits) in the dictionary and sum them\n",
        "for credits in schedule.values():\n",
        "    total_credits += credits\n",
        "\n",
        "# Print the total for verification\n",
        "print(total_credits)"
      ],
      "metadata": {
        "colab": {
          "base_uri": "https://localhost:8080/"
        },
        "id": "3iHi1Stwhyxf",
        "outputId": "c2c889eb-0213-4b65-eb4d-d728210c98fc"
      },
      "execution_count": null,
      "outputs": [
        {
          "output_type": "stream",
          "name": "stdout",
          "text": [
            "63\n"
          ]
        }
      ]
    },
    {
      "cell_type": "code",
      "source": [
        "d = {'a': 194, 'b': 54, 'c': 34, 'd': 44, 'e': 312, 'full': 31}\n",
        "\n",
        "ks = d.keys()\n",
        "\n",
        "# Initialize variable best_key_so_far to be the first key in d\n",
        "best_key_so_far = list(ks)[0]\n",
        "\n",
        "# Iterate through all keys in the dictionary\n",
        "for k in ks:\n",
        "    # Check if the value associated with the current key is\n",
        "    # bigger than the value associated with the best_key_so_far\n",
        "    if d[k] > d[best_key_so_far]:\n",
        "        # If so, save the current key as the best so far\n",
        "        best_key_so_far = k\n",
        "\n",
        "print(\"key \" + best_key_so_far + \" has the highest value, \" + str(d[best_key_so_far]))\n"
      ],
      "metadata": {
        "colab": {
          "base_uri": "https://localhost:8080/"
        },
        "id": "u7vbpAa7jT7-",
        "outputId": "7c736a9a-640d-4cde-c523-c0d240fb0ea6"
      },
      "execution_count": null,
      "outputs": [
        {
          "output_type": "stream",
          "name": "stdout",
          "text": [
            "key e has the highest value, 312\n"
          ]
        }
      ]
    },
    {
      "cell_type": "code",
      "source": [
        "placement = \"Beaches are cool places to visit in spring however the Mackinaw Bridge is near. Most people visit Mackinaw later since the island is a cool place to explore.\"\n",
        "d = {}\n",
        "\n",
        "# Count occurrences of each character in the string\n",
        "for c in placement:\n",
        "    if c not in d:\n",
        "        d[c] = 0  # Initialize count to 0\n",
        "    d[c] += 1  # Increment count for the character\n",
        "\n",
        "# Find the key with the lowest value\n",
        "keys = list(d.keys())  # Get all keys from the dictionary\n",
        "key_with_min_value = keys[0]  # Assume the first key has the smallest value initially\n",
        "\n",
        "for key in keys:\n",
        "    if d[key] < d[key_with_min_value]:  # Compare values\n",
        "        key_with_min_value = key  # Update key_with_min_value to the smallest key\n",
        "\n",
        "print(\"Key with the minimum value:\", key_with_min_value)  # Output the key with the lowest value\n"
      ],
      "metadata": {
        "colab": {
          "base_uri": "https://localhost:8080/"
        },
        "id": "kroWykU-j-8a",
        "outputId": "d3d594f6-cc88-49d5-e587-e16aed04b600"
      },
      "execution_count": null,
      "outputs": [
        {
          "output_type": "stream",
          "name": "stdout",
          "text": [
            "Key with the minimum value: x\n"
          ]
        }
      ]
    },
    {
      "cell_type": "markdown",
      "source": [
        "Functions\n",
        "  "
      ],
      "metadata": {
        "id": "iRgYYADCtlGx"
      }
    },
    {
      "cell_type": "code",
      "source": [
        "def hello():\n",
        "  print(\"Hello! Hows it going?\")\n",
        "hello()"
      ],
      "metadata": {
        "colab": {
          "base_uri": "https://localhost:8080/"
        },
        "id": "5C2eWcnKtmnS",
        "outputId": "a4a7f77a-354b-4e17-aace-3ee6a0894326"
      },
      "execution_count": null,
      "outputs": [
        {
          "output_type": "stream",
          "name": "stdout",
          "text": [
            "Hello! Hows it going?\n"
          ]
        }
      ]
    },
    {
      "cell_type": "code",
      "source": [
        "import turtle\n",
        "\n",
        "def drawSquare(t, sz):\n",
        "    \"\"\"Make turtle t draw a square of with side sz.\"\"\"\n",
        "\n",
        "    for i in range(4):\n",
        "        t.forward(sz)\n",
        "        t.left(90)\n",
        "\n",
        "\n",
        "wn = turtle.Screen()      # Set up the window and its attributes\n",
        "wn.bgcolor(\"lightgreen\")\n",
        "\n",
        "alex = turtle.Turtle()    # create alex\n",
        "drawSquare(alex, 50)      # Call the function to draw the square passing the actual turtle and the actual side size\n",
        "\n",
        "wn.exitonclick()\n"
      ],
      "metadata": {
        "colab": {
          "base_uri": "https://localhost:8080/",
          "height": 356
        },
        "id": "p4SFY-Uluh2t",
        "outputId": "c6c0bdf3-5709-4cb7-af68-e82ab29981cf"
      },
      "execution_count": null,
      "outputs": [
        {
          "output_type": "error",
          "ename": "TclError",
          "evalue": "no display name and no $DISPLAY environment variable",
          "traceback": [
            "\u001b[0;31m---------------------------------------------------------------------------\u001b[0m",
            "\u001b[0;31mTclError\u001b[0m                                  Traceback (most recent call last)",
            "\u001b[0;32m<ipython-input-2-549ddc36772c>\u001b[0m in \u001b[0;36m<cell line: 0>\u001b[0;34m()\u001b[0m\n\u001b[1;32m      9\u001b[0m \u001b[0;34m\u001b[0m\u001b[0m\n\u001b[1;32m     10\u001b[0m \u001b[0;34m\u001b[0m\u001b[0m\n\u001b[0;32m---> 11\u001b[0;31m \u001b[0mwn\u001b[0m \u001b[0;34m=\u001b[0m \u001b[0mturtle\u001b[0m\u001b[0;34m.\u001b[0m\u001b[0mScreen\u001b[0m\u001b[0;34m(\u001b[0m\u001b[0;34m)\u001b[0m      \u001b[0;31m# Set up the window and its attributes\u001b[0m\u001b[0;34m\u001b[0m\u001b[0;34m\u001b[0m\u001b[0m\n\u001b[0m\u001b[1;32m     12\u001b[0m \u001b[0mwn\u001b[0m\u001b[0;34m.\u001b[0m\u001b[0mbgcolor\u001b[0m\u001b[0;34m(\u001b[0m\u001b[0;34m\"lightgreen\"\u001b[0m\u001b[0;34m)\u001b[0m\u001b[0;34m\u001b[0m\u001b[0;34m\u001b[0m\u001b[0m\n\u001b[1;32m     13\u001b[0m \u001b[0;34m\u001b[0m\u001b[0m\n",
            "\u001b[0;32m/usr/lib/python3.11/turtle.py\u001b[0m in \u001b[0;36mScreen\u001b[0;34m()\u001b[0m\n\u001b[1;32m   3678\u001b[0m     else return the existing one.\"\"\"\n\u001b[1;32m   3679\u001b[0m     \u001b[0;32mif\u001b[0m \u001b[0mTurtle\u001b[0m\u001b[0;34m.\u001b[0m\u001b[0m_screen\u001b[0m \u001b[0;32mis\u001b[0m \u001b[0;32mNone\u001b[0m\u001b[0;34m:\u001b[0m\u001b[0;34m\u001b[0m\u001b[0;34m\u001b[0m\u001b[0m\n\u001b[0;32m-> 3680\u001b[0;31m         \u001b[0mTurtle\u001b[0m\u001b[0;34m.\u001b[0m\u001b[0m_screen\u001b[0m \u001b[0;34m=\u001b[0m \u001b[0m_Screen\u001b[0m\u001b[0;34m(\u001b[0m\u001b[0;34m)\u001b[0m\u001b[0;34m\u001b[0m\u001b[0;34m\u001b[0m\u001b[0m\n\u001b[0m\u001b[1;32m   3681\u001b[0m     \u001b[0;32mreturn\u001b[0m \u001b[0mTurtle\u001b[0m\u001b[0;34m.\u001b[0m\u001b[0m_screen\u001b[0m\u001b[0;34m\u001b[0m\u001b[0;34m\u001b[0m\u001b[0m\n\u001b[1;32m   3682\u001b[0m \u001b[0;34m\u001b[0m\u001b[0m\n",
            "\u001b[0;32m/usr/lib/python3.11/turtle.py\u001b[0m in \u001b[0;36m__init__\u001b[0;34m(self)\u001b[0m\n\u001b[1;32m   3694\u001b[0m         \u001b[0;31m# preserved (perhaps by passing it as an optional parameter)\u001b[0m\u001b[0;34m\u001b[0m\u001b[0;34m\u001b[0m\u001b[0m\n\u001b[1;32m   3695\u001b[0m         \u001b[0;32mif\u001b[0m \u001b[0m_Screen\u001b[0m\u001b[0;34m.\u001b[0m\u001b[0m_root\u001b[0m \u001b[0;32mis\u001b[0m \u001b[0;32mNone\u001b[0m\u001b[0;34m:\u001b[0m\u001b[0;34m\u001b[0m\u001b[0;34m\u001b[0m\u001b[0m\n\u001b[0;32m-> 3696\u001b[0;31m             \u001b[0m_Screen\u001b[0m\u001b[0;34m.\u001b[0m\u001b[0m_root\u001b[0m \u001b[0;34m=\u001b[0m \u001b[0mself\u001b[0m\u001b[0;34m.\u001b[0m\u001b[0m_root\u001b[0m \u001b[0;34m=\u001b[0m \u001b[0m_Root\u001b[0m\u001b[0;34m(\u001b[0m\u001b[0;34m)\u001b[0m\u001b[0;34m\u001b[0m\u001b[0;34m\u001b[0m\u001b[0m\n\u001b[0m\u001b[1;32m   3697\u001b[0m             \u001b[0mself\u001b[0m\u001b[0;34m.\u001b[0m\u001b[0m_root\u001b[0m\u001b[0;34m.\u001b[0m\u001b[0mtitle\u001b[0m\u001b[0;34m(\u001b[0m\u001b[0m_Screen\u001b[0m\u001b[0;34m.\u001b[0m\u001b[0m_title\u001b[0m\u001b[0;34m)\u001b[0m\u001b[0;34m\u001b[0m\u001b[0;34m\u001b[0m\u001b[0m\n\u001b[1;32m   3698\u001b[0m             \u001b[0mself\u001b[0m\u001b[0;34m.\u001b[0m\u001b[0m_root\u001b[0m\u001b[0;34m.\u001b[0m\u001b[0mondestroy\u001b[0m\u001b[0;34m(\u001b[0m\u001b[0mself\u001b[0m\u001b[0;34m.\u001b[0m\u001b[0m_destroy\u001b[0m\u001b[0;34m)\u001b[0m\u001b[0;34m\u001b[0m\u001b[0;34m\u001b[0m\u001b[0m\n",
            "\u001b[0;32m/usr/lib/python3.11/turtle.py\u001b[0m in \u001b[0;36m__init__\u001b[0;34m(self)\u001b[0m\n\u001b[1;32m    434\u001b[0m     \u001b[0;34m\"\"\"Root class for Screen based on Tkinter.\"\"\"\u001b[0m\u001b[0;34m\u001b[0m\u001b[0;34m\u001b[0m\u001b[0m\n\u001b[1;32m    435\u001b[0m     \u001b[0;32mdef\u001b[0m \u001b[0m__init__\u001b[0m\u001b[0;34m(\u001b[0m\u001b[0mself\u001b[0m\u001b[0;34m)\u001b[0m\u001b[0;34m:\u001b[0m\u001b[0;34m\u001b[0m\u001b[0;34m\u001b[0m\u001b[0m\n\u001b[0;32m--> 436\u001b[0;31m         \u001b[0mTK\u001b[0m\u001b[0;34m.\u001b[0m\u001b[0mTk\u001b[0m\u001b[0;34m.\u001b[0m\u001b[0m__init__\u001b[0m\u001b[0;34m(\u001b[0m\u001b[0mself\u001b[0m\u001b[0;34m)\u001b[0m\u001b[0;34m\u001b[0m\u001b[0;34m\u001b[0m\u001b[0m\n\u001b[0m\u001b[1;32m    437\u001b[0m \u001b[0;34m\u001b[0m\u001b[0m\n\u001b[1;32m    438\u001b[0m     \u001b[0;32mdef\u001b[0m \u001b[0msetupcanvas\u001b[0m\u001b[0;34m(\u001b[0m\u001b[0mself\u001b[0m\u001b[0;34m,\u001b[0m \u001b[0mwidth\u001b[0m\u001b[0;34m,\u001b[0m \u001b[0mheight\u001b[0m\u001b[0;34m,\u001b[0m \u001b[0mcwidth\u001b[0m\u001b[0;34m,\u001b[0m \u001b[0mcheight\u001b[0m\u001b[0;34m)\u001b[0m\u001b[0;34m:\u001b[0m\u001b[0;34m\u001b[0m\u001b[0;34m\u001b[0m\u001b[0m\n",
            "\u001b[0;32m/usr/lib/python3.11/tkinter/__init__.py\u001b[0m in \u001b[0;36m__init__\u001b[0;34m(self, screenName, baseName, className, useTk, sync, use)\u001b[0m\n\u001b[1;32m   2324\u001b[0m                 \u001b[0mbaseName\u001b[0m \u001b[0;34m=\u001b[0m \u001b[0mbaseName\u001b[0m \u001b[0;34m+\u001b[0m \u001b[0mext\u001b[0m\u001b[0;34m\u001b[0m\u001b[0;34m\u001b[0m\u001b[0m\n\u001b[1;32m   2325\u001b[0m         \u001b[0minteractive\u001b[0m \u001b[0;34m=\u001b[0m \u001b[0;32mFalse\u001b[0m\u001b[0;34m\u001b[0m\u001b[0;34m\u001b[0m\u001b[0m\n\u001b[0;32m-> 2326\u001b[0;31m         \u001b[0mself\u001b[0m\u001b[0;34m.\u001b[0m\u001b[0mtk\u001b[0m \u001b[0;34m=\u001b[0m \u001b[0m_tkinter\u001b[0m\u001b[0;34m.\u001b[0m\u001b[0mcreate\u001b[0m\u001b[0;34m(\u001b[0m\u001b[0mscreenName\u001b[0m\u001b[0;34m,\u001b[0m \u001b[0mbaseName\u001b[0m\u001b[0;34m,\u001b[0m \u001b[0mclassName\u001b[0m\u001b[0;34m,\u001b[0m \u001b[0minteractive\u001b[0m\u001b[0;34m,\u001b[0m \u001b[0mwantobjects\u001b[0m\u001b[0;34m,\u001b[0m \u001b[0museTk\u001b[0m\u001b[0;34m,\u001b[0m \u001b[0msync\u001b[0m\u001b[0;34m,\u001b[0m \u001b[0muse\u001b[0m\u001b[0;34m)\u001b[0m\u001b[0;34m\u001b[0m\u001b[0;34m\u001b[0m\u001b[0m\n\u001b[0m\u001b[1;32m   2327\u001b[0m         \u001b[0;32mif\u001b[0m \u001b[0museTk\u001b[0m\u001b[0;34m:\u001b[0m\u001b[0;34m\u001b[0m\u001b[0;34m\u001b[0m\u001b[0m\n\u001b[1;32m   2328\u001b[0m             \u001b[0mself\u001b[0m\u001b[0;34m.\u001b[0m\u001b[0m_loadtk\u001b[0m\u001b[0;34m(\u001b[0m\u001b[0;34m)\u001b[0m\u001b[0;34m\u001b[0m\u001b[0;34m\u001b[0m\u001b[0m\n",
            "\u001b[0;31mTclError\u001b[0m: no display name and no $DISPLAY environment variable"
          ]
        }
      ]
    },
    {
      "cell_type": "code",
      "source": [
        "def hello(s):\n",
        "  print(\"Hello \" + s + \"! Hows it going?\")\n",
        "\n",
        "hello(\"Bob\")"
      ],
      "metadata": {
        "colab": {
          "base_uri": "https://localhost:8080/"
        },
        "id": "ztVOH_FAvtxK",
        "outputId": "38cdcc55-a280-420c-b340-0c76307e7595"
      },
      "execution_count": null,
      "outputs": [
        {
          "output_type": "stream",
          "name": "stdout",
          "text": [
            "Hello Bob! Hows it going?\n"
          ]
        }
      ]
    },
    {
      "cell_type": "code",
      "source": [
        "def hello2(s,n,y):\n",
        "  greeting= \"Hello {}{}\".format(s,y)\n",
        "  print(greeting*n)\n",
        "\n",
        "hello2(\"Mr.Cow \",3,\"YEEHAW \")"
      ],
      "metadata": {
        "colab": {
          "base_uri": "https://localhost:8080/"
        },
        "id": "0B7PQVOlwW6l",
        "outputId": "8aa1ec63-1c3e-469d-c280-5b4f4e21ec6e"
      },
      "execution_count": null,
      "outputs": [
        {
          "output_type": "stream",
          "name": "stdout",
          "text": [
            "Hello Mr.Cow YEEHAW Hello Mr.Cow YEEHAW Hello Mr.Cow YEEHAW \n"
          ]
        }
      ]
    },
    {
      "cell_type": "code",
      "source": [
        "def add(a,b):\n",
        "  total=a+b\n",
        "  a=17\n",
        "  return total #a doesnt effect total here look\n",
        "\n",
        "my_var=11\n",
        "add(my_var,3)"
      ],
      "metadata": {
        "colab": {
          "base_uri": "https://localhost:8080/"
        },
        "id": "iLGskHGAyg45",
        "outputId": "4fa811e7-d100-4df9-83e6-fe85b1bf70da"
      },
      "execution_count": null,
      "outputs": [
        {
          "output_type": "execute_result",
          "data": {
            "text/plain": [
              "14"
            ]
          },
          "metadata": {},
          "execution_count": 15
        }
      ]
    },
    {
      "cell_type": "code",
      "source": [
        "def add_list(alist):\n",
        "  total=0\n",
        "  for num in alist:\n",
        "    total+=num\n",
        "  alist=[\"george\",\"angela\"]\n",
        "  return total\n",
        "my_list=[7,3,5,4]\n",
        "add_list(my_list)\n"
      ],
      "metadata": {
        "colab": {
          "base_uri": "https://localhost:8080/"
        },
        "id": "iBvy9CJpzEhI",
        "outputId": "f0516220-b8a9-4254-92bf-fda455dda3ab"
      },
      "execution_count": null,
      "outputs": [
        {
          "output_type": "execute_result",
          "data": {
            "text/plain": [
              "19"
            ]
          },
          "metadata": {},
          "execution_count": 16
        }
      ]
    },
    {
      "cell_type": "code",
      "source": [
        "def square(x):\n",
        "  y=x*x\n",
        "  return y\n",
        "\n",
        "toSquare=10\n",
        "result=square(toSquare)\n",
        "print(\"The result of\", toSquare, \"squared is\", result)"
      ],
      "metadata": {
        "colab": {
          "base_uri": "https://localhost:8080/"
        },
        "id": "RHZoOJDZ0oDv",
        "outputId": "7f042cc2-5d81-4274-838c-13fdf9236f20"
      },
      "execution_count": null,
      "outputs": [
        {
          "output_type": "stream",
          "name": "stdout",
          "text": [
            "The result of 10 squared is 100\n"
          ]
        }
      ]
    },
    {
      "cell_type": "code",
      "source": [
        "def mylen(seq):\n",
        "    c = 0 # initialize count variable to 0\n",
        "    for _ in seq:\n",
        "        c = c + 1   # increment the counter for each item in seq\n",
        "    return c\n",
        "\n",
        "print(mylen(\"hello\"))\n",
        "print(mylen([1, 2, 7]))"
      ],
      "metadata": {
        "colab": {
          "base_uri": "https://localhost:8080/"
        },
        "id": "3g_cWm6s7TPj",
        "outputId": "50b4e831-a2e9-45eb-c220-67abf09ce91f"
      },
      "execution_count": null,
      "outputs": [
        {
          "output_type": "stream",
          "name": "stdout",
          "text": [
            "5\n",
            "3\n"
          ]
        }
      ]
    },
    {
      "cell_type": "code",
      "source": [
        "def square(x):\n",
        "    y = x * x\n",
        "    return y\n",
        "\n",
        "z = square(10)\n",
        "print(y)"
      ],
      "metadata": {
        "colab": {
          "base_uri": "https://localhost:8080/",
          "height": 176
        },
        "id": "DlvZS_W2-Anc",
        "outputId": "e2b9ae7e-72a2-4697-92ce-5c3bf7ff365f"
      },
      "execution_count": null,
      "outputs": [
        {
          "output_type": "error",
          "ename": "NameError",
          "evalue": "name 'y' is not defined",
          "traceback": [
            "\u001b[0;31m---------------------------------------------------------------------------\u001b[0m",
            "\u001b[0;31mNameError\u001b[0m                                 Traceback (most recent call last)",
            "\u001b[0;32m<ipython-input-19-b191a19786b1>\u001b[0m in \u001b[0;36m<cell line: 0>\u001b[0;34m()\u001b[0m\n\u001b[1;32m      4\u001b[0m \u001b[0;34m\u001b[0m\u001b[0m\n\u001b[1;32m      5\u001b[0m \u001b[0mz\u001b[0m \u001b[0;34m=\u001b[0m \u001b[0msquare\u001b[0m\u001b[0;34m(\u001b[0m\u001b[0;36m10\u001b[0m\u001b[0;34m)\u001b[0m\u001b[0;34m\u001b[0m\u001b[0;34m\u001b[0m\u001b[0m\n\u001b[0;32m----> 6\u001b[0;31m \u001b[0mprint\u001b[0m\u001b[0;34m(\u001b[0m\u001b[0my\u001b[0m\u001b[0;34m)\u001b[0m\u001b[0;34m\u001b[0m\u001b[0;34m\u001b[0m\u001b[0m\n\u001b[0m",
            "\u001b[0;31mNameError\u001b[0m: name 'y' is not defined"
          ]
        }
      ]
    },
    {
      "cell_type": "code",
      "source": [
        "numbers = [1, 12, 13, 4]\n",
        "def foo(bar):\n",
        "    aug = str(bar) + \"street\"\n",
        "    return aug\n",
        "\n",
        "addresses = []\n",
        "for item in numbers:\n",
        "    addresses.append(foo(item))"
      ],
      "metadata": {
        "id": "VlHT8-jK-FWv"
      },
      "execution_count": null,
      "outputs": []
    },
    {
      "cell_type": "code",
      "source": [
        "def badsquare(x):\n",
        "    y = x ** power\n",
        "    return y\n",
        "\n",
        "power = 2\n",
        "result = badsquare(10)\n",
        "print(result)"
      ],
      "metadata": {
        "colab": {
          "base_uri": "https://localhost:8080/"
        },
        "id": "WyvDod17-kwl",
        "outputId": "103b2b35-6842-428c-e99c-2b0700fdb1b4"
      },
      "execution_count": null,
      "outputs": [
        {
          "output_type": "stream",
          "name": "stdout",
          "text": [
            "100\n"
          ]
        }
      ]
    },
    {
      "cell_type": "code",
      "source": [
        "def powerof(x, p):\n",
        "    global power  # a really...\n",
        "    power = p     # ...bad idea, but\n",
        "    y = x ** power\n",
        "    return y\n",
        "\n",
        "power = 3\n",
        "result = powerof(10, 2)\n",
        "print(result)\n",
        "print(power)\n"
      ],
      "metadata": {
        "colab": {
          "base_uri": "https://localhost:8080/"
        },
        "id": "DeV-BhFC-6Qw",
        "outputId": "af2f4cf0-01c2-4417-ad84-d0238116b71c"
      },
      "execution_count": null,
      "outputs": [
        {
          "output_type": "stream",
          "name": "stdout",
          "text": [
            "100\n",
            "2\n"
          ]
        }
      ]
    },
    {
      "cell_type": "code",
      "source": [
        "def square(x):\n",
        "    y = x * x\n",
        "    return y\n",
        "\n",
        "def sum_of_squares(x, y, z):\n",
        "    a = square(x)\n",
        "    b = square(y)\n",
        "    c = square(z)\n",
        "    return a + b + c\n",
        "\n",
        "a = -5\n",
        "b = 2\n",
        "c = 10\n",
        "\n",
        "result = sum_of_squares(a, b, c)\n",
        "print(result)\n"
      ],
      "metadata": {
        "colab": {
          "base_uri": "https://localhost:8080/"
        },
        "id": "1QB2WYnHA0hi",
        "outputId": "4acba113-2ffa-4fb1-aa21-7198765a1e59"
      },
      "execution_count": null,
      "outputs": [
        {
          "output_type": "stream",
          "name": "stdout",
          "text": [
            "129\n"
          ]
        }
      ]
    },
    {
      "cell_type": "code",
      "source": [
        "def most_common_letter(s):\n",
        "    frequencies = count_freqs(s)\n",
        "    return best_key(frequencies)\n",
        "\n",
        "def count_freqs(st):\n",
        "    d = {}\n",
        "    for c in st:\n",
        "        if c not in d:\n",
        "             d[c] = 0\n",
        "        d[c] = d[c] + 1\n",
        "    return d\n",
        "\n",
        "def best_key(dictionary):\n",
        "    ks = dictionary.keys()\n",
        "    best_key_so_far = list(ks)[0]  # Have to turn ks into a real list before using [] to select an item\n",
        "    for k in ks:\n",
        "        if dictionary[k] > dictionary[best_key_so_far]:\n",
        "            best_key_so_far = k\n",
        "    return best_key_so_far\n",
        "\n",
        "print(most_common_letter(\"abbbbbbbbbbbccccddddd\"))\n"
      ],
      "metadata": {
        "colab": {
          "base_uri": "https://localhost:8080/"
        },
        "id": "uHLoS0AaA5Cc",
        "outputId": "c512fa26-8773-42bd-bc2e-79c8581e04a2"
      },
      "execution_count": null,
      "outputs": [
        {
          "output_type": "stream",
          "name": "stdout",
          "text": [
            "b\n"
          ]
        }
      ]
    },
    {
      "cell_type": "code",
      "source": [
        "#this one is trickey notice function y isnt printed rather global y is\n",
        "def double(y):\n",
        "    y = 2 * y\n",
        "\n",
        "num = 5\n",
        "double(num)\n",
        "print(num)\n"
      ],
      "metadata": {
        "colab": {
          "base_uri": "https://localhost:8080/"
        },
        "id": "tojOffRBCYhs",
        "outputId": "69a5f21d-636b-4cac-bf69-32425030b3aa"
      },
      "execution_count": null,
      "outputs": [
        {
          "output_type": "stream",
          "name": "stdout",
          "text": [
            "5\n"
          ]
        }
      ]
    },
    {
      "cell_type": "code",
      "source": [
        "def changeit(lst):\n",
        "    lst[0] = \"Michigan\"\n",
        "    lst[1] = \"Wolverines\"\n",
        "\n",
        "mylst = ['our', 'students', 'are', 'awesome']\n",
        "changeit(mylst)\n",
        "print(mylst)"
      ],
      "metadata": {
        "colab": {
          "base_uri": "https://localhost:8080/"
        },
        "id": "P8TdHNn-ChRF",
        "outputId": "6385d935-aa32-4c49-97c7-1b525a848def"
      },
      "execution_count": null,
      "outputs": [
        {
          "output_type": "stream",
          "name": "stdout",
          "text": [
            "['Michigan', 'Wolverines', 'are', 'awesome']\n"
          ]
        }
      ]
    },
    {
      "cell_type": "markdown",
      "source": [
        "assert is used to check the answer"
      ],
      "metadata": {
        "id": "_OmEnj-HDOFT"
      }
    },
    {
      "cell_type": "code",
      "source": [
        "def square(x):\n",
        "    return x*x\n",
        "\n",
        "assert square(3) == 9"
      ],
      "metadata": {
        "id": "gEh6ZXYzDL8k"
      },
      "execution_count": null,
      "outputs": []
    },
    {
      "cell_type": "code",
      "source": [
        "def update_counts(letters, counts_d):\n",
        "    for c in letters:\n",
        "        counts_d[c] = 1\n",
        "        if c in counts_d:\n",
        "            counts_d[c] = counts_d[c] + 1\n",
        "\n",
        "\n",
        "counts = {'a': 3, 'b': 2}\n",
        "update_counts(\"aaab\", counts)\n",
        "# 3 more occurrences of a, so 6 in all\n",
        "assert counts['a'] == 6\n",
        "# 1 more occurrence of b, so 3 in all\n",
        "assert counts['b'] == 3"
      ],
      "metadata": {
        "colab": {
          "base_uri": "https://localhost:8080/",
          "height": 211
        },
        "id": "xoLonp60DxMj",
        "outputId": "d4aac072-65fb-41bf-95ab-874fb00024b4"
      },
      "execution_count": null,
      "outputs": [
        {
          "output_type": "error",
          "ename": "AssertionError",
          "evalue": "",
          "traceback": [
            "\u001b[0;31m---------------------------------------------------------------------------\u001b[0m",
            "\u001b[0;31mAssertionError\u001b[0m                            Traceback (most recent call last)",
            "\u001b[0;32m<ipython-input-28-3042d7a07621>\u001b[0m in \u001b[0;36m<cell line: 0>\u001b[0;34m()\u001b[0m\n\u001b[1;32m      9\u001b[0m \u001b[0mupdate_counts\u001b[0m\u001b[0;34m(\u001b[0m\u001b[0;34m\"aaab\"\u001b[0m\u001b[0;34m,\u001b[0m \u001b[0mcounts\u001b[0m\u001b[0;34m)\u001b[0m\u001b[0;34m\u001b[0m\u001b[0;34m\u001b[0m\u001b[0m\n\u001b[1;32m     10\u001b[0m \u001b[0;31m# 3 more occurrences of a, so 6 in all\u001b[0m\u001b[0;34m\u001b[0m\u001b[0;34m\u001b[0m\u001b[0m\n\u001b[0;32m---> 11\u001b[0;31m \u001b[0;32massert\u001b[0m \u001b[0mcounts\u001b[0m\u001b[0;34m[\u001b[0m\u001b[0;34m'a'\u001b[0m\u001b[0;34m]\u001b[0m \u001b[0;34m==\u001b[0m \u001b[0;36m6\u001b[0m\u001b[0;34m\u001b[0m\u001b[0;34m\u001b[0m\u001b[0m\n\u001b[0m\u001b[1;32m     12\u001b[0m \u001b[0;31m# 1 more occurrence of b, so 3 in all\u001b[0m\u001b[0;34m\u001b[0m\u001b[0;34m\u001b[0m\u001b[0m\n\u001b[1;32m     13\u001b[0m \u001b[0;32massert\u001b[0m \u001b[0mcounts\u001b[0m\u001b[0;34m[\u001b[0m\u001b[0;34m'b'\u001b[0m\u001b[0;34m]\u001b[0m \u001b[0;34m==\u001b[0m \u001b[0;36m3\u001b[0m\u001b[0;34m\u001b[0m\u001b[0;34m\u001b[0m\u001b[0m\n",
            "\u001b[0;31mAssertionError\u001b[0m: "
          ]
        }
      ]
    },
    {
      "cell_type": "markdown",
      "source": [
        "Tuple"
      ],
      "metadata": {
        "id": "bPTZSY8BKgTh"
      }
    },
    {
      "cell_type": "code",
      "source": [
        "julia = (\"Julia\", \"Roberts\", 1967, \"Duplicity\", 2009, \"Actress\", \"Atlanta, Georgia\")\n",
        "# or equivalently\n",
        "julia = \"Julia\", \"Roberts\", 1967, \"Duplicity\", 2009, \"Actress\", \"Atlanta, Georgia\"\n",
        "print(julia[4])\n"
      ],
      "metadata": {
        "colab": {
          "base_uri": "https://localhost:8080/"
        },
        "id": "zBT4qRlVKk6D",
        "outputId": "61d4e424-81d5-40f1-c834-56e8e194d645"
      },
      "execution_count": null,
      "outputs": [
        {
          "output_type": "stream",
          "name": "stdout",
          "text": [
            "2009\n"
          ]
        }
      ]
    },
    {
      "cell_type": "code",
      "source": [
        "practice=\"y\",\"h\",\"z\",\"x\"\n",
        "print(type(practice))"
      ],
      "metadata": {
        "colab": {
          "base_uri": "https://localhost:8080/"
        },
        "id": "eekeEviPMBEn",
        "outputId": "7c3e8034-85a0-4225-f3c9-8d97b981ea3c"
      },
      "execution_count": null,
      "outputs": [
        {
          "output_type": "stream",
          "name": "stdout",
          "text": [
            "<class 'tuple'>\n"
          ]
        }
      ]
    },
    {
      "cell_type": "code",
      "source": [
        "# Provided is a list of tuples. Create another list called t_check that contains the third element of every tuple.\n",
        "lst_tups = [\n",
        "    ('Articuno', 'Moltres', 'Zaptos'),\n",
        "    ('Beedrill', 'Metapod', 'Charizard', 'Venasaur', 'Squirtle'),\n",
        "    ('Oddish', 'Poliwag', 'Diglett', 'Bellsprout'),\n",
        "    ('Ponyta', \"Farfetch'd\", \"Tauros\", 'Dragonite'),\n",
        "    ('Hoothoot', 'Chikorita', 'Lanturn', 'Flaaffy', 'Unown', 'Teddiursa', 'Phanpy'),\n",
        "    ('Loudred', 'Volbeat', 'Wailord', 'Seviper', 'Sealeo')\n",
        "]\n",
        "\n",
        "# Create an empty list to store the third elements\n",
        "t_check = []\n",
        "\n",
        "# Iterate over each tuple in the list\n",
        "for tup in lst_tups:\n",
        "    # Check if the tuple has at least 3 elements\n",
        "    if len(tup) > 2:\n",
        "        # Add the third element of the tuple to t_check\n",
        "        t_check.append(tup[2])\n",
        "\n",
        "# Print the result\n",
        "print(t_check)\n"
      ],
      "metadata": {
        "colab": {
          "base_uri": "https://localhost:8080/"
        },
        "id": "WoqwBob3Mb8s",
        "outputId": "90ca252f-4ca9-447d-f1b9-41466a889669"
      },
      "execution_count": null,
      "outputs": [
        {
          "output_type": "stream",
          "name": "stdout",
          "text": [
            "['Zaptos', 'Charizard', 'Diglett', 'Tauros', 'Lanturn', 'Wailord']\n"
          ]
        }
      ]
    },
    {
      "cell_type": "code",
      "source": [
        "# Provided list of tuples\n",
        "tups = [\n",
        "    ('a', 'b', 'c'),\n",
        "    (8, 7, 6, 5),\n",
        "    ('blue', 'green', 'yellow', 'orange', 'red'),\n",
        "    (5.6, 9.99, 2.5, 8.2),\n",
        "    ('squirrel', 'chipmunk')\n",
        "]\n",
        "\n",
        "# Initialize an empty list to store the second elements\n",
        "seconds = []\n",
        "\n",
        "# Iterate over each tuple in the list\n",
        "for tup in tups:\n",
        "    # Check if the tuple has at least 2 elements\n",
        "    if len(tup) > 1:\n",
        "        # Append the second element to the 'seconds' list\n",
        "        seconds.append(tup[1])\n",
        "\n",
        "# Print the result\n",
        "print(seconds)\n"
      ],
      "metadata": {
        "colab": {
          "base_uri": "https://localhost:8080/"
        },
        "id": "Mq92G4QAMztY",
        "outputId": "940cc9e1-2060-4613-82f3-539498591613"
      },
      "execution_count": null,
      "outputs": [
        {
          "output_type": "stream",
          "name": "stdout",
          "text": [
            "['b', 7, 'green', 9.99, 'chipmunk']\n"
          ]
        }
      ]
    },
    {
      "cell_type": "code",
      "source": [
        "def circleInfo(r):\n",
        "    \"\"\" Return (circumference, area) of a circle of radius r \"\"\"\n",
        "    c = 2 * 3.14159 * r\n",
        "    a = 3.14159 * r * r\n",
        "    return (c, a)\n",
        "\n",
        "print(circleInfo(10))\n"
      ],
      "metadata": {
        "colab": {
          "base_uri": "https://localhost:8080/"
        },
        "id": "WLEYZr1gM5ui",
        "outputId": "ae17f37e-cb2a-428e-c3ca-285f47a9241b"
      },
      "execution_count": null,
      "outputs": [
        {
          "output_type": "stream",
          "name": "stdout",
          "text": [
            "(62.8318, 314.159)\n"
          ]
        }
      ]
    },
    {
      "cell_type": "code",
      "source": [
        "def circleInfo(r):\n",
        "    \"\"\" Return (circumference, area) of a circle of radius r \"\"\"\n",
        "    c = 2 * 3.14159 * r\n",
        "    a = 3.14159 * r * r\n",
        "    return c, a\n",
        "\n",
        "print(circleInfo(10))"
      ],
      "metadata": {
        "colab": {
          "base_uri": "https://localhost:8080/"
        },
        "id": "5lLGJrxtM7a7",
        "outputId": "f51190e4-2362-449f-d5d8-234220985069"
      },
      "execution_count": null,
      "outputs": [
        {
          "output_type": "stream",
          "name": "stdout",
          "text": [
            "(62.8318, 314.159)\n"
          ]
        }
      ]
    },
    {
      "cell_type": "code",
      "source": [
        "def circleInfo(r):\n",
        "    \"\"\" Return (circumference, area) of a circle of radius r \"\"\"\n",
        "    c = 2 * 3.14159 * r\n",
        "    a = 3.14159 * r * r\n",
        "    return c, a\n",
        "\n",
        "print(circleInfo(10))\n",
        "\n",
        "circumference, area = circleInfo(10)\n",
        "print(circumference)\n",
        "print(area)\n",
        "\n",
        "circumference_two, area_two = circleInfo(45)\n",
        "print(circumference_two)\n",
        "print(area_two)\n"
      ],
      "metadata": {
        "colab": {
          "base_uri": "https://localhost:8080/"
        },
        "id": "aNDZMonHM9MT",
        "outputId": "2a2001ea-c3be-4b11-d547-12af30b8626f"
      },
      "execution_count": null,
      "outputs": [
        {
          "output_type": "stream",
          "name": "stdout",
          "text": [
            "(62.8318, 314.159)\n",
            "62.8318\n",
            "314.159\n",
            "282.74309999999997\n",
            "6361.719749999999\n"
          ]
        }
      ]
    },
    {
      "cell_type": "code",
      "source": [
        "def information(name,birth_year,fav_color,hometown):\n",
        "    return name,birth_year,fav_color,hometown\n"
      ],
      "metadata": {
        "id": "I5Q4Voo8NQvN"
      },
      "execution_count": null,
      "outputs": []
    },
    {
      "cell_type": "markdown",
      "source": [
        "tuple unpacking\n"
      ],
      "metadata": {
        "id": "m9xqY9_aNiie"
      }
    },
    {
      "cell_type": "code",
      "source": [
        "julia = \"Julia\", \"Roberts\", 1967, \"Duplicity\", 2009, \"Actress\", \"Atlanta, Georgia\"\n",
        "\n",
        "name, surname, birth_year, movie, movie_year, profession, birth_place = julia"
      ],
      "metadata": {
        "id": "W-Nr92ZHNj8v"
      },
      "execution_count": null,
      "outputs": []
    },
    {
      "cell_type": "code",
      "source": [
        "(a, b, c, d) = (1, 2, 3) # ValueError: need more than 3 values to unpack"
      ],
      "metadata": {
        "id": "9xW736ynOgr8"
      },
      "execution_count": null,
      "outputs": []
    },
    {
      "cell_type": "code",
      "source": [
        "a = 1\n",
        "b = 2\n",
        "temp = a\n",
        "a = b\n",
        "b = temp\n",
        "print(a, b, temp)"
      ],
      "metadata": {
        "colab": {
          "base_uri": "https://localhost:8080/"
        },
        "id": "H1sVzU9_OjDd",
        "outputId": "205696e0-1de3-4ee6-f24a-9e9232f3e0ba"
      },
      "execution_count": null,
      "outputs": [
        {
          "output_type": "stream",
          "name": "stdout",
          "text": [
            "2 1 1\n"
          ]
        }
      ]
    },
    {
      "cell_type": "code",
      "source": [
        "a = 1\n",
        "b = 2\n",
        "(a, b) = (b, a)\n",
        "print(a, b)\n"
      ],
      "metadata": {
        "colab": {
          "base_uri": "https://localhost:8080/"
        },
        "id": "JXCaaKdNOq8R",
        "outputId": "903cec4b-7859-4f5c-9b40-2252d43502df"
      },
      "execution_count": null,
      "outputs": [
        {
          "output_type": "stream",
          "name": "stdout",
          "text": [
            "2 1\n"
          ]
        }
      ]
    },
    {
      "cell_type": "code",
      "source": [
        "authors = [('Paul', 'Resnick'), ('Brad', 'Miller'), ('Lauren', 'Murphy')]\n",
        "for first_name, last_name in authors:\n",
        "    print(\"first name:\", first_name, \"last name:\", last_name)\n",
        "#Unpacking Into Iterator Variables"
      ],
      "metadata": {
        "colab": {
          "base_uri": "https://localhost:8080/"
        },
        "id": "RdmjMnaiOuYE",
        "outputId": "5bde555a-a85e-4d36-d78f-86601c86a8e7"
      },
      "execution_count": null,
      "outputs": [
        {
          "output_type": "stream",
          "name": "stdout",
          "text": [
            "first name: Paul last name: Resnick\n",
            "first name: Brad last name: Miller\n",
            "first name: Lauren last name: Murphy\n"
          ]
        }
      ]
    },
    {
      "cell_type": "code",
      "source": [
        "#The Pythonic Way to Enumerate Items in a Sequence\n",
        "fruits = ['apple', 'pear', 'apricot', 'cherry', 'peach']\n",
        "for n in range(len(fruits)):\n",
        "    print(n, fruits[n])"
      ],
      "metadata": {
        "colab": {
          "base_uri": "https://localhost:8080/"
        },
        "id": "aCbP86Q8Oyhk",
        "outputId": "332c926c-e846-4842-c475-b8840ef7b6f3"
      },
      "execution_count": null,
      "outputs": [
        {
          "output_type": "stream",
          "name": "stdout",
          "text": [
            "0 apple\n",
            "1 pear\n",
            "2 apricot\n",
            "3 cherry\n",
            "4 peach\n"
          ]
        }
      ]
    },
    {
      "cell_type": "code",
      "source": [
        "fruits = ['apple', 'pear', 'apricot', 'cherry', 'peach']\n",
        "for item in enumerate(fruits):\n",
        "    print(item[0], item[1])\n"
      ],
      "metadata": {
        "colab": {
          "base_uri": "https://localhost:8080/"
        },
        "id": "tmxlYBsXO4n3",
        "outputId": "1e111746-5aee-4b02-b21f-719bcdf441e4"
      },
      "execution_count": null,
      "outputs": [
        {
          "output_type": "stream",
          "name": "stdout",
          "text": [
            "0 apple\n",
            "1 pear\n",
            "2 apricot\n",
            "3 cherry\n",
            "4 peach\n"
          ]
        }
      ]
    },
    {
      "cell_type": "code",
      "source": [
        "fruits = ['apple', 'pear', 'apricot', 'cherry', 'peach']\n",
        "for idx, fruit in enumerate(fruits):\n",
        "    print(idx, fruit)"
      ],
      "metadata": {
        "colab": {
          "base_uri": "https://localhost:8080/"
        },
        "id": "NVrwx955O6ef",
        "outputId": "dc566d7e-0aab-4e95-951e-a8b8d01c4846"
      },
      "execution_count": null,
      "outputs": [
        {
          "output_type": "stream",
          "name": "stdout",
          "text": [
            "0 apple\n",
            "1 pear\n",
            "2 apricot\n",
            "3 cherry\n",
            "4 peach\n"
          ]
        }
      ]
    },
    {
      "cell_type": "code",
      "source": [
        "water, fire, electric, grass = \"Squirtle\", \"Charmander\", \"Pikachu\", \"Bulbasaur\""
      ],
      "metadata": {
        "id": "Y3m8tX9rPYFO"
      },
      "execution_count": null,
      "outputs": []
    },
    {
      "cell_type": "code",
      "source": [
        "v1, v2, v3, v4 = 1, 2, 3, 4"
      ],
      "metadata": {
        "id": "YyaldSNSPYom"
      },
      "execution_count": null,
      "outputs": []
    },
    {
      "cell_type": "code",
      "source": [
        "pokemon = {'Rattata': 19, 'Machop': 66, 'Seel': 86, 'Volbeat': 86, 'Solrock': 126}\n",
        "\n",
        "p_names = []\n",
        "p_number = []\n",
        "\n",
        "for key, value in pokemon.items():\n",
        "    p_names.append(key)\n",
        "    p_number.append(value)\n",
        "\n",
        "print(p_names)\n",
        "print(p_number)"
      ],
      "metadata": {
        "colab": {
          "base_uri": "https://localhost:8080/"
        },
        "id": "Ya2lkuykPaTf",
        "outputId": "fe55773a-fc6f-42da-d491-d5f8bb0e3ac7"
      },
      "execution_count": null,
      "outputs": [
        {
          "output_type": "stream",
          "name": "stdout",
          "text": [
            "['Rattata', 'Machop', 'Seel', 'Volbeat', 'Solrock']\n",
            "[19, 66, 86, 86, 126]\n"
          ]
        }
      ]
    },
    {
      "cell_type": "code",
      "source": [
        "track_medal_counts = {'shot put': 1, 'long jump': 3, '100 meters': 2, '400 meters': 2, '100 meter hurdles': 3,\n",
        "                      'triple jump': 3, 'steeplechase': 2, '1500 meters': 1, '5K': 0, '10K': 0, 'marathon': 0,\n",
        "                      '200 meters': 0, '400 meter hurdles': 0, 'high jump': 1}\n",
        "\n",
        "track_events = []\n",
        "\n",
        "for key, value in track_medal_counts.items():\n",
        "    track_events.append(key)\n",
        "\n",
        "print(track_events)"
      ],
      "metadata": {
        "colab": {
          "base_uri": "https://localhost:8080/"
        },
        "id": "6al2N33lPdYJ",
        "outputId": "622d4066-5e59-4642-a298-b4e5a6991628"
      },
      "execution_count": null,
      "outputs": [
        {
          "output_type": "stream",
          "name": "stdout",
          "text": [
            "['shot put', 'long jump', '100 meters', '400 meters', '100 meter hurdles', 'triple jump', 'steeplechase', '1500 meters', '5K', '10K', 'marathon', '200 meters', '400 meter hurdles', 'high jump']\n"
          ]
        }
      ]
    },
    {
      "cell_type": "code",
      "source": [
        "def add(x, y):\n",
        "    return x + y\n",
        "\n",
        "print(add(3, 4))\n",
        "z = (5, 4)\n",
        "print(add(z)) # this line causes an error"
      ],
      "metadata": {
        "colab": {
          "base_uri": "https://localhost:8080/",
          "height": 193
        },
        "id": "7bCQabtiPk3U",
        "outputId": "12da16c2-fdae-4b34-c956-e9b0031a0e47"
      },
      "execution_count": null,
      "outputs": [
        {
          "output_type": "stream",
          "name": "stdout",
          "text": [
            "7\n"
          ]
        },
        {
          "output_type": "error",
          "ename": "TypeError",
          "evalue": "add() missing 1 required positional argument: 'y'",
          "traceback": [
            "\u001b[0;31m---------------------------------------------------------------------------\u001b[0m",
            "\u001b[0;31mTypeError\u001b[0m                                 Traceback (most recent call last)",
            "\u001b[0;32m<ipython-input-47-72faca24a64b>\u001b[0m in \u001b[0;36m<cell line: 0>\u001b[0;34m()\u001b[0m\n\u001b[1;32m      4\u001b[0m \u001b[0mprint\u001b[0m\u001b[0;34m(\u001b[0m\u001b[0madd\u001b[0m\u001b[0;34m(\u001b[0m\u001b[0;36m3\u001b[0m\u001b[0;34m,\u001b[0m \u001b[0;36m4\u001b[0m\u001b[0;34m)\u001b[0m\u001b[0;34m)\u001b[0m\u001b[0;34m\u001b[0m\u001b[0;34m\u001b[0m\u001b[0m\n\u001b[1;32m      5\u001b[0m \u001b[0mz\u001b[0m \u001b[0;34m=\u001b[0m \u001b[0;34m(\u001b[0m\u001b[0;36m5\u001b[0m\u001b[0;34m,\u001b[0m \u001b[0;36m4\u001b[0m\u001b[0;34m)\u001b[0m\u001b[0;34m\u001b[0m\u001b[0;34m\u001b[0m\u001b[0m\n\u001b[0;32m----> 6\u001b[0;31m \u001b[0mprint\u001b[0m\u001b[0;34m(\u001b[0m\u001b[0madd\u001b[0m\u001b[0;34m(\u001b[0m\u001b[0mz\u001b[0m\u001b[0;34m)\u001b[0m\u001b[0;34m)\u001b[0m \u001b[0;31m# this line causes an error\u001b[0m\u001b[0;34m\u001b[0m\u001b[0;34m\u001b[0m\u001b[0m\n\u001b[0m",
            "\u001b[0;31mTypeError\u001b[0m: add() missing 1 required positional argument: 'y'"
          ]
        }
      ]
    },
    {
      "cell_type": "code",
      "source": [
        "def add(x, y):\n",
        "    return x + y\n",
        "\n",
        "print(add(3, 4))\n",
        "z = (5, 4)\n",
        "print(add(*z)) # this line will cause the values to be unpacked"
      ],
      "metadata": {
        "colab": {
          "base_uri": "https://localhost:8080/"
        },
        "id": "GEDY3quhPmxB",
        "outputId": "15bde464-169b-43ec-f6c1-0e51a169515a"
      },
      "execution_count": null,
      "outputs": [
        {
          "output_type": "stream",
          "name": "stdout",
          "text": [
            "7\n",
            "9\n"
          ]
        }
      ]
    },
    {
      "cell_type": "markdown",
      "source": [
        "While loop\n"
      ],
      "metadata": {
        "id": "X4zZw0wmYDBV"
      }
    },
    {
      "cell_type": "code",
      "source": [
        "def sumTo(aBound):\n",
        "    \"\"\" Return the sum of 1+2+3 ... n \"\"\"\n",
        "\n",
        "    theSum  = 0\n",
        "    aNumber = 1\n",
        "    while aNumber <= aBound:\n",
        "        theSum = theSum + aNumber\n",
        "        aNumber = aNumber + 1\n",
        "    return theSum\n",
        "\n",
        "print(sumTo(4))\n",
        "\n",
        "print(sumTo(1000))"
      ],
      "metadata": {
        "colab": {
          "base_uri": "https://localhost:8080/"
        },
        "id": "wK2FkPUuYEMF",
        "outputId": "4f60a195-b86d-4268-81dc-25ba1b83e318"
      },
      "execution_count": 1,
      "outputs": [
        {
          "output_type": "stream",
          "name": "stdout",
          "text": [
            "10\n",
            "500500\n"
          ]
        }
      ]
    },
    {
      "cell_type": "code",
      "source": [
        "#Write a while loop that is initialized at 0 and stops at 15. If the counter is an even number, append the counter to a list called eve_nums.\n",
        "eve_nums=[]\n",
        "number=0\n",
        "while number<15:\n",
        "    if number%2==0:\n",
        "        eve_nums.append(number)\n",
        "    number+=1"
      ],
      "metadata": {
        "id": "hMFIvAz2Yw86"
      },
      "execution_count": 2,
      "outputs": []
    },
    {
      "cell_type": "code",
      "source": [
        "#listener loop runs loops until we ask it to stop\n",
        "theSum = 0\n",
        "x = -1\n",
        "while (x != 0):\n",
        "    x = int(input(\"next number to add up (enter 0 if no more numbers): \"))\n",
        "    theSum = theSum + x\n",
        "\n",
        "print(theSum)\n"
      ],
      "metadata": {
        "colab": {
          "base_uri": "https://localhost:8080/"
        },
        "id": "1_WnlDcPY3ll",
        "outputId": "27da84a8-dfe5-4616-b541-69248f959afa"
      },
      "execution_count": 3,
      "outputs": [
        {
          "output_type": "stream",
          "name": "stdout",
          "text": [
            "next number to add up (enter 0 if no more numbers): 150\n",
            "next number to add up (enter 0 if no more numbers): 0\n",
            "150\n"
          ]
        }
      ]
    },
    {
      "cell_type": "code",
      "source": [
        "def checkout():\n",
        "    total = 0\n",
        "    count = 0\n",
        "    moreItems = True\n",
        "    while moreItems:\n",
        "        price = float(input('Enter price of item (0 when done): '))\n",
        "        if price != 0:\n",
        "            count = count + 1\n",
        "            total = total + price\n",
        "            print('Subtotal: $', total)\n",
        "        else:\n",
        "            moreItems = False\n",
        "    average = total / count\n",
        "    print('Total items:', count)\n",
        "    print('Total $', total)\n",
        "    print('Average price per item: $', average)\n",
        "\n",
        "checkout()"
      ],
      "metadata": {
        "id": "uSwTpAwHbHji"
      },
      "execution_count": null,
      "outputs": []
    },
    {
      "cell_type": "code",
      "source": [
        "def get_yes_or_no(message):\n",
        "    valid_input = False\n",
        "    while not valid_input:\n",
        "        answer = input(message)\n",
        "        answer = answer.upper() # convert to upper case\n",
        "        if answer == 'Y' or answer == 'N':\n",
        "            valid_input = True\n",
        "    return answer\n",
        "\n",
        "response = get_yes_or_no('Do you like lima beans? Y)es or N)o: ')\n",
        "if response == 'Y':\n",
        "    print('Great! They are very healthy.')\n",
        "else:\n",
        "    print('Too bad. If cooked right, they are quite tasty.')"
      ],
      "metadata": {
        "id": "jdb734fhbJMt"
      },
      "execution_count": null,
      "outputs": []
    },
    {
      "cell_type": "code",
      "source": [
        "import random\n",
        "import turtle\n",
        "\n",
        "\n",
        "def isInScreen(w, t):\n",
        "    if random.random() > 0.1:\n",
        "        return True\n",
        "    else:\n",
        "        return False\n",
        "\n",
        "\n",
        "t = turtle.Turtle()\n",
        "wn = turtle.Screen()\n",
        "\n",
        "t.shape('turtle')\n",
        "while isInScreen(wn, t):\n",
        "    coin = random.randrange(0, 2)\n",
        "    if coin == 0:              # heads\n",
        "        t.left(90)\n",
        "    else:                      # tails\n",
        "        t.right(90)\n",
        "\n",
        "    t.forward(50)\n",
        "\n",
        "wn.exitonclick()"
      ],
      "metadata": {
        "id": "BOIHeaNmbU6g"
      },
      "execution_count": null,
      "outputs": []
    },
    {
      "cell_type": "code",
      "source": [
        "import random\n",
        "import turtle\n",
        "\n",
        "def isInScreen(w,t):\n",
        "    leftBound = - w.window_width() / 2\n",
        "    rightBound = w.window_width() / 2\n",
        "    topBound = w.window_height() / 2\n",
        "    bottomBound = -w.window_height() / 2\n",
        "\n",
        "    turtleX = t.xcor()\n",
        "    turtleY = t.ycor()\n",
        "\n",
        "    stillIn = True\n",
        "    if turtleX > rightBound or turtleX < leftBound:\n",
        "        stillIn = False\n",
        "    if turtleY > topBound or turtleY < bottomBound:\n",
        "        stillIn = False\n",
        "\n",
        "    return stillIn\n",
        "\n",
        "t = turtle.Turtle()\n",
        "wn = turtle.Screen()\n",
        "\n",
        "t.shape('turtle')\n",
        "while isInScreen(wn,t):\n",
        "    coin = random.randrange(0, 2)\n",
        "    if coin == 0:\n",
        "        t.left(90)\n",
        "    else:\n",
        "        t.right(90)\n",
        "\n",
        "    t.forward(50)\n",
        "\n",
        "wn.exitonclick()"
      ],
      "metadata": {
        "id": "90U-n2fhbXHJ"
      },
      "execution_count": null,
      "outputs": []
    },
    {
      "cell_type": "code",
      "source": [
        "while True:\n",
        "    print(\"this phrase will always print\")\n",
        "    break\n",
        "    print(\"Does this phrase print?\")\n",
        "\n",
        "print(\"We are done with the while loop.\")\n"
      ],
      "metadata": {
        "colab": {
          "base_uri": "https://localhost:8080/"
        },
        "id": "_NbdN4_abvEl",
        "outputId": "91e42dc4-2363-484f-8668-c9953df05a62"
      },
      "execution_count": 4,
      "outputs": [
        {
          "output_type": "stream",
          "name": "stdout",
          "text": [
            "this phrase will always print\n",
            "We are done with the while loop.\n"
          ]
        }
      ]
    },
    {
      "cell_type": "code",
      "source": [
        "x = 0\n",
        "while x < 10:\n",
        "    print(\"we are incrementing x\")\n",
        "    if x % 2 == 0:\n",
        "        x += 3\n",
        "        continue\n",
        "    if x % 3 == 0:\n",
        "        x += 5\n",
        "    x += 1\n",
        "print(\"Done with our loop! X has the value: \" + str(x))\n"
      ],
      "metadata": {
        "colab": {
          "base_uri": "https://localhost:8080/"
        },
        "id": "Mn2-ywtubxHV",
        "outputId": "3829d639-a473-47bb-cfe7-d46a3b32f0cb"
      },
      "execution_count": 5,
      "outputs": [
        {
          "output_type": "stream",
          "name": "stdout",
          "text": [
            "we are incrementing x\n",
            "we are incrementing x\n",
            "we are incrementing x\n",
            "Done with our loop! X has the value: 15\n"
          ]
        }
      ]
    },
    {
      "cell_type": "code",
      "source": [
        "#infinite loop\n",
        "b=15\n",
        "while b<60:\n",
        "  b=5\n",
        "  print(\"Bugs\")\n",
        "  b=b+7"
      ],
      "metadata": {
        "id": "j2o94-sbcNlD"
      },
      "execution_count": null,
      "outputs": []
    },
    {
      "cell_type": "code",
      "source": [
        "#The int function provides an optional parameter for the base. When it is not specified, the number is converted to an integer assuming the original number was in base 10. We say that 10 is the default value. So int(\"100\") is the same as invoking int(\"100\", 10). We can override the default of 10 by supplying a different value.\n",
        "print(int(\"100\"))\n",
        "print(int(\"100\", 10))   # same thing, 10 is the default value for the base\n",
        "print(int(\"100\", 8))     # now the base is 8, so the result is 1*64 = 64\n"
      ],
      "metadata": {
        "colab": {
          "base_uri": "https://localhost:8080/"
        },
        "id": "y89uwz8HcOfs",
        "outputId": "0978d001-692b-4299-d276-0477b63110e5"
      },
      "execution_count": 7,
      "outputs": [
        {
          "output_type": "stream",
          "name": "stdout",
          "text": [
            "100\n",
            "100\n",
            "64\n"
          ]
        }
      ]
    },
    {
      "cell_type": "code",
      "source": [
        "#Function with Default Arguments and Different Calls\n",
        "initial = 7\n",
        "\n",
        "def f(x, y=3, z=initial):\n",
        "    print(\"x, y, z, are: \" + str(x) + \", \" + str(y) + \", \" + str(z))\n",
        "\n",
        "f(2)          # Call 1\n",
        "f(2, 5)       # Call 2\n",
        "f(2, 5, 8)    # Call 3\n"
      ],
      "metadata": {
        "colab": {
          "base_uri": "https://localhost:8080/"
        },
        "id": "Y6c62Bf7liyQ",
        "outputId": "82691ec0-840a-4c56-b73a-6c436ad6c597"
      },
      "execution_count": 8,
      "outputs": [
        {
          "output_type": "stream",
          "name": "stdout",
          "text": [
            "x, y, z, are: 2, 3, 7\n",
            "x, y, z, are: 2, 5, 7\n",
            "x, y, z, are: 2, 5, 8\n"
          ]
        }
      ]
    },
    {
      "cell_type": "code",
      "source": [
        "#Default Value Capture Behavior\n",
        "initial = 7\n",
        "\n",
        "def f(x, y=3, z=initial):\n",
        "    print(\"x, y, z, are: \" + str(x) + \", \" + str(y) + \", \" + str(z))\n",
        "\n",
        "initial = 10  # Change the value of `initial`\n",
        "f(2)          # Call to see if `z` changes\n"
      ],
      "metadata": {
        "colab": {
          "base_uri": "https://localhost:8080/"
        },
        "id": "I1_il0aRlyDP",
        "outputId": "53629c78-0359-4e07-9ec2-20bba283407d"
      },
      "execution_count": 9,
      "outputs": [
        {
          "output_type": "stream",
          "name": "stdout",
          "text": [
            "x, y, z, are: 2, 3, 7\n"
          ]
        }
      ]
    },
    {
      "cell_type": "code",
      "source": [
        "#Function with Mutable Default Argument\n",
        "def f(a, L=[]):\n",
        "    L.append(a)\n",
        "    return L\n",
        "\n",
        "print(f(1))                # First call\n",
        "print(f(2))                # Second call\n",
        "print(f(3))                # Third call\n",
        "print(f(4, [\"Hello\"]))     # Provide a new list\n",
        "print(f(5, [\"Hello\"]))     # Provide a new list again\n"
      ],
      "metadata": {
        "colab": {
          "base_uri": "https://localhost:8080/"
        },
        "id": "uMwWodwZlzew",
        "outputId": "94c362cc-1697-47c9-fcdf-8db5f96831be"
      },
      "execution_count": 10,
      "outputs": [
        {
          "output_type": "stream",
          "name": "stdout",
          "text": [
            "[1]\n",
            "[1, 2]\n",
            "[1, 2, 3]\n",
            "['Hello', 4]\n",
            "['Hello', 5]\n"
          ]
        }
      ]
    },
    {
      "cell_type": "code",
      "source": [
        "def str_mult(string, num=3):\n",
        "    return string * num\n",
        "\n",
        "# Example usage:\n",
        "print(str_mult(\"hello\"))        # Default multiplier (3): \"hellohellohello\"\n",
        "print(str_mult(\"hi\", 5))        # Multiplier (5): \"hihihihihi\"\n",
        "print(str_mult(\"test\", 0))      # Multiplier (0): \"\"\n"
      ],
      "metadata": {
        "colab": {
          "base_uri": "https://localhost:8080/"
        },
        "id": "f8UTM7ApmIbC",
        "outputId": "3f7439f0-1375-4e49-96b8-c3313da6e1d9"
      },
      "execution_count": 11,
      "outputs": [
        {
          "output_type": "stream",
          "name": "stdout",
          "text": [
            "hellohellohello\n",
            "hihihihihi\n",
            "\n"
          ]
        }
      ]
    },
    {
      "cell_type": "code",
      "source": [
        "def parrot(voltage, state='a stiff', action='voom', type='Norwegian Blue'):\n",
        "\t    print(\"-- This parrot wouldn't\" + action,)\n",
        "\t    print(\"if you put\" + str(voltage) + \"volts through it.\")\n",
        "\t    print(\"-- Lovely plumage, the\" +  type)\n",
        "\t    print(\"-- It's \" + state + \"!\")\n",
        "\n",
        "parrot(1000)                                          # 1 positional argument\n",
        "parrot(voltage=1000)                                  # 1 keyword argument\n",
        "parrot(voltage=1000000, action='VOOOOOM')             # 2 keyword arguments\n",
        "parrot(action='VOOOOOM', voltage=1000000)             # 2 keyword arguments\n",
        "parrot('a million', 'bereft of life', 'jump')         # 3 positional arguments\n",
        "parrot('a thousand', state='pushing up the daisies')  # 1 positional, 1 keyword\n",
        ""
      ],
      "metadata": {
        "colab": {
          "base_uri": "https://localhost:8080/"
        },
        "id": "HL4JdX7DmJok",
        "outputId": "797cb843-32d2-4174-9bce-fd1e967c2f2c"
      },
      "execution_count": 12,
      "outputs": [
        {
          "output_type": "stream",
          "name": "stdout",
          "text": [
            "-- This parrot wouldn'tvoom\n",
            "if you put1000volts through it.\n",
            "-- Lovely plumage, theNorwegian Blue\n",
            "-- It's a stiff!\n",
            "-- This parrot wouldn'tvoom\n",
            "if you put1000volts through it.\n",
            "-- Lovely plumage, theNorwegian Blue\n",
            "-- It's a stiff!\n",
            "-- This parrot wouldn'tVOOOOOM\n",
            "if you put1000000volts through it.\n",
            "-- Lovely plumage, theNorwegian Blue\n",
            "-- It's a stiff!\n",
            "-- This parrot wouldn'tVOOOOOM\n",
            "if you put1000000volts through it.\n",
            "-- Lovely plumage, theNorwegian Blue\n",
            "-- It's a stiff!\n",
            "-- This parrot wouldn'tjump\n",
            "if you puta millionvolts through it.\n",
            "-- Lovely plumage, theNorwegian Blue\n",
            "-- It's bereft of life!\n",
            "-- This parrot wouldn'tvoom\n",
            "if you puta thousandvolts through it.\n",
            "-- Lovely plumage, theNorwegian Blue\n",
            "-- It's pushing up the daisies!\n"
          ]
        }
      ]
    },
    {
      "cell_type": "code",
      "source": [
        "names_scores = [(\"Jack\",[67,89,91]),(\"Emily\",[72,95,42]),(\"Taylor\",[83,92,86])]\n",
        "for name, scores in names_scores:\n",
        "    print(\"The scores {nm} got were: {s1},{s2},{s3}.\".format(nm=name,s1=scores[0],s2=scores[1],s3=scores[2]))"
      ],
      "metadata": {
        "colab": {
          "base_uri": "https://localhost:8080/"
        },
        "id": "Gm4f2WPIoZ0Y",
        "outputId": "6199f633-ce32-4965-ce02-56834b99dcdd"
      },
      "execution_count": 13,
      "outputs": [
        {
          "output_type": "stream",
          "name": "stdout",
          "text": [
            "The scores Jack got were: 67,89,91.\n",
            "The scores Emily got were: 72,95,42.\n",
            "The scores Taylor got were: 83,92,86.\n"
          ]
        }
      ]
    },
    {
      "cell_type": "code",
      "source": [
        "# this works\n",
        "names = [\"Jack\",\"Jill\",\"Mary\"]\n",
        "for n in names:\n",
        "    print(\"'{}!' she yelled. '{}! {}, {}!'\".format(n,n,n,\"say hello\"))\n",
        "\n",
        "# but this also works!\n",
        "names = [\"Jack\",\"Jill\",\"Mary\"]\n",
        "for n in names:\n",
        "    print(\"'{0}!' she yelled. '{0}! {0}, {1}!'\".format(n,\"say hello\"))\n"
      ],
      "metadata": {
        "colab": {
          "base_uri": "https://localhost:8080/"
        },
        "id": "BllJcJFcoci4",
        "outputId": "ca1a40c8-aeee-47e5-cd76-953a56e5644a"
      },
      "execution_count": 14,
      "outputs": [
        {
          "output_type": "stream",
          "name": "stdout",
          "text": [
            "'Jack!' she yelled. 'Jack! Jack, say hello!'\n",
            "'Jill!' she yelled. 'Jill! Jill, say hello!'\n",
            "'Mary!' she yelled. 'Mary! Mary, say hello!'\n",
            "'Jack!' she yelled. 'Jack! Jack, say hello!'\n",
            "'Jill!' she yelled. 'Jill! Jill, say hello!'\n",
            "'Mary!' she yelled. 'Mary! Mary, say hello!'\n"
          ]
        }
      ]
    },
    {
      "cell_type": "code",
      "source": [
        "def multiply(string, mult_int=10):\n",
        "    return string * mult_int\n",
        "\n",
        "# Example usage:\n",
        "print(multiply(\"Hello\"))       # Output: \"Hello\" repeated 10 times\n",
        "print(multiply(\"Hello\", 3))    # Output: \"HelloHelloHello\"\n"
      ],
      "metadata": {
        "colab": {
          "base_uri": "https://localhost:8080/"
        },
        "id": "iohH0GzUozoU",
        "outputId": "7bb6ae6a-74e3-41c4-dfd9-599ee29b93e7"
      },
      "execution_count": 15,
      "outputs": [
        {
          "output_type": "stream",
          "name": "stdout",
          "text": [
            "HelloHelloHelloHelloHelloHelloHelloHelloHelloHello\n",
            "HelloHelloHello\n"
          ]
        }
      ]
    },
    {
      "cell_type": "code",
      "source": [
        "def waste(mar, var=\"Water\", marble=\"type\"):\n",
        "    final_string = var + \" \" + marble + \" \" + mar\n",
        "    return final_string\n",
        "\n",
        "# Example usage:\n",
        "print(waste(\"example\"))  # Output: \"Water type example\"\n"
      ],
      "metadata": {
        "id": "N_Q-wzSto1H6"
      },
      "execution_count": null,
      "outputs": []
    },
    {
      "cell_type": "code",
      "source": [
        "def count_long_words(words, min_length=5):\n",
        "    ct = 0\n",
        "    for word in words:\n",
        "        if len(word) >= min_length:\n",
        "            ct += 1\n",
        "    return ct"
      ],
      "metadata": {
        "id": "ytx6Df7ApVw0"
      },
      "execution_count": 16,
      "outputs": []
    },
    {
      "cell_type": "code",
      "source": [
        "def count_long_words(words, min_length=5):\n",
        "    ct = 0\n",
        "    for word in words:\n",
        "        if len(word) >= min_length:\n",
        "            ct += 1\n",
        "    return ct\n",
        "\n",
        "test_words = [\"\", \"1\", \"12\", \"123\", \"1234\", \"12345\", \"123456\"]\n",
        "assert count_long_words(test_words) == 2\n",
        "assert count_long_words(test_words, min_length=0) == 7\n",
        "assert count_long_words(test_words, min_length=4) == 3\n",
        "assert count_long_words(test_words, min_length=100) == 0"
      ],
      "metadata": {
        "id": "rDtmNkSopWWo"
      },
      "execution_count": 17,
      "outputs": []
    },
    {
      "cell_type": "code",
      "source": [
        "def distance(x1, y1, x2, y2):\n",
        "    return None\n",
        "\n",
        "assert distance(1, 2, 1, 2) == 0"
      ],
      "metadata": {
        "colab": {
          "base_uri": "https://localhost:8080/",
          "height": 176
        },
        "id": "1SAJVL0asDi3",
        "outputId": "d06592fb-66b6-49ce-c248-9b3ce646a9df"
      },
      "execution_count": 18,
      "outputs": [
        {
          "output_type": "error",
          "ename": "AssertionError",
          "evalue": "",
          "traceback": [
            "\u001b[0;31m---------------------------------------------------------------------------\u001b[0m",
            "\u001b[0;31mAssertionError\u001b[0m                            Traceback (most recent call last)",
            "\u001b[0;32m<ipython-input-18-a086922f209e>\u001b[0m in \u001b[0;36m<cell line: 0>\u001b[0;34m()\u001b[0m\n\u001b[1;32m      2\u001b[0m     \u001b[0;32mreturn\u001b[0m \u001b[0;32mNone\u001b[0m\u001b[0;34m\u001b[0m\u001b[0;34m\u001b[0m\u001b[0m\n\u001b[1;32m      3\u001b[0m \u001b[0;34m\u001b[0m\u001b[0m\n\u001b[0;32m----> 4\u001b[0;31m \u001b[0;32massert\u001b[0m \u001b[0mdistance\u001b[0m\u001b[0;34m(\u001b[0m\u001b[0;36m1\u001b[0m\u001b[0;34m,\u001b[0m \u001b[0;36m2\u001b[0m\u001b[0;34m,\u001b[0m \u001b[0;36m1\u001b[0m\u001b[0;34m,\u001b[0m \u001b[0;36m2\u001b[0m\u001b[0;34m)\u001b[0m \u001b[0;34m==\u001b[0m \u001b[0;36m0\u001b[0m\u001b[0;34m\u001b[0m\u001b[0;34m\u001b[0m\u001b[0m\n\u001b[0m",
            "\u001b[0;31mAssertionError\u001b[0m: "
          ]
        }
      ]
    },
    {
      "cell_type": "code",
      "source": [
        "def distance(x1, y1, x2, y2):\n",
        "    return 0.0\n",
        "\n",
        "assert distance(1, 2, 1, 2) == 0\n"
      ],
      "metadata": {
        "id": "MG-pFWeasEF_"
      },
      "execution_count": 19,
      "outputs": []
    },
    {
      "cell_type": "code",
      "source": [
        "def distance(x1, y1, x2, y2):\n",
        "    return 0\n",
        "\n",
        "assert distance(1,2, 1,2) == 0\n",
        "assert distance(1,2, 4,6) == 5\n",
        "assert distance(0,0, 1,1) == 2**0.5\n"
      ],
      "metadata": {
        "colab": {
          "base_uri": "https://localhost:8080/",
          "height": 193
        },
        "id": "k86p03CIsGRA",
        "outputId": "624515c1-5442-4889-af8e-99b83cc73065"
      },
      "execution_count": 20,
      "outputs": [
        {
          "output_type": "error",
          "ename": "AssertionError",
          "evalue": "",
          "traceback": [
            "\u001b[0;31m---------------------------------------------------------------------------\u001b[0m",
            "\u001b[0;31mAssertionError\u001b[0m                            Traceback (most recent call last)",
            "\u001b[0;32m<ipython-input-20-9335532dc1f0>\u001b[0m in \u001b[0;36m<cell line: 0>\u001b[0;34m()\u001b[0m\n\u001b[1;32m      3\u001b[0m \u001b[0;34m\u001b[0m\u001b[0m\n\u001b[1;32m      4\u001b[0m \u001b[0;32massert\u001b[0m \u001b[0mdistance\u001b[0m\u001b[0;34m(\u001b[0m\u001b[0;36m1\u001b[0m\u001b[0;34m,\u001b[0m\u001b[0;36m2\u001b[0m\u001b[0;34m,\u001b[0m \u001b[0;36m1\u001b[0m\u001b[0;34m,\u001b[0m\u001b[0;36m2\u001b[0m\u001b[0;34m)\u001b[0m \u001b[0;34m==\u001b[0m \u001b[0;36m0\u001b[0m\u001b[0;34m\u001b[0m\u001b[0;34m\u001b[0m\u001b[0m\n\u001b[0;32m----> 5\u001b[0;31m \u001b[0;32massert\u001b[0m \u001b[0mdistance\u001b[0m\u001b[0;34m(\u001b[0m\u001b[0;36m1\u001b[0m\u001b[0;34m,\u001b[0m\u001b[0;36m2\u001b[0m\u001b[0;34m,\u001b[0m \u001b[0;36m4\u001b[0m\u001b[0;34m,\u001b[0m\u001b[0;36m6\u001b[0m\u001b[0;34m)\u001b[0m \u001b[0;34m==\u001b[0m \u001b[0;36m5\u001b[0m\u001b[0;34m\u001b[0m\u001b[0;34m\u001b[0m\u001b[0m\n\u001b[0m\u001b[1;32m      6\u001b[0m \u001b[0;32massert\u001b[0m \u001b[0mdistance\u001b[0m\u001b[0;34m(\u001b[0m\u001b[0;36m0\u001b[0m\u001b[0;34m,\u001b[0m\u001b[0;36m0\u001b[0m\u001b[0;34m,\u001b[0m \u001b[0;36m1\u001b[0m\u001b[0;34m,\u001b[0m\u001b[0;36m1\u001b[0m\u001b[0;34m)\u001b[0m \u001b[0;34m==\u001b[0m \u001b[0;36m2\u001b[0m\u001b[0;34m**\u001b[0m\u001b[0;36m0.5\u001b[0m\u001b[0;34m\u001b[0m\u001b[0;34m\u001b[0m\u001b[0m\n",
            "\u001b[0;31mAssertionError\u001b[0m: "
          ]
        }
      ]
    },
    {
      "cell_type": "code",
      "source": [
        "#test driven development distance of a length of a triangle\n",
        "def distance(x1, y1, x2, y2):\n",
        "    dx = x2 - x1\n",
        "    dy = y2 - y1\n",
        "    dsquared = dx**2 + dy**2\n",
        "    result = dsquared**0.5\n",
        "    return result\n",
        "\n",
        "assert distance(1,2, 1,2) == 0\n",
        "assert distance(1,2, 4,6) == 5\n",
        "assert distance(0,0, 1,1) == 2**0.5\n"
      ],
      "metadata": {
        "id": "47oVaBeCsH34"
      },
      "execution_count": 21,
      "outputs": []
    },
    {
      "cell_type": "markdown",
      "source": [
        "lambda functions (similar to regular functions)"
      ],
      "metadata": {
        "id": "fYasOiugtRZ0"
      }
    },
    {
      "cell_type": "code",
      "source": [
        "def last_char(s):\n",
        "    return s[-1]\n",
        "last_char = (lambda s: s[-1]) #lambda function equivalent function of the above function"
      ],
      "metadata": {
        "id": "7xK7_ITZtV2W"
      },
      "execution_count": 23,
      "outputs": []
    },
    {
      "cell_type": "code",
      "source": [
        "def f(x):\n",
        "    return x - 1\n",
        "\n",
        "print(f)\n",
        "print(type(f))\n",
        "print(f(3))\n",
        "\n",
        "print(lambda x: x-2)\n",
        "print(type(lambda x: x-2))\n",
        "print((lambda x: x-2)(6))"
      ],
      "metadata": {
        "colab": {
          "base_uri": "https://localhost:8080/"
        },
        "id": "8XWGmLRctX-_",
        "outputId": "09cb0f7f-2a56-4d47-99f3-eb235a40f912"
      },
      "execution_count": 24,
      "outputs": [
        {
          "output_type": "stream",
          "name": "stdout",
          "text": [
            "<function f at 0x7ef0c86ab060>\n",
            "<class 'function'>\n",
            "2\n",
            "<function <lambda> at 0x7ef0c86aa840>\n",
            "<class 'function'>\n",
            "4\n"
          ]
        }
      ]
    },
    {
      "cell_type": "markdown",
      "source": [
        "sorting\n"
      ],
      "metadata": {
        "id": "zOE8LCt-1oyr"
      }
    },
    {
      "cell_type": "code",
      "source": [
        "L1 = [1, 7, 4, -2, 3]\n",
        "L2 = [\"Cherry\", \"Apple\", \"Blueberry\"]\n",
        "\n",
        "L1.sort()\n",
        "print(L1)\n",
        "L2.sort()\n",
        "print(L2)\n"
      ],
      "metadata": {
        "colab": {
          "base_uri": "https://localhost:8080/"
        },
        "id": "S4NmWn_61qLN",
        "outputId": "ef4dacbe-8073-4167-aed5-6d4a47dcf487"
      },
      "execution_count": 25,
      "outputs": [
        {
          "output_type": "stream",
          "name": "stdout",
          "text": [
            "[-2, 1, 3, 4, 7]\n",
            "['Apple', 'Blueberry', 'Cherry']\n"
          ]
        }
      ]
    },
    {
      "cell_type": "code",
      "source": [
        "L2 = [\"Cherry\", \"Apple\", \"Blueberry\"]\n",
        "\n",
        "L3 = sorted(L2)\n",
        "print(L3)\n",
        "print(sorted(L2))\n",
        "print(L2) # unchanged\n",
        "\n",
        "print(\"----\")\n",
        "\n",
        "L2.sort()\n",
        "print(L2)\n",
        "print(L2.sort())  #return value is None"
      ],
      "metadata": {
        "colab": {
          "base_uri": "https://localhost:8080/"
        },
        "id": "hFfc3_Km1sIM",
        "outputId": "02b5f429-062a-4cdc-a0f4-99d096631960"
      },
      "execution_count": 26,
      "outputs": [
        {
          "output_type": "stream",
          "name": "stdout",
          "text": [
            "['Apple', 'Blueberry', 'Cherry']\n",
            "['Apple', 'Blueberry', 'Cherry']\n",
            "['Cherry', 'Apple', 'Blueberry']\n",
            "----\n",
            "['Apple', 'Blueberry', 'Cherry']\n",
            "None\n"
          ]
        }
      ]
    },
    {
      "cell_type": "code",
      "source": [
        "L2 = [\"Cherry\", \"Apple\", \"Blueberry\"]\n",
        "print(sorted(L2, reverse=True))"
      ],
      "metadata": {
        "colab": {
          "base_uri": "https://localhost:8080/"
        },
        "id": "WwDEhgea2UcQ",
        "outputId": "6f1172eb-40dd-4b98-ac0f-1c66dedd44ad"
      },
      "execution_count": 27,
      "outputs": [
        {
          "output_type": "stream",
          "name": "stdout",
          "text": [
            "['Cherry', 'Blueberry', 'Apple']\n"
          ]
        }
      ]
    },
    {
      "cell_type": "code",
      "source": [
        "#Sort the list, lst from largest to smallest. Save this new list to the variable lst_sorted.\n",
        "lst = [3, 5, 1, 6, 7, 2, 9, -2, 5]\n",
        "lst_sorted=(sorted(lst, reverse=True))"
      ],
      "metadata": {
        "id": "vbFrvr1d2hYO"
      },
      "execution_count": null,
      "outputs": []
    },
    {
      "cell_type": "markdown",
      "source": [
        "absolute function"
      ],
      "metadata": {
        "id": "Ct93xzZo4I2A"
      }
    },
    {
      "cell_type": "code",
      "source": [
        "L1 = [1, 7, 4, -2, 3]\n",
        "\n",
        "def absolute(x):\n",
        "    if x >= 0:\n",
        "        return x\n",
        "    else:\n",
        "        return -x\n",
        "\n",
        "print(absolute(3))\n",
        "print(absolute(-119))\n",
        "\n",
        "for y in L1:\n",
        "    print(absolute(y))\n"
      ],
      "metadata": {
        "colab": {
          "base_uri": "https://localhost:8080/"
        },
        "id": "0-HC1IQz4KhC",
        "outputId": "181589cd-f33c-4642-c46a-013b9e676e1c"
      },
      "execution_count": 28,
      "outputs": [
        {
          "output_type": "stream",
          "name": "stdout",
          "text": [
            "3\n",
            "119\n",
            "1\n",
            "7\n",
            "4\n",
            "2\n",
            "3\n"
          ]
        }
      ]
    },
    {
      "cell_type": "code",
      "source": [
        "L1 = [1, 7, 4, -2, 3]\n",
        "\n",
        "def absolute(x):\n",
        "    if x >= 0:\n",
        "        return x\n",
        "    else:\n",
        "        return -x\n",
        "\n",
        "L2 = sorted(L1, key=absolute)\n",
        "print(L2)\n",
        "\n",
        "#or in reverse order\n",
        "print(sorted(L1, reverse=True, key=absolute))"
      ],
      "metadata": {
        "colab": {
          "base_uri": "https://localhost:8080/"
        },
        "id": "33vZ-q5N4Sfk",
        "outputId": "b6a08d28-a63b-4eb3-8501-fb6a62024a8c"
      },
      "execution_count": 29,
      "outputs": [
        {
          "output_type": "stream",
          "name": "stdout",
          "text": [
            "[1, -2, 3, 4, 7]\n",
            "[7, 4, 3, -2, 1]\n"
          ]
        }
      ]
    },
    {
      "cell_type": "code",
      "source": [
        "L1 = [1, 7, 4, -2, 3]\n",
        "\n",
        "def absolute(x):\n",
        "    print(\"--- figuring out what to write on the post-it note for \" + str(x))\n",
        "    if x >= 0:\n",
        "        return x\n",
        "    else:\n",
        "        return -x\n",
        "\n",
        "print(\"About to call sorted\")\n",
        "L2 = sorted(L1, key=absolute)\n",
        "print(\"Finished execution of sorted\")\n",
        "print(L2)"
      ],
      "metadata": {
        "colab": {
          "base_uri": "https://localhost:8080/"
        },
        "id": "G9pH53wX4URF",
        "outputId": "1f373d9d-59dd-43e8-f2ee-1cbcde59ddae"
      },
      "execution_count": 30,
      "outputs": [
        {
          "output_type": "stream",
          "name": "stdout",
          "text": [
            "About to call sorted\n",
            "--- figuring out what to write on the post-it note for 1\n",
            "--- figuring out what to write on the post-it note for 7\n",
            "--- figuring out what to write on the post-it note for 4\n",
            "--- figuring out what to write on the post-it note for -2\n",
            "--- figuring out what to write on the post-it note for 3\n",
            "Finished execution of sorted\n",
            "[1, -2, 3, 4, 7]\n"
          ]
        }
      ]
    },
    {
      "cell_type": "markdown",
      "source": [
        "sorting a dictionary"
      ],
      "metadata": {
        "id": "89iBJLxW7IBL"
      }
    },
    {
      "cell_type": "code",
      "source": [
        "L = ['E', 'F', 'B', 'A', 'D', 'I', 'I', 'C', 'B', 'A', 'D', 'D', 'E', 'D']\n",
        "\n",
        "d = {}\n",
        "for x in L:\n",
        "    if x in d:\n",
        "        d[x] = d[x] + 1\n",
        "    else:\n",
        "        d[x] = 1\n",
        "for x in d.keys():\n",
        "    print(\"{} appears {} times\".format(x, d[x]))\n"
      ],
      "metadata": {
        "colab": {
          "base_uri": "https://localhost:8080/"
        },
        "id": "0zCs0cHA7Jwt",
        "outputId": "e5efaab7-3d43-4424-b3d1-09c49de29df0"
      },
      "execution_count": 31,
      "outputs": [
        {
          "output_type": "stream",
          "name": "stdout",
          "text": [
            "E appears 2 times\n",
            "F appears 1 times\n",
            "B appears 2 times\n",
            "A appears 2 times\n",
            "D appears 4 times\n",
            "I appears 2 times\n",
            "C appears 1 times\n"
          ]
        }
      ]
    },
    {
      "cell_type": "code",
      "source": [
        "L = ['E', 'F', 'B', 'A', 'D', 'I', 'I', 'C', 'B', 'A', 'D', 'D', 'E', 'D']\n",
        "\n",
        "d = {}\n",
        "for x in L:\n",
        "    if x in d:\n",
        "        d[x] = d[x] + 1\n",
        "    else:\n",
        "        d[x] = 1\n",
        "y = sorted(d.keys())\n",
        "for k in y:\n",
        "    print(\"{} appears {} times\".format(k, d[k]))\n"
      ],
      "metadata": {
        "colab": {
          "base_uri": "https://localhost:8080/"
        },
        "id": "rxYYB9BS7MBE",
        "outputId": "9c1d18d6-ec18-4779-873e-2c2546698ce9"
      },
      "execution_count": 32,
      "outputs": [
        {
          "output_type": "stream",
          "name": "stdout",
          "text": [
            "A appears 2 times\n",
            "B appears 2 times\n",
            "C appears 1 times\n",
            "D appears 4 times\n",
            "E appears 2 times\n",
            "F appears 1 times\n",
            "I appears 2 times\n"
          ]
        }
      ]
    },
    {
      "cell_type": "code",
      "source": [
        "L = ['E', 'F', 'B', 'A', 'D', 'I', 'I', 'C', 'B', 'A', 'D', 'D', 'E', 'D']\n",
        "\n",
        "d = {}\n",
        "for x in L:\n",
        "    if x in d:\n",
        "        d[x] = d[x] + 1\n",
        "    else:\n",
        "        d[x] = 1\n",
        "\n",
        "y = sorted(d.keys(), key=lambda k: d[k], reverse=True)\n",
        "for k in y:\n",
        "    print(\"{} appears {} times\".format(k, d[k]))\n"
      ],
      "metadata": {
        "colab": {
          "base_uri": "https://localhost:8080/"
        },
        "id": "J94_2VCw7OZ-",
        "outputId": "aae86a07-e670-4217-95ab-71e2e37e76c5"
      },
      "execution_count": 33,
      "outputs": [
        {
          "output_type": "stream",
          "name": "stdout",
          "text": [
            "D appears 4 times\n",
            "E appears 2 times\n",
            "B appears 2 times\n",
            "A appears 2 times\n",
            "I appears 2 times\n",
            "F appears 1 times\n",
            "C appears 1 times\n"
          ]
        }
      ]
    },
    {
      "cell_type": "code",
      "source": [
        "L = ['E', 'F', 'B', 'A', 'D', 'I', 'I', 'C', 'B', 'A', 'D', 'D', 'E', 'D']\n",
        "\n",
        "d = {}\n",
        "for x in L:\n",
        "    if x in d:\n",
        "        d[x] = d[x] + 1\n",
        "    else:\n",
        "        d[x] = 1\n",
        "\n",
        "def g(k):\n",
        "    return d[k]\n",
        "\n",
        "y =(sorted(d.keys(), key=g, reverse=True))\n",
        "\n",
        "# now loop through the keys\n",
        "for k in y:\n",
        "    print(\"{} appears {} times\".format(k, d[k]))"
      ],
      "metadata": {
        "colab": {
          "base_uri": "https://localhost:8080/"
        },
        "id": "W-9n9dGK7Qmv",
        "outputId": "46be8bdd-f34a-4678-b90c-06ec8d3d3773"
      },
      "execution_count": 34,
      "outputs": [
        {
          "output_type": "stream",
          "name": "stdout",
          "text": [
            "D appears 4 times\n",
            "E appears 2 times\n",
            "B appears 2 times\n",
            "A appears 2 times\n",
            "I appears 2 times\n",
            "F appears 1 times\n",
            "C appears 1 times\n"
          ]
        }
      ]
    },
    {
      "cell_type": "code",
      "source": [
        "L = ['E', 'F', 'B', 'A', 'D', 'I', 'I', 'C', 'B', 'A', 'D', 'D', 'E', 'D']\n",
        "\n",
        "d = {}\n",
        "for x in L:\n",
        "    if x in d:\n",
        "        d[x] = d[x] + 1\n",
        "    else:\n",
        "        d[x] = 1\n",
        "\n",
        "# now loop through the sorted keys\n",
        "for k in sorted(d, key=lambda k: d[k], reverse=True):\n",
        "      print(\"{} appears {} times\".format(k, d[k]))"
      ],
      "metadata": {
        "colab": {
          "base_uri": "https://localhost:8080/"
        },
        "id": "nG9J5FPj7S3A",
        "outputId": "295532eb-fe4d-4b6d-f4ce-2927d0c2806b"
      },
      "execution_count": 35,
      "outputs": [
        {
          "output_type": "stream",
          "name": "stdout",
          "text": [
            "D appears 4 times\n",
            "E appears 2 times\n",
            "B appears 2 times\n",
            "A appears 2 times\n",
            "I appears 2 times\n",
            "F appears 1 times\n",
            "C appears 1 times\n"
          ]
        }
      ]
    },
    {
      "cell_type": "markdown",
      "source": [
        "What happens when two items are “tied” in the sort order? For example, suppose we sort a list of words by their lengths. Which five letter word will appear first?"
      ],
      "metadata": {
        "id": "SHuBaQuO8BpW"
      }
    },
    {
      "cell_type": "code",
      "source": [
        "tups = [('A', 3, 2),\n",
        "        ('C', 1, 4),\n",
        "        ('B', 3, 1),\n",
        "        ('A', 2, 4),\n",
        "        ('C', 1, 2)]\n",
        "for tup in sorted(tups):\n",
        "    print(tup)\n"
      ],
      "metadata": {
        "colab": {
          "base_uri": "https://localhost:8080/"
        },
        "id": "PqIMi--i8Ab1",
        "outputId": "9b2237fd-8453-4446-c50f-c47a45e16f15"
      },
      "execution_count": 36,
      "outputs": [
        {
          "output_type": "stream",
          "name": "stdout",
          "text": [
            "('A', 2, 4)\n",
            "('A', 3, 2)\n",
            "('B', 3, 1)\n",
            "('C', 1, 2)\n",
            "('C', 1, 4)\n"
          ]
        }
      ]
    },
    {
      "cell_type": "code",
      "source": [
        "fruits = ['peach', 'kiwi', 'apple', 'blueberry', 'papaya', 'mango', 'pear']\n",
        "new_order = sorted(fruits, key=lambda fruit_name: (len(fruit_name), fruit_name))\n",
        "for fruit in new_order:\n",
        "    print(fruit)"
      ],
      "metadata": {
        "colab": {
          "base_uri": "https://localhost:8080/"
        },
        "id": "5ctOqKOt8E64",
        "outputId": "f3f6fd45-e09a-4234-c3a6-9652e74c6288"
      },
      "execution_count": 37,
      "outputs": [
        {
          "output_type": "stream",
          "name": "stdout",
          "text": [
            "kiwi\n",
            "pear\n",
            "apple\n",
            "mango\n",
            "peach\n",
            "papaya\n",
            "blueberry\n"
          ]
        }
      ]
    },
    {
      "cell_type": "code",
      "source": [
        "fruits = ['peach', 'kiwi', 'apple', 'blueberry', 'papaya', 'mango', 'pear']\n",
        "new_order = sorted(fruits, key=lambda fruit_name: (len(fruit_name), fruit_name), reverse=True)\n",
        "for fruit in new_order:\n",
        "    print(fruit)"
      ],
      "metadata": {
        "colab": {
          "base_uri": "https://localhost:8080/"
        },
        "id": "4-LDU5lu8Hs5",
        "outputId": "d520f755-6605-4b16-eeff-8a84bd74d3a4"
      },
      "execution_count": 38,
      "outputs": [
        {
          "output_type": "stream",
          "name": "stdout",
          "text": [
            "blueberry\n",
            "papaya\n",
            "peach\n",
            "mango\n",
            "apple\n",
            "pear\n",
            "kiwi\n"
          ]
        }
      ]
    },
    {
      "cell_type": "code",
      "source": [
        "fruits = ['peach', 'kiwi', 'apple', 'blueberry', 'papaya', 'mango', 'pear']\n",
        "new_order = sorted(fruits, key=lambda fruit_name: (-len(fruit_name), fruit_name))\n",
        "for fruit in new_order:\n",
        "    print(fruit)\n"
      ],
      "metadata": {
        "colab": {
          "base_uri": "https://localhost:8080/"
        },
        "id": "06uYZAR08JTJ",
        "outputId": "6c9e020d-d2a9-40bc-cf8c-fdb60e6db3ab"
      },
      "execution_count": 39,
      "outputs": [
        {
          "output_type": "stream",
          "name": "stdout",
          "text": [
            "blueberry\n",
            "papaya\n",
            "apple\n",
            "mango\n",
            "peach\n",
            "kiwi\n",
            "pear\n"
          ]
        }
      ]
    },
    {
      "cell_type": "markdown",
      "source": [
        "When to use a Lambda Expression"
      ],
      "metadata": {
        "id": "4VS1kXOt84yI"
      }
    },
    {
      "cell_type": "code",
      "source": [
        "states = {\"Minnesota\": [\"St. Paul\", \"Minneapolis\", \"Saint Cloud\", \"Stillwater\"],\n",
        "          \"Michigan\": [\"Ann Arbor\", \"Traverse City\", \"Lansing\", \"Kalamazoo\"],\n",
        "          \"Washington\": [\"Seattle\", \"Tacoma\", \"Olympia\", \"Vancouver\"]}\n",
        "\n",
        "print(sorted(states, key=lambda state: len(states[state][0])))"
      ],
      "metadata": {
        "colab": {
          "base_uri": "https://localhost:8080/"
        },
        "id": "jGyaSifF85Rc",
        "outputId": "96350942-5da7-4174-fd9e-a228fa16d4be"
      },
      "execution_count": 40,
      "outputs": [
        {
          "output_type": "stream",
          "name": "stdout",
          "text": [
            "['Washington', 'Minnesota', 'Michigan']\n"
          ]
        }
      ]
    },
    {
      "cell_type": "code",
      "source": [
        "def s_cities_count(city_list):\n",
        "    ct = 0\n",
        "    for city in city_list:\n",
        "        if city[0] == \"S\":\n",
        "            ct += 1\n",
        "    return ct\n",
        "\n",
        "states = {\"Minnesota\": [\"St. Paul\", \"Minneapolis\", \"Saint Cloud\", \"Stillwater\"],\n",
        "          \"Michigan\": [\"Ann Arbor\", \"Traverse City\", \"Lansing\", \"Kalamazoo\"],\n",
        "          \"Washington\": [\"Seattle\", \"Tacoma\", \"Olympia\", \"Vancouver\"]}\n",
        "\n",
        "print(sorted(states, key=lambda state: s_cities_count(states[state])))"
      ],
      "metadata": {
        "colab": {
          "base_uri": "https://localhost:8080/"
        },
        "id": "_45F4Gam88Uq",
        "outputId": "ae8fc5f1-a3f5-4f35-eaa4-541828d5e4fe"
      },
      "execution_count": 41,
      "outputs": [
        {
          "output_type": "stream",
          "name": "stdout",
          "text": [
            "['Michigan', 'Washington', 'Minnesota']\n"
          ]
        }
      ]
    },
    {
      "cell_type": "code",
      "source": [
        "import pandas as pd\n",
        "import matplotlib.pyplot as plt\n",
        "\n",
        "# Step 1: Load the CSV file\n",
        "data = pd.read_csv(\"resulting_data.csv\")\n",
        "\n",
        "# Step 2: Extract relevant columns\n",
        "retweets = data[\"Number of Retweets\"]\n",
        "net_score = data[\"Net Score\"]\n",
        "\n",
        "# Step 3: Create the scatterplot\n",
        "plt.figure(figsize=(8, 6))  # Optional: Customize figure size\n",
        "plt.scatter(net_score, retweets, color=\"blue\", alpha=0.7)\n",
        "\n",
        "# Step 4: Add labels and title\n",
        "plt.xlabel(\"Net Score\")\n",
        "plt.ylabel(\"Number of Retweets\")\n",
        "plt.title(\"Scatterplot of Number of Retweets vs Net Score\")\n",
        "\n",
        "# Step 5: Show the plot\n",
        "plt.grid(True)  # Optional: Add grid for better readability\n",
        "plt.show()\n"
      ],
      "metadata": {
        "colab": {
          "base_uri": "https://localhost:8080/",
          "height": 373
        },
        "id": "q1wk5QM7Ile2",
        "outputId": "43a252e6-5912-42de-b75d-d3b83a0fd7b3"
      },
      "execution_count": 42,
      "outputs": [
        {
          "output_type": "error",
          "ename": "FileNotFoundError",
          "evalue": "[Errno 2] No such file or directory: 'resulting_data.csv'",
          "traceback": [
            "\u001b[0;31m---------------------------------------------------------------------------\u001b[0m",
            "\u001b[0;31mFileNotFoundError\u001b[0m                         Traceback (most recent call last)",
            "\u001b[0;32m<ipython-input-42-9c25cbb505df>\u001b[0m in \u001b[0;36m<cell line: 0>\u001b[0;34m()\u001b[0m\n\u001b[1;32m      3\u001b[0m \u001b[0;34m\u001b[0m\u001b[0m\n\u001b[1;32m      4\u001b[0m \u001b[0;31m# Step 1: Load the CSV file\u001b[0m\u001b[0;34m\u001b[0m\u001b[0;34m\u001b[0m\u001b[0m\n\u001b[0;32m----> 5\u001b[0;31m \u001b[0mdata\u001b[0m \u001b[0;34m=\u001b[0m \u001b[0mpd\u001b[0m\u001b[0;34m.\u001b[0m\u001b[0mread_csv\u001b[0m\u001b[0;34m(\u001b[0m\u001b[0;34m\"resulting_data.csv\"\u001b[0m\u001b[0;34m)\u001b[0m\u001b[0;34m\u001b[0m\u001b[0;34m\u001b[0m\u001b[0m\n\u001b[0m\u001b[1;32m      6\u001b[0m \u001b[0;34m\u001b[0m\u001b[0m\n\u001b[1;32m      7\u001b[0m \u001b[0;31m# Step 2: Extract relevant columns\u001b[0m\u001b[0;34m\u001b[0m\u001b[0;34m\u001b[0m\u001b[0m\n",
            "\u001b[0;32m/usr/local/lib/python3.11/dist-packages/pandas/io/parsers/readers.py\u001b[0m in \u001b[0;36mread_csv\u001b[0;34m(filepath_or_buffer, sep, delimiter, header, names, index_col, usecols, dtype, engine, converters, true_values, false_values, skipinitialspace, skiprows, skipfooter, nrows, na_values, keep_default_na, na_filter, verbose, skip_blank_lines, parse_dates, infer_datetime_format, keep_date_col, date_parser, date_format, dayfirst, cache_dates, iterator, chunksize, compression, thousands, decimal, lineterminator, quotechar, quoting, doublequote, escapechar, comment, encoding, encoding_errors, dialect, on_bad_lines, delim_whitespace, low_memory, memory_map, float_precision, storage_options, dtype_backend)\u001b[0m\n\u001b[1;32m   1024\u001b[0m     \u001b[0mkwds\u001b[0m\u001b[0;34m.\u001b[0m\u001b[0mupdate\u001b[0m\u001b[0;34m(\u001b[0m\u001b[0mkwds_defaults\u001b[0m\u001b[0;34m)\u001b[0m\u001b[0;34m\u001b[0m\u001b[0;34m\u001b[0m\u001b[0m\n\u001b[1;32m   1025\u001b[0m \u001b[0;34m\u001b[0m\u001b[0m\n\u001b[0;32m-> 1026\u001b[0;31m     \u001b[0;32mreturn\u001b[0m \u001b[0m_read\u001b[0m\u001b[0;34m(\u001b[0m\u001b[0mfilepath_or_buffer\u001b[0m\u001b[0;34m,\u001b[0m \u001b[0mkwds\u001b[0m\u001b[0;34m)\u001b[0m\u001b[0;34m\u001b[0m\u001b[0;34m\u001b[0m\u001b[0m\n\u001b[0m\u001b[1;32m   1027\u001b[0m \u001b[0;34m\u001b[0m\u001b[0m\n\u001b[1;32m   1028\u001b[0m \u001b[0;34m\u001b[0m\u001b[0m\n",
            "\u001b[0;32m/usr/local/lib/python3.11/dist-packages/pandas/io/parsers/readers.py\u001b[0m in \u001b[0;36m_read\u001b[0;34m(filepath_or_buffer, kwds)\u001b[0m\n\u001b[1;32m    618\u001b[0m \u001b[0;34m\u001b[0m\u001b[0m\n\u001b[1;32m    619\u001b[0m     \u001b[0;31m# Create the parser.\u001b[0m\u001b[0;34m\u001b[0m\u001b[0;34m\u001b[0m\u001b[0m\n\u001b[0;32m--> 620\u001b[0;31m     \u001b[0mparser\u001b[0m \u001b[0;34m=\u001b[0m \u001b[0mTextFileReader\u001b[0m\u001b[0;34m(\u001b[0m\u001b[0mfilepath_or_buffer\u001b[0m\u001b[0;34m,\u001b[0m \u001b[0;34m**\u001b[0m\u001b[0mkwds\u001b[0m\u001b[0;34m)\u001b[0m\u001b[0;34m\u001b[0m\u001b[0;34m\u001b[0m\u001b[0m\n\u001b[0m\u001b[1;32m    621\u001b[0m \u001b[0;34m\u001b[0m\u001b[0m\n\u001b[1;32m    622\u001b[0m     \u001b[0;32mif\u001b[0m \u001b[0mchunksize\u001b[0m \u001b[0;32mor\u001b[0m \u001b[0miterator\u001b[0m\u001b[0;34m:\u001b[0m\u001b[0;34m\u001b[0m\u001b[0;34m\u001b[0m\u001b[0m\n",
            "\u001b[0;32m/usr/local/lib/python3.11/dist-packages/pandas/io/parsers/readers.py\u001b[0m in \u001b[0;36m__init__\u001b[0;34m(self, f, engine, **kwds)\u001b[0m\n\u001b[1;32m   1618\u001b[0m \u001b[0;34m\u001b[0m\u001b[0m\n\u001b[1;32m   1619\u001b[0m         \u001b[0mself\u001b[0m\u001b[0;34m.\u001b[0m\u001b[0mhandles\u001b[0m\u001b[0;34m:\u001b[0m \u001b[0mIOHandles\u001b[0m \u001b[0;34m|\u001b[0m \u001b[0;32mNone\u001b[0m \u001b[0;34m=\u001b[0m \u001b[0;32mNone\u001b[0m\u001b[0;34m\u001b[0m\u001b[0;34m\u001b[0m\u001b[0m\n\u001b[0;32m-> 1620\u001b[0;31m         \u001b[0mself\u001b[0m\u001b[0;34m.\u001b[0m\u001b[0m_engine\u001b[0m \u001b[0;34m=\u001b[0m \u001b[0mself\u001b[0m\u001b[0;34m.\u001b[0m\u001b[0m_make_engine\u001b[0m\u001b[0;34m(\u001b[0m\u001b[0mf\u001b[0m\u001b[0;34m,\u001b[0m \u001b[0mself\u001b[0m\u001b[0;34m.\u001b[0m\u001b[0mengine\u001b[0m\u001b[0;34m)\u001b[0m\u001b[0;34m\u001b[0m\u001b[0;34m\u001b[0m\u001b[0m\n\u001b[0m\u001b[1;32m   1621\u001b[0m \u001b[0;34m\u001b[0m\u001b[0m\n\u001b[1;32m   1622\u001b[0m     \u001b[0;32mdef\u001b[0m \u001b[0mclose\u001b[0m\u001b[0;34m(\u001b[0m\u001b[0mself\u001b[0m\u001b[0;34m)\u001b[0m \u001b[0;34m->\u001b[0m \u001b[0;32mNone\u001b[0m\u001b[0;34m:\u001b[0m\u001b[0;34m\u001b[0m\u001b[0;34m\u001b[0m\u001b[0m\n",
            "\u001b[0;32m/usr/local/lib/python3.11/dist-packages/pandas/io/parsers/readers.py\u001b[0m in \u001b[0;36m_make_engine\u001b[0;34m(self, f, engine)\u001b[0m\n\u001b[1;32m   1878\u001b[0m                 \u001b[0;32mif\u001b[0m \u001b[0;34m\"b\"\u001b[0m \u001b[0;32mnot\u001b[0m \u001b[0;32min\u001b[0m \u001b[0mmode\u001b[0m\u001b[0;34m:\u001b[0m\u001b[0;34m\u001b[0m\u001b[0;34m\u001b[0m\u001b[0m\n\u001b[1;32m   1879\u001b[0m                     \u001b[0mmode\u001b[0m \u001b[0;34m+=\u001b[0m \u001b[0;34m\"b\"\u001b[0m\u001b[0;34m\u001b[0m\u001b[0;34m\u001b[0m\u001b[0m\n\u001b[0;32m-> 1880\u001b[0;31m             self.handles = get_handle(\n\u001b[0m\u001b[1;32m   1881\u001b[0m                 \u001b[0mf\u001b[0m\u001b[0;34m,\u001b[0m\u001b[0;34m\u001b[0m\u001b[0;34m\u001b[0m\u001b[0m\n\u001b[1;32m   1882\u001b[0m                 \u001b[0mmode\u001b[0m\u001b[0;34m,\u001b[0m\u001b[0;34m\u001b[0m\u001b[0;34m\u001b[0m\u001b[0m\n",
            "\u001b[0;32m/usr/local/lib/python3.11/dist-packages/pandas/io/common.py\u001b[0m in \u001b[0;36mget_handle\u001b[0;34m(path_or_buf, mode, encoding, compression, memory_map, is_text, errors, storage_options)\u001b[0m\n\u001b[1;32m    871\u001b[0m         \u001b[0;32mif\u001b[0m \u001b[0mioargs\u001b[0m\u001b[0;34m.\u001b[0m\u001b[0mencoding\u001b[0m \u001b[0;32mand\u001b[0m \u001b[0;34m\"b\"\u001b[0m \u001b[0;32mnot\u001b[0m \u001b[0;32min\u001b[0m \u001b[0mioargs\u001b[0m\u001b[0;34m.\u001b[0m\u001b[0mmode\u001b[0m\u001b[0;34m:\u001b[0m\u001b[0;34m\u001b[0m\u001b[0;34m\u001b[0m\u001b[0m\n\u001b[1;32m    872\u001b[0m             \u001b[0;31m# Encoding\u001b[0m\u001b[0;34m\u001b[0m\u001b[0;34m\u001b[0m\u001b[0m\n\u001b[0;32m--> 873\u001b[0;31m             handle = open(\n\u001b[0m\u001b[1;32m    874\u001b[0m                 \u001b[0mhandle\u001b[0m\u001b[0;34m,\u001b[0m\u001b[0;34m\u001b[0m\u001b[0;34m\u001b[0m\u001b[0m\n\u001b[1;32m    875\u001b[0m                 \u001b[0mioargs\u001b[0m\u001b[0;34m.\u001b[0m\u001b[0mmode\u001b[0m\u001b[0;34m,\u001b[0m\u001b[0;34m\u001b[0m\u001b[0;34m\u001b[0m\u001b[0m\n",
            "\u001b[0;31mFileNotFoundError\u001b[0m: [Errno 2] No such file or directory: 'resulting_data.csv'"
          ]
        }
      ]
    }
  ]
}