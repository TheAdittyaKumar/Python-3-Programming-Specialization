{
  "nbformat": 4,
  "nbformat_minor": 0,
  "metadata": {
    "colab": {
      "provenance": []
    },
    "kernelspec": {
      "name": "python3",
      "display_name": "Python 3"
    },
    "language_info": {
      "name": "python"
    }
  },
  "cells": [
    {
      "cell_type": "code",
      "execution_count": null,
      "metadata": {
        "colab": {
          "base_uri": "https://localhost:8080/"
        },
        "id": "ww1iwYKFNIEU",
        "outputId": "8e1652ea-3cf6-4940-d4fe-1ced799ab31e"
      },
      "outputs": [
        {
          "output_type": "stream",
          "name": "stdout",
          "text": [
            "['a', 'b', 'c']\n",
            "3\n",
            "-------\n",
            "['a', 'b', 'c']\n",
            "['d', 'e']\n",
            "['f', 'g', 'h']\n",
            "['i']\n"
          ]
        }
      ],
      "source": [
        "nested1 = [['a', 'b', 'c'],['d', 'e'],['f', 'g', 'h']]\n",
        "print(nested1[0])\n",
        "print(len(nested1))\n",
        "nested1.append(['i'])\n",
        "print(\"-------\")\n",
        "for L in nested1:\n",
        "    print(L)"
      ]
    },
    {
      "cell_type": "code",
      "source": [
        "nested1 = [['a', 'b', 'c'],['d', 'e'],['f', 'g', 'h']]\n",
        "y = nested1[1]\n",
        "print(y)\n",
        "print(y[0])\n",
        "\n",
        "print([10, 20, 30][1])\n",
        "print(nested1[1][0])\n"
      ],
      "metadata": {
        "colab": {
          "base_uri": "https://localhost:8080/"
        },
        "id": "T8xciXDUNYue",
        "outputId": "c9cfef8a-1be7-401e-9b25-3672074d1d53"
      },
      "execution_count": null,
      "outputs": [
        {
          "output_type": "stream",
          "name": "stdout",
          "text": [
            "['d', 'e']\n",
            "d\n",
            "20\n",
            "d\n"
          ]
        }
      ]
    },
    {
      "cell_type": "code",
      "source": [
        "nested1 = [['a', 'b', 'c'],['d', 'e'],['f', 'g', 'h'], ['i']]\n",
        "nested1[1] = [1, 2, 3]\n",
        "nested1[1][0] = 100"
      ],
      "metadata": {
        "id": "hCFuAS3gNfnI"
      },
      "execution_count": null,
      "outputs": []
    },
    {
      "cell_type": "code",
      "source": [
        "nested2 = [{'a': 1, 'b': 3}, {'a': 5, 'c': 90, 5: 50}, {'b': 3, 'c': \"yes\"}]"
      ],
      "metadata": {
        "id": "dJ17s8WyNlLb"
      },
      "execution_count": null,
      "outputs": []
    },
    {
      "cell_type": "code",
      "source": [
        "def square(x):\n",
        "    return x*x\n",
        "\n",
        "L = [square, abs, lambda x: x+1]\n",
        "\n",
        "print(\"****names****\")\n",
        "for f in L:\n",
        "    print(f)\n",
        "\n",
        "print(\"****call each of them****\")\n",
        "for f in L:\n",
        "    print(f(-2))\n",
        "\n",
        "print(\"****just the first one in the list****\")\n",
        "print(L[0])\n",
        "print(L[0](3))"
      ],
      "metadata": {
        "colab": {
          "base_uri": "https://localhost:8080/"
        },
        "id": "j3nzdl7rNn2s",
        "outputId": "d0db9d17-09b7-4c69-d660-bf121fcaf1c4"
      },
      "execution_count": null,
      "outputs": [
        {
          "output_type": "stream",
          "name": "stdout",
          "text": [
            "****names****\n",
            "<function square at 0x7fc98ff568e0>\n",
            "<built-in function abs>\n",
            "<function <lambda> at 0x7fc98ff56840>\n",
            "****call each of them****\n",
            "4\n",
            "2\n",
            "-1\n",
            "****just the first one in the list****\n",
            "<function square at 0x7fc98ff568e0>\n",
            "9\n"
          ]
        }
      ]
    },
    {
      "cell_type": "code",
      "source": [
        "animals = [['cat', 'dog', 'mouse'], ['horse', 'cow', 'goat'], ['cheetah', 'giraffe', 'rhino']]\n",
        "idx1=animals[1][0]\n",
        "print(idx1)"
      ],
      "metadata": {
        "colab": {
          "base_uri": "https://localhost:8080/"
        },
        "id": "R5U-NIKDOkWj",
        "outputId": "39568040-5c40-44ff-efcc-299976fba6eb"
      },
      "execution_count": null,
      "outputs": [
        {
          "output_type": "stream",
          "name": "stdout",
          "text": [
            "horse\n"
          ]
        }
      ]
    },
    {
      "cell_type": "code",
      "source": [
        "data = ['bagel', 'cream cheese', 'breakfast', 'grits', 'eggs', 'bacon', [34, 9, 73, []], [['willow', 'birch', 'elm'], 'apple', 'peach', 'cherry']]\n",
        "plant=data[7][0][0]\n",
        "print(plant)"
      ],
      "metadata": {
        "colab": {
          "base_uri": "https://localhost:8080/"
        },
        "id": "nl0o9N6LOlrq",
        "outputId": "03e71a6a-52c2-42dd-fd07-d08de20df0da"
      },
      "execution_count": null,
      "outputs": [
        {
          "output_type": "stream",
          "name": "stdout",
          "text": [
            "willow\n"
          ]
        }
      ]
    },
    {
      "cell_type": "code",
      "source": [
        "info = {'personal_data':\n",
        "         {'name': 'Lauren',\n",
        "          'age': 20,\n",
        "          'major': 'Information Science',\n",
        "          'physical_features':\n",
        "             {'color': {'eye': 'blue',\n",
        "                        'hair': 'brown'},\n",
        "              'height': \"5'8\"}\n",
        "         },\n",
        "       'other':\n",
        "         {'favorite_colors': ['purple', 'green', 'blue'],\n",
        "          'interested_in': ['social media', 'intellectual property', 'copyright', 'music', 'books']\n",
        "         }\n",
        "      }\n",
        "color=info['personal_data']['physical_features']['color']\n",
        "print(color)"
      ],
      "metadata": {
        "colab": {
          "base_uri": "https://localhost:8080/"
        },
        "id": "BDPzZmpaoMmQ",
        "outputId": "7e9cab85-4a4c-463f-cf55-93ab04df1df9"
      },
      "execution_count": null,
      "outputs": [
        {
          "output_type": "stream",
          "name": "stdout",
          "text": [
            "{'eye': 'blue', 'hair': 'brown'}\n"
          ]
        }
      ]
    },
    {
      "cell_type": "code",
      "source": [
        "d = {'key1': {'a': 5, 'c': 90, 5: 50}, 'key2':{'b': 3, 'c': \"yes\"}}\n",
        "print(d)\n",
        "d[5] = {1: 2, 3: 4}\n",
        "print(d)\n",
        "d['key1']['d'] = d['key2']\n",
        "print(d)"
      ],
      "metadata": {
        "colab": {
          "base_uri": "https://localhost:8080/"
        },
        "id": "FVSgd32jo_fZ",
        "outputId": "e48d7846-2e2a-42be-dd3c-ca70dbb9a1fd"
      },
      "execution_count": null,
      "outputs": [
        {
          "output_type": "stream",
          "name": "stdout",
          "text": [
            "{'key1': {'a': 5, 'c': 90, 5: 50}, 'key2': {'b': 3, 'c': 'yes'}}\n",
            "{'key1': {'a': 5, 'c': 90, 5: 50}, 'key2': {'b': 3, 'c': 'yes'}, 5: {1: 2, 3: 4}}\n",
            "{'key1': {'a': 5, 'c': 90, 5: 50, 'd': {'b': 3, 'c': 'yes'}}, 'key2': {'b': 3, 'c': 'yes'}, 5: {1: 2, 3: 4}}\n"
          ]
        }
      ]
    },
    {
      "cell_type": "markdown",
      "source": [
        "\n",
        "Loads takes a string as input and returns a dictionary; dumps take a dictionary as input and returns a string."
      ],
      "metadata": {
        "id": "IRFDAZT_tPZz"
      }
    },
    {
      "cell_type": "code",
      "source": [
        "import json\n",
        "a_string = '\\n\\n\\n{\\n \"resultCount\":25,\\n \"results\": [\\n{\"wrapperType\":\"track\", \"kind\":\"podcast\", \"collectionId\":10892}]}'\n",
        "print(a_string) #\\n is simply doing line breaks\n",
        "d = json.loads(a_string)\n",
        "print(\"------\")\n",
        "print(type(d))\n",
        "print(d.keys())\n",
        "print(d['resultCount'])\n",
        "print(\"----------------\")\n",
        "print(d['results'][0]['kind'])\n",
        "# print(a_string['resultCount'])"
      ],
      "metadata": {
        "colab": {
          "base_uri": "https://localhost:8080/"
        },
        "id": "cfyWfX5ktQta",
        "outputId": "b5d9b05a-837f-4d1f-c95a-b34bb802f77e"
      },
      "execution_count": null,
      "outputs": [
        {
          "output_type": "stream",
          "name": "stdout",
          "text": [
            "\n",
            "\n",
            "\n",
            "{\n",
            " \"resultCount\":25,\n",
            " \"results\": [\n",
            "{\"wrapperType\":\"track\", \"kind\":\"podcast\", \"collectionId\":10892}]}\n",
            "------\n",
            "<class 'dict'>\n",
            "dict_keys(['resultCount', 'results'])\n",
            "25\n",
            "----------------\n",
            "podcast\n"
          ]
        }
      ]
    },
    {
      "cell_type": "code",
      "source": [
        "import json\n",
        "def pretty(obj):\n",
        "    return json.dumps(obj, sort_keys=True, indent=2)\n",
        "\n",
        "d = {'key1': {'c': True, 'a': 90, '5': 50}, 'key2':{'b': 3, 'c': \"yes\"}}\n",
        "\n",
        "print(d)\n",
        "print('--------')\n",
        "print(pretty(d))"
      ],
      "metadata": {
        "colab": {
          "base_uri": "https://localhost:8080/"
        },
        "id": "bWglGMCAuUta",
        "outputId": "7dd8a00b-7ec6-4f68-b92a-02d5f2e7e2e8"
      },
      "execution_count": null,
      "outputs": [
        {
          "output_type": "stream",
          "name": "stdout",
          "text": [
            "{'key1': {'c': True, 'a': 90, '5': 50}, 'key2': {'b': 3, 'c': 'yes'}}\n",
            "--------\n",
            "{\n",
            "  \"key1\": {\n",
            "    \"5\": 50,\n",
            "    \"a\": 90,\n",
            "    \"c\": true\n",
            "  },\n",
            "  \"key2\": {\n",
            "    \"b\": 3,\n",
            "    \"c\": \"yes\"\n",
            "  }\n",
            "}\n"
          ]
        }
      ]
    },
    {
      "cell_type": "code",
      "source": [
        "#Say we had a JSON string in the following format. How would you convert it so that it is a python list?\n",
        "entertainment = \"\"\"[{\"Library Data\": {\"count\": 3500, \"rows\": 10, \"locations\": 3}}, {\"Movie Theater Data\": {\"count\": 8, \"rows\": 25, \"locations\": 2}}]\"\"\"\n",
        "json.loads(entertainment)"
      ],
      "metadata": {
        "colab": {
          "base_uri": "https://localhost:8080/"
        },
        "id": "lkDxta1Nu2vU",
        "outputId": "04be3e5a-74b7-4630-cea2-9c1851eb612a"
      },
      "execution_count": null,
      "outputs": [
        {
          "output_type": "execute_result",
          "data": {
            "text/plain": [
              "[{'Library Data': {'count': 3500, 'rows': 10, 'locations': 3}},\n",
              " {'Movie Theater Data': {'count': 8, 'rows': 25, 'locations': 2}}]"
            ]
          },
          "metadata": {},
          "execution_count": 5
        }
      ]
    },
    {
      "cell_type": "code",
      "source": [
        "#Because we can only write strings into a file, if we wanted to convert a dictionary d into a json-formatted string so that we could store it in a file, what would we use?\n",
        "\n",
        "#json.dumps(d)"
      ],
      "metadata": {
        "id": "TEqLwcs0u8i1"
      },
      "execution_count": null,
      "outputs": []
    },
    {
      "cell_type": "markdown",
      "source": [
        "Nested iterations"
      ],
      "metadata": {
        "id": "QpOAVi0a5Cz3"
      }
    },
    {
      "cell_type": "code",
      "source": [
        "nested1 = [['a', 'b', 'c'],['d', 'e'],['f', 'g', 'h']]\n",
        "for x in nested1:\n",
        "    print(\"level1: \")\n",
        "    for y in x:\n",
        "        print(\"     level2: \" + y)\n"
      ],
      "metadata": {
        "colab": {
          "base_uri": "https://localhost:8080/"
        },
        "id": "ensIuRn_5E1n",
        "outputId": "026d1d21-c37f-46a6-aee7-aa4b24a94527"
      },
      "execution_count": null,
      "outputs": [
        {
          "output_type": "stream",
          "name": "stdout",
          "text": [
            "level1: \n",
            "     level2: a\n",
            "     level2: b\n",
            "     level2: c\n",
            "level1: \n",
            "     level2: d\n",
            "     level2: e\n",
            "level1: \n",
            "     level2: f\n",
            "     level2: g\n",
            "     level2: h\n"
          ]
        }
      ]
    },
    {
      "cell_type": "code",
      "source": [
        "#2. Below, we have provided a list of lists that contain information about people. Write code to create a new list that contains every person’s last name, and save that list as last_names.\n",
        "info = [['Tina', 'Turner', 1939, 'singer'], ['Matt', 'Damon', 1970, 'actor'], ['Kristen', 'Wiig', 1973, 'comedian'], ['Michael', 'Phelps', 1985, 'swimmer'], ['Barack', 'Obama', 1961, 'president']]\n",
        "last_names=[]\n",
        "for name in info:\n",
        "  last_names.append(name[1])\n",
        "print(last_names)\n",
        "\n"
      ],
      "metadata": {
        "colab": {
          "base_uri": "https://localhost:8080/"
        },
        "id": "S-9Q42d75J5a",
        "outputId": "5bfc873a-61ef-4226-f4d3-74919728708e"
      },
      "execution_count": null,
      "outputs": [
        {
          "output_type": "stream",
          "name": "stdout",
          "text": [
            "['Turner', 'Damon', 'Wiig', 'Phelps', 'Obama']\n"
          ]
        }
      ]
    },
    {
      "cell_type": "code",
      "source": [
        "#Below, we have provided a list of lists named L. Use nested iteration to save every string containing “b” into a new list named b_strings.\n",
        "L = [['apples', 'bananas', 'oranges', 'blueberries', 'lemons'], ['carrots', 'peas', 'cucumbers', 'green beans'], ['root beer', 'smoothies', 'cranberry juice']]\n",
        "b_strings=[]\n",
        "for lists in L:\n",
        "    for word in lists:\n",
        "      if \"b\" in word:\n",
        "        b_strings.append(word)\n",
        "print(b_strings)"
      ],
      "metadata": {
        "colab": {
          "base_uri": "https://localhost:8080/"
        },
        "id": "JgViKEBV6yFd",
        "outputId": "967455c2-722f-4b38-eaef-92905a6f0afa"
      },
      "execution_count": null,
      "outputs": [
        {
          "output_type": "stream",
          "name": "stdout",
          "text": [
            "['bananas', 'blueberries', 'cucumbers', 'green beans', 'root beer', 'cranberry juice']\n"
          ]
        }
      ]
    },
    {
      "cell_type": "markdown",
      "source": [
        "Structuring Nested Data"
      ],
      "metadata": {
        "id": "26hST6z79f9_"
      }
    },
    {
      "cell_type": "code",
      "source": [
        "# Create a list named nested1 that contains both individual elements (integers) and sublists\n",
        "nested1 = [1, 2, ['a', 'b', 'c'], ['d', 'e'], ['f', 'g', 'h']]\n",
        "\n",
        "# Iterate through each element x in the list nested1\n",
        "for x in nested1:\n",
        "    print(\"level1:\")  # This prints \"level1:\" before checking or printing the value of x\n",
        "\n",
        "    # Check if the current element x is a list\n",
        "    if type(x) is list:\n",
        "        # If x is a list, iterate through each element y in that sublist\n",
        "        for y in x:\n",
        "            # Print each element y using string formatting\n",
        "            print(\"        level2: {}\".format(y))\n",
        "            # .format(y) replaces the curly braces {} in the string with the value of y\n",
        "\n",
        "    else:\n",
        "        # If x is not a list (i.e., it's an integer like 1 or 2), print x directly\n",
        "        print(x)\n"
      ],
      "metadata": {
        "colab": {
          "base_uri": "https://localhost:8080/"
        },
        "id": "wuWEt58i9Vsj",
        "outputId": "c0a27b5b-d0ae-43de-abca-5b1fe56ec37f"
      },
      "execution_count": null,
      "outputs": [
        {
          "output_type": "stream",
          "name": "stdout",
          "text": [
            "level1:\n",
            "1\n",
            "level1:\n",
            "2\n",
            "level1:\n",
            "        level2: a\n",
            "        level2: b\n",
            "        level2: c\n",
            "level1:\n",
            "        level2: d\n",
            "        level2: e\n",
            "level1:\n",
            "        level2: f\n",
            "        level2: g\n",
            "        level2: h\n"
          ]
        }
      ]
    },
    {
      "cell_type": "markdown",
      "source": [
        "Shallow Copies"
      ],
      "metadata": {
        "id": "CDhKfpEGAXAv"
      }
    },
    {
      "cell_type": "code",
      "source": [
        "# Step 1: Define a nested list called `original`\n",
        "# It contains two sublists: one with dogs/puppies and another with cats/kittens\n",
        "original = [['dogs', 'puppies'], ['cats', 'kittens']]\n",
        "\n",
        "# Step 2: Create a shallow copy of `original` using slicing\n",
        "# This creates a new outer list but the inner lists are the SAME references (not copied)\n",
        "copied_version = original[:]\n",
        "\n",
        "# Step 3: Print the copied version to see what's inside it\n",
        "# Output: [['dogs', 'puppies'], ['cats', 'kittens']]\n",
        "print(copied_version)\n",
        "\n",
        "# Step 4: Check whether `copied_version` and `original` are the same object\n",
        "# This will return False because they are two different outer lists\n",
        "print(copied_version is original)\n",
        "\n",
        "# Step 5: Check whether the contents of `copied_version` and `original` are equal\n",
        "# This will return True because both lists have the same structure and contents\n",
        "print(copied_version == original)\n",
        "\n",
        "# Step 6: Modify the original list by appending a new item to the first sublist\n",
        "# Since the inner list is shared (shallow copy), this change will affect both `original` and `copied_version`\n",
        "original[0].append([\"canines\"])\n",
        "\n",
        "# Step 7: Print the modified `original` list\n",
        "# Output: [['dogs', 'puppies', ['canines']], ['cats', 'kittens']]\n",
        "print(original)\n",
        "\n",
        "# Step 8: Print the copied version to observe if it changed too\n",
        "# Because it's a shallow copy, you'll see the same mutation in the inner list\n",
        "print(\"-------- Now look at the copied version --------\")\n",
        "# Output: [['dogs', 'puppies', ['canines']], ['cats', 'kittens']]\n",
        "print(copied_version)\n"
      ],
      "metadata": {
        "colab": {
          "base_uri": "https://localhost:8080/"
        },
        "id": "GMaWvsG-AZSw",
        "outputId": "12fefe98-ea61-47e3-b73b-15d59f3f0969"
      },
      "execution_count": null,
      "outputs": [
        {
          "output_type": "stream",
          "name": "stdout",
          "text": [
            "[['dogs', 'puppies'], ['cats', 'kittens']]\n",
            "False\n",
            "True\n",
            "[['dogs', 'puppies', ['canines']], ['cats', 'kittens']]\n",
            "-------- Now look at the copied version --------\n",
            "[['dogs', 'puppies', ['canines']], ['cats', 'kittens']]\n"
          ]
        }
      ]
    },
    {
      "cell_type": "markdown",
      "source": [
        "deep copy"
      ],
      "metadata": {
        "id": "GHXHI3mEBs4H"
      }
    },
    {
      "cell_type": "code",
      "source": [
        "# Step 1: Define a nested list called 'original'\n",
        "# It has two inner lists: one with 'dogs' and 'puppies', another with 'cats' and 'kittens'\n",
        "original = [['dogs', 'puppies'], ['cats', 'kittens']]\n",
        "\n",
        "# Step 2: Initialize an empty list to store a deep copied version of 'original'\n",
        "copied_outer_list = []\n",
        "\n",
        "# Step 3: Start looping through each inner list in the original list\n",
        "for inner_list in original:\n",
        "    # Step 4: Create a new list to copy the contents of the current inner list\n",
        "    copied_inner_list = []\n",
        "\n",
        "    # Step 5: Loop through each item in the inner list\n",
        "    for item in inner_list:\n",
        "        # Step 6: Add the item to the copied inner list (creates a new independent list)\n",
        "        copied_inner_list.append(item)\n",
        "\n",
        "    # Step 7: After the inner list is copied, add it to the outer copied list\n",
        "    copied_outer_list.append(copied_inner_list)\n",
        "\n",
        "# Step 8: Print the deep copied version to verify its structure before modifying the original\n",
        "print(copied_outer_list)\n",
        "\n",
        "# Step 9: Now modify the original list: append a new element ['canines'] to the first inner list\n",
        "original[0].append(['canines'])\n",
        "\n",
        "# Step 10: Print the modified original to observe the change\n",
        "print(original)\n",
        "\n",
        "# Step 11: Print a separator to indicate we're now checking the copied version\n",
        "print(\"-------- Now look at the copied version --------\")\n",
        "\n",
        "# Step 12: Print the deep copied version again\n",
        "# It will remain unchanged because it holds **independent copies** of the inner lists\n",
        "print(copied_outer_list)\n"
      ],
      "metadata": {
        "colab": {
          "base_uri": "https://localhost:8080/"
        },
        "id": "JQd7BEnSBt-Q",
        "outputId": "b357ce8a-0dae-477e-c7f9-58c85c29a30f"
      },
      "execution_count": null,
      "outputs": [
        {
          "output_type": "stream",
          "name": "stdout",
          "text": [
            "[['dogs', 'puppies'], ['cats', 'kittens']]\n",
            "[['dogs', 'puppies', ['canines']], ['cats', 'kittens']]\n",
            "-------- Now look at the copied version --------\n",
            "[['dogs', 'puppies'], ['cats', 'kittens']]\n"
          ]
        }
      ]
    },
    {
      "cell_type": "code",
      "source": [
        "# Step 1: Import the built-in copy module which provides deepcopy functionality\n",
        "import copy\n",
        "\n",
        "# Step 2: Define a nested list named 'original'\n",
        "# It contains:\n",
        "# - A list: ['canines', ['dogs', 'puppies']]\n",
        "# - A string: 'felines'\n",
        "# - A list: ['cats', 'kittens']\n",
        "original = [['canines', ['dogs', 'puppies']], 'felines', ['cats', 'kittens']]\n",
        "\n",
        "# Step 3: Create a shallow copy of the original\n",
        "# This only copies the outer list; inner lists or nested structures are still shared (referenced)\n",
        "shallow_copy_version = original[:]\n",
        "\n",
        "# Step 4: Create a deep copy of the original\n",
        "# This recursively copies all elements including inner lists and nested structures,\n",
        "# so that the new version is fully independent of the original\n",
        "deeply_copied_version = copy.deepcopy(original)\n",
        "\n",
        "# Step 5: Modify the original list by appending a new string to the outer list\n",
        "original.append(\"Hi there\")\n",
        "\n",
        "# Step 6: Modify an inner list (first element is a list, and its second element is another list)\n",
        "# We're appending a new element ['marsupials'] to that deeply nested list\n",
        "original[0].append([\"marsupials\"])\n",
        "\n",
        "# Step 7: Print the original list to see the modifications\n",
        "print(\"-------- Original ------------\")\n",
        "print(original)\n",
        "\n",
        "# Step 8: Print the deep copied version\n",
        "# This should NOT include the new changes made to the original list\n",
        "print(\"-------- deep copy -----------\")\n",
        "print(deeply_copied_version)\n",
        "\n",
        "# Step 9: Print the shallow copy\n",
        "# The outer structure remains the same, but shared nested references reflect changes made in the original\n",
        "print(\"-------- shallow copy -----------\")\n",
        "print(shallow_copy_version)\n",
        "\n",
        "#look at pythontutor\n",
        "#essentially original has all the additions. But shallow copy only referencing parts like [['canines', ['dogs', 'puppies'], ['marsupials']], 'felines', ['cats', 'kittens']]\n",
        "#so when we add \"Hi there\" is isnt detecting it. On the otherhand deepcopy is comepletely detached and is a separate copy without reference."
      ],
      "metadata": {
        "colab": {
          "base_uri": "https://localhost:8080/"
        },
        "id": "Xsuo3HwpDS-h",
        "outputId": "0cf69e1c-60f0-4db6-8854-7245aa451aef"
      },
      "execution_count": null,
      "outputs": [
        {
          "output_type": "stream",
          "name": "stdout",
          "text": [
            "-------- Original ------------\n",
            "[['canines', ['dogs', 'puppies'], ['marsupials']], 'felines', ['cats', 'kittens'], 'Hi there']\n",
            "-------- deep copy -----------\n",
            "[['canines', ['dogs', 'puppies']], 'felines', ['cats', 'kittens']]\n",
            "-------- shallow copy -----------\n",
            "[['canines', ['dogs', 'puppies'], ['marsupials']], 'felines', ['cats', 'kittens']]\n"
          ]
        }
      ]
    },
    {
      "cell_type": "code",
      "source": [
        "def doubleStuff(a_list):\n",
        "  new_list=[]\n",
        "  for value in a_list:\n",
        "    new_elem=2*value\n",
        "    new_list.append(new_elem)\n",
        "  return new_list\n",
        "\n",
        "things=[2,5,9]\n",
        "print(things)\n",
        "things=doubleStuff(things)\n",
        "print(things)"
      ],
      "metadata": {
        "colab": {
          "base_uri": "https://localhost:8080/"
        },
        "id": "XGktHGmm94fw",
        "outputId": "9e995c87-0e6b-476a-e437-7d8803b03251"
      },
      "execution_count": 2,
      "outputs": [
        {
          "output_type": "stream",
          "name": "stdout",
          "text": [
            "[2, 5, 9]\n",
            "[4, 10, 18]\n"
          ]
        }
      ]
    },
    {
      "cell_type": "markdown",
      "source": [
        "Using map function\n"
      ],
      "metadata": {
        "id": "phoAL1q7-Skd"
      }
    },
    {
      "cell_type": "code",
      "source": [
        "def triple(value):\n",
        "  return 3*value                # Return 3 times the given value\n",
        "\n",
        "def tripleStuff(a_list):        # Define a function that takes a list and returns a new list of tripled values\n",
        "  new_seq=map(triple, a_list)   # Use the map function to apply the 'triple' function to every element in 'a_list'\n",
        "                                # 'map' returns a map object (an iterable), which is converted into a list\n",
        "  return list(new_seq)          # Convert the map object to a list and return it\n",
        "\n",
        "things=[2,5,9]\n",
        "things3=tripleStuff(things)     # Call the function 'tripleStuff' with 'things' as input and store the result in 'things3'\n",
        "print(things3)                  # Print the resulting list: [6, 15, 27]"
      ],
      "metadata": {
        "colab": {
          "base_uri": "https://localhost:8080/"
        },
        "id": "AySoIFwW-Uhd",
        "outputId": "37ba9cbc-55fe-47d6-b6ab-e48bbf0343fd"
      },
      "execution_count": 3,
      "outputs": [
        {
          "output_type": "stream",
          "name": "stdout",
          "text": [
            "[6, 15, 27]\n"
          ]
        }
      ]
    },
    {
      "cell_type": "code",
      "source": [
        "celsius=[0,10,20,30]\n",
        "\n",
        "def celsius_to_fahrenheit(temp):\n",
        "  return (temp * 9/5) + 32\n",
        "\n",
        "Fahrenheit_temps= map(celsius_to_fahrenheit, celsius)\n",
        "#for temp in Fahrenheit_temps:\n",
        "  #print(temp)\n",
        "print(list(Fahrenheit_temps))\n"
      ],
      "metadata": {
        "colab": {
          "base_uri": "https://localhost:8080/"
        },
        "id": "gQfOpWTjE_SR",
        "outputId": "e359f339-6649-4f24-e004-f723e891395f"
      },
      "execution_count": 9,
      "outputs": [
        {
          "output_type": "stream",
          "name": "stdout",
          "text": [
            "[32.0, 50.0, 68.0, 86.0]\n"
          ]
        }
      ]
    },
    {
      "cell_type": "code",
      "source": [
        "celsius=[0,10,20,30]\n",
        "Fahrenheit_temps= map(lambda celsius_to_fahrenheit: (celsius_to_fahrenheit * 9/5) + 32, celsius)\n",
        "print(list(Fahrenheit_temps))"
      ],
      "metadata": {
        "colab": {
          "base_uri": "https://localhost:8080/"
        },
        "id": "-7j4FDgyMeqW",
        "outputId": "a9b3a43c-f511-4251-a57f-f6f17a881273"
      },
      "execution_count": 10,
      "outputs": [
        {
          "output_type": "stream",
          "name": "stdout",
          "text": [
            "[32.0, 50.0, 68.0, 86.0]\n"
          ]
        }
      ]
    },
    {
      "cell_type": "code",
      "source": [
        "abbrevs = [\"usa\", \"esp\", \"chn\", \"jpn\", \"mex\", \"can\", \"rus\", \"rsa\", \"jam\"]\n",
        "abbrevs_upper=map(lambda upping: (upping.upper()),abbrevs)\n",
        "print(list(abbrevs_upper))\n"
      ],
      "metadata": {
        "colab": {
          "base_uri": "https://localhost:8080/"
        },
        "id": "I7H2wj16OF5u",
        "outputId": "bc38122f-0b24-43e2-b3d6-5cc8bfee5707"
      },
      "execution_count": 11,
      "outputs": [
        {
          "output_type": "stream",
          "name": "stdout",
          "text": [
            "['USA', 'ESP', 'CHN', 'JPN', 'MEX', 'CAN', 'RUS', 'RSA', 'JAM']\n"
          ]
        }
      ]
    },
    {
      "cell_type": "code",
      "source": [
        "abbrevs = [\"usa\", \"esp\", \"chn\", \"jpn\", \"mex\", \"can\", \"rus\", \"rsa\", \"jam\"]\n",
        "def f(st):\n",
        "  return st.upper()\n",
        "\n",
        "abbrevs_upper2=list(map(f,abbrevs))\n",
        "print(abbrevs_upper2)"
      ],
      "metadata": {
        "colab": {
          "base_uri": "https://localhost:8080/"
        },
        "id": "AxF2zIwIPTr8",
        "outputId": "ed6232e7-cb43-417a-c188-d64d6b6bc76e"
      },
      "execution_count": 12,
      "outputs": [
        {
          "output_type": "stream",
          "name": "stdout",
          "text": [
            "['USA', 'ESP', 'CHN', 'JPN', 'MEX', 'CAN', 'RUS', 'RSA', 'JAM']\n"
          ]
        }
      ]
    },
    {
      "cell_type": "markdown",
      "source": [
        "Filter function\n"
      ],
      "metadata": {
        "id": "AsiSzAgBT8IK"
      }
    },
    {
      "cell_type": "code",
      "source": [
        "# Define a function that keeps only even numbers from a list\n",
        "def keep_evens(nums):\n",
        "    # Use the filter function with a lambda to select only even numbers\n",
        "    # lambda num: num % 2 == 0 checks if a number is divisible by 2 (i.e., even)\n",
        "    new_seq = filter(lambda num: num % 2 == 0, nums)\n",
        "    return list(new_seq) # Convert the filtered result (a filter object) to a list and return it\n",
        "\n",
        "# Call the function with a sample list and print the result\n",
        "print(keep_evens([3, 4, 6, 7, 0, 1]))  # Output: [4, 6, 0]\n"
      ],
      "metadata": {
        "colab": {
          "base_uri": "https://localhost:8080/"
        },
        "id": "jr8LPlitT9iB",
        "outputId": "68e127a0-c517-4440-97a8-384e8ef94f48"
      },
      "execution_count": 13,
      "outputs": [
        {
          "output_type": "stream",
          "name": "stdout",
          "text": [
            "[4, 6, 0]\n"
          ]
        }
      ]
    },
    {
      "cell_type": "code",
      "source": [
        "lst = [\"witch\", \"halloween\", \"pumpkin\", \"cat\", \"candy\", \"wagon\", \"moon\"]\n",
        "lst2=filter(lambda IsThereO:\"o\" in IsThereO,lst)\n",
        "print(list(lst2))\n"
      ],
      "metadata": {
        "colab": {
          "base_uri": "https://localhost:8080/"
        },
        "id": "z97Z5TjfUPF6",
        "outputId": "c6105b1b-9e73-43c0-ec1b-83af29587763"
      },
      "execution_count": 15,
      "outputs": [
        {
          "output_type": "stream",
          "name": "stdout",
          "text": [
            "['halloween', 'wagon', 'moon']\n"
          ]
        }
      ]
    },
    {
      "cell_type": "markdown",
      "source": [
        "List Comprehension"
      ],
      "metadata": {
        "id": "bRair9rrW337"
      }
    },
    {
      "cell_type": "code",
      "source": [
        "things=[2,5,9]\n",
        "yourlist=[value*2 for value in things]\n",
        "print(yourlist)"
      ],
      "metadata": {
        "colab": {
          "base_uri": "https://localhost:8080/"
        },
        "id": "IC45P0eGWuNo",
        "outputId": "67ab226c-c617-47ee-c814-de5d6afcfb58"
      },
      "execution_count": 16,
      "outputs": [
        {
          "output_type": "stream",
          "name": "stdout",
          "text": [
            "[4, 10, 18]\n"
          ]
        }
      ]
    },
    {
      "cell_type": "markdown",
      "source": [],
      "metadata": {
        "id": "H2Snqog9YGV_"
      }
    },
    {
      "cell_type": "code",
      "source": [
        "#The full expression for list comprehension can be shown like this:\n",
        "#[<transformer_expression> for <varname> in <sequence> if <filtration_expression>]"
      ],
      "metadata": {
        "id": "t1gpRSOyW7sU"
      },
      "execution_count": null,
      "outputs": []
    },
    {
      "cell_type": "code",
      "source": [
        "# Define a function called keep_evens that takes a list of numbers as input\n",
        "def keep_evens(nums):\n",
        "    # Use list comprehension to build a new list of only even numbers from 'nums'\n",
        "    # Syntax: [expression for item in iterable if condition]\n",
        "    # In our case:\n",
        "    #   expression: num        → what we want to keep in the new list\n",
        "    #   for num in nums        → loop through each element in 'nums'\n",
        "    #   if num % 2 == 0        → keep it only if the number is even (divisible by 2)\n",
        "    new_list = [num for num in nums if num % 2 == 0]\n",
        "\n",
        "    # Return the new list containing only even numbers\n",
        "    return new_list\n",
        "\n",
        "# Call the function with a sample list and print the result\n",
        "print(keep_evens([3, 4, 6, 7, 0, 1]))  # Output: [4, 6, 0]\n"
      ],
      "metadata": {
        "colab": {
          "base_uri": "https://localhost:8080/"
        },
        "id": "MuQYpBbKaHsv",
        "outputId": "4969a48e-88ef-4ae4-f368-937aae6bacf4"
      },
      "execution_count": 17,
      "outputs": [
        {
          "output_type": "stream",
          "name": "stdout",
          "text": [
            "[4, 6, 0]\n"
          ]
        }
      ]
    },
    {
      "cell_type": "code",
      "source": [
        "def keep_evens(nums):\n",
        "  new_list=filter(lambda num: num%2==0,nums)\n",
        "  return list(new_list)\n",
        "print(keep_evens([3, 4, 6, 7, 0, 1]))"
      ],
      "metadata": {
        "colab": {
          "base_uri": "https://localhost:8080/"
        },
        "id": "E6yc2LWMbJ4t",
        "outputId": "d2befd18-2f95-4861-cc74-81f6c5d46251"
      },
      "execution_count": 20,
      "outputs": [
        {
          "output_type": "stream",
          "name": "stdout",
          "text": [
            "[4, 6, 0]\n"
          ]
        }
      ]
    },
    {
      "cell_type": "code",
      "source": [
        "# Dictionary named 'tester' contains a key 'info' that maps to a list of dictionaries (like student records)\n",
        "tester = {\n",
        "    'info': [\n",
        "        {'name': \"Lauren\", 'class standing': 'Junior', 'major': 'Information Science'},\n",
        "        {'name': \"Ayo\", 'class standing': 'Junior', 'major': 'Computer Science'},\n",
        "        {'name': \"Kathryn\", 'class standing': 'Senior', 'major': 'Linguistics'},\n",
        "        {'name': \"Nick\", 'class standing': 'Junior', 'major': 'Information Science'},\n",
        "        {'name': \"Gladys\", 'class standing': 'Senior', 'major': 'History'},\n",
        "        {'name': \"Adam\", 'class standing': 'Junior', 'major': 'Information Science'}\n",
        "    ]\n",
        "}\n",
        "\n",
        "# Extract the list of dictionaries (student info) from the 'tester' dictionary\n",
        "inner_list = tester[\"info\"]\n",
        "\n",
        "# Use list comprehension to extract just the 'name' values from each dictionary in the list\n",
        "# This loops through each dictionary 'd' in inner_list and grabs d['name']\n",
        "compri = [d['name'] for d in inner_list]\n",
        "\n",
        "# Output: ['Lauren', 'Ayo', 'Kathryn', 'Nick', 'Gladys', 'Adam']\n",
        "print(compri)\n"
      ],
      "metadata": {
        "colab": {
          "base_uri": "https://localhost:8080/"
        },
        "id": "3VLTu9hsiWPK",
        "outputId": "0091d2e7-5ba5-4b74-f6db-acacf4a1bf59"
      },
      "execution_count": 21,
      "outputs": [
        {
          "output_type": "stream",
          "name": "stdout",
          "text": [
            "['Lauren', 'Ayo', 'Kathryn', 'Nick', 'Gladys', 'Adam']\n"
          ]
        }
      ]
    },
    {
      "cell_type": "code",
      "source": [
        "# Import the json module to format output for better readability\n",
        "import json\n",
        "\n",
        "# Define a nested dictionary with one key: 'info', which maps to a list of student records (dictionaries)\n",
        "tester = {\n",
        "    'info': [\n",
        "        {'name': \"Lauren\", 'class standing': 'Junior', 'major': 'Information Science'},\n",
        "        {'name': \"Ayo\", 'class standing': 'Junior', 'major': 'Computer Science'},\n",
        "        {'name': \"Kathryn\", 'class standing': 'Senior', 'major': 'Linguistics'},\n",
        "        {'name': \"Nick\", 'class standing': 'Junior', 'major': 'Information Science'},\n",
        "        {'name': \"Gladys\", 'class standing': 'Senior', 'major': 'History'},\n",
        "        {'name': \"Adam\", 'class standing': 'Junior', 'major': 'Information Science'}\n",
        "    ]\n",
        "}\n",
        "\n",
        "# Extract the list of dictionaries (student data) from the 'tester' dictionary\n",
        "inner_list = tester[\"info\"]\n",
        "\n",
        "# Print the structure of inner_list nicely formatted (for visual inspection)\n",
        "print(json.dumps(inner_list, indent=2))  # This is for checking what's inside\n",
        "\n",
        "# Use list comprehension to create a new list containing only the 'name' values\n",
        "# Loop through each dictionary d in inner_list and extract d['name']\n",
        "compri = [d['name'] for d in inner_list]\n",
        "print(\"_________________________________________________\")\n",
        "print(\"\")\n",
        "print(\"\")\n",
        "# Print the final list of names\n",
        "print(compri)  # Output: ['Lauren', 'Ayo', 'Kathryn', 'Nick', 'Gladys', 'Adam']\n"
      ],
      "metadata": {
        "colab": {
          "base_uri": "https://localhost:8080/"
        },
        "id": "jKE8cmp9kMrF",
        "outputId": "3a056d5b-38d0-4e30-c712-d3a641e0ecf7"
      },
      "execution_count": 32,
      "outputs": [
        {
          "output_type": "stream",
          "name": "stdout",
          "text": [
            "[\n",
            "  {\n",
            "    \"name\": \"Lauren\",\n",
            "    \"class standing\": \"Junior\",\n",
            "    \"major\": \"Information Science\"\n",
            "  },\n",
            "  {\n",
            "    \"name\": \"Ayo\",\n",
            "    \"class standing\": \"Junior\",\n",
            "    \"major\": \"Computer Science\"\n",
            "  },\n",
            "  {\n",
            "    \"name\": \"Kathryn\",\n",
            "    \"class standing\": \"Senior\",\n",
            "    \"major\": \"Linguistics\"\n",
            "  },\n",
            "  {\n",
            "    \"name\": \"Nick\",\n",
            "    \"class standing\": \"Junior\",\n",
            "    \"major\": \"Information Science\"\n",
            "  },\n",
            "  {\n",
            "    \"name\": \"Gladys\",\n",
            "    \"class standing\": \"Senior\",\n",
            "    \"major\": \"History\"\n",
            "  },\n",
            "  {\n",
            "    \"name\": \"Adam\",\n",
            "    \"class standing\": \"Junior\",\n",
            "    \"major\": \"Information Science\"\n",
            "  }\n",
            "]\n",
            "_________________________________________________\n",
            "\n",
            "\n",
            "['Lauren', 'Ayo', 'Kathryn', 'Nick', 'Gladys', 'Adam']\n"
          ]
        }
      ]
    },
    {
      "cell_type": "code",
      "source": [
        "# Version 1: Using list comprehension\n",
        "def longlengths(strings):\n",
        "    # This returns a list of lengths of strings where the string length is at least 4\n",
        "    # For each string s in the list, if len(s) >= 4, include len(s) in the new list\n",
        "    return [len(s) for s in strings if len(s) >= 4]\n",
        "\n",
        "# Version 2: Manual method using a loop\n",
        "def longlengths(strings):\n",
        "    accum = []  # Initialize an empty list to store lengths\n",
        "    for s in strings:\n",
        "        if len(s) >= 4:\n",
        "            # If string is long enough, append its length to the list\n",
        "            accum.append(len(s))\n",
        "    return accum  # Return the list of lengths\n",
        "\n",
        "# Version 3: Using filter and map\n",
        "def longlengths(strings):\n",
        "    # Use filter to keep only strings with length >= 4\n",
        "    # lambda s: len(s) >= 4 is an anonymous function used for filtering\n",
        "    filtered_strings = filter(lambda s: len(s) >= 4, strings)\n",
        "\n",
        "    # Use map to apply the len function to each filtered string\n",
        "    # map returns an iterable of lengths, so wrap it in list() if you want a list\n",
        "    return list(map(len, filtered_strings))\n",
        "\n",
        "# Test the function with a list of strings\n",
        "# Only 'ghij' (length 4) and 'klmno' (length 5) meet the condition\n",
        "print(longlengths(['a', 'bc', 'def', 'ghij', 'klmno']))  # Output: [4, 5]\n"
      ],
      "metadata": {
        "colab": {
          "base_uri": "https://localhost:8080/"
        },
        "id": "zblUcpQRiXIR",
        "outputId": "e1e7a701-e68f-44dc-fd70-13ff301221f4"
      },
      "execution_count": 22,
      "outputs": [
        {
          "output_type": "stream",
          "name": "stdout",
          "text": [
            "[4, 5]\n"
          ]
        }
      ]
    },
    {
      "cell_type": "markdown",
      "source": [
        "Zip\n"
      ],
      "metadata": {
        "id": "tv1wTCTgpz4V"
      }
    },
    {
      "cell_type": "code",
      "source": [
        "L1 = [3, 4, 5]\n",
        "L2 = [1, 2, 3]\n",
        "L3 = []\n",
        "\n",
        "# Loop through indices of L1 (and L2 since they're the same length)\n",
        "for i in range(len(L1)):\n",
        "    # Add corresponding elements and append the result to L3\n",
        "    L3.append(L1[i] + L2[i])\n",
        "\n",
        "# Print the result list\n",
        "print(L3)\n"
      ],
      "metadata": {
        "colab": {
          "base_uri": "https://localhost:8080/"
        },
        "id": "D4211Fmbp2Em",
        "outputId": "031831a6-d95a-4f21-9296-9beceea67129"
      },
      "execution_count": 33,
      "outputs": [
        {
          "output_type": "stream",
          "name": "stdout",
          "text": [
            "[4, 6, 8]\n"
          ]
        }
      ]
    },
    {
      "cell_type": "code",
      "source": [
        "# Two lists of numbers\n",
        "L1 = [3, 4, 5]\n",
        "L2 = [1, 2, 3]\n",
        "\n",
        "# An empty list to store the results\n",
        "L3 = []\n",
        "\n",
        "# zip(L1, L2) pairs up elements from both lists: (3,1), (4,2), (5,3)\n",
        "# list(zip(...)) converts the zipped object into a list of tuples\n",
        "L4 = list(zip(L1, L2))  # L4 = [(3, 1), (4, 2), (5, 3)]\n",
        "print(\"L4: \", L4)\n",
        "# Loop through each pair (x1 from L1 and x2 from L2)\n",
        "for (x1, x2) in L4:\n",
        "    # Add the paired elements and append the sum to L3\n",
        "    L3.append(x1 + x2)\n",
        "\n",
        "# Print the final list of summed values\n",
        "print(L3)  # Output: [4, 6, 8]\n"
      ],
      "metadata": {
        "colab": {
          "base_uri": "https://localhost:8080/"
        },
        "id": "6ye04TuGq5Dn",
        "outputId": "2d3f867b-f70a-4d39-a97d-f35e3617f28c"
      },
      "execution_count": 36,
      "outputs": [
        {
          "output_type": "stream",
          "name": "stdout",
          "text": [
            "L4:  [(3, 1), (4, 2), (5, 3)]\n",
            "[4, 6, 8]\n"
          ]
        }
      ]
    },
    {
      "cell_type": "code",
      "source": [
        "L1 = [3, 4, 5]\n",
        "L2 = [1, 2, 3]\n",
        "L3= [x1+x2 for (x1,x2) in list(zip(L1,L2))]\n",
        "print(L3)"
      ],
      "metadata": {
        "colab": {
          "base_uri": "https://localhost:8080/"
        },
        "id": "8GeugHIsrEh0",
        "outputId": "cf6220f9-f538-4b86-9f03-ae6fe567d477"
      },
      "execution_count": 37,
      "outputs": [
        {
          "output_type": "stream",
          "name": "stdout",
          "text": [
            "[4, 6, 8]\n"
          ]
        }
      ]
    },
    {
      "cell_type": "code",
      "source": [
        "# Define a function that gives feedback for a guessed word in a Wordle-like game\n",
        "def give_feedback(guess, correct_word):\n",
        "    # Start with an empty list to hold the feedback for each letter\n",
        "    feedback = []\n",
        "\n",
        "    # Loop through each index in the guessed word\n",
        "    for i in range(len(guess)):\n",
        "        guessed_let = guess[i]         # Get the letter at position i from the guess\n",
        "        correct_let = correct_word[i]  # Get the correct letter at the same position\n",
        "\n",
        "        # If the guessed letter is exactly correct (right letter in the right position)\n",
        "        if guessed_let == correct_let:\n",
        "            feedback.append(\"Y\")  # Add \"Y\" to feedback to indicate a perfect match\n",
        "\n",
        "        # If the guessed letter is in the correct word but in the wrong position\n",
        "        elif guessed_let in correct_word:\n",
        "            feedback.append(\"y\")  # Add \"y\" to feedback for right letter, wrong position\n",
        "\n",
        "        # If the guessed letter is not in the correct word at all\n",
        "        else:\n",
        "            feedback.append(\"-\")  # Add \"-\" to feedback for wrong letter\n",
        "\n",
        "    # Return the full feedback list\n",
        "    return feedback\n",
        "assert list(give_feedback(\"guess\", \"guess\")) == ['Y', 'Y', 'Y', 'Y', 'Y']\n",
        "assert list(give_feedback(\"abcde\", \"fghij\")) == ['-', '-', '-', '-', '-']\n",
        "assert list(give_feedback(\"edcba\", \"edcba\")) == ['Y', 'Y', 'Y', 'Y', 'Y']\n",
        "assert list(give_feedback(\"hello\", \"hails\")) == ['Y', '-', '-', '-', '-']\n",
        "assert list(give_feedback(\"tests\", \"testy\")) == ['Y', 'Y', 'Y', 'Y', '-']\n",
        "assert list(give_feedback(\"testy\", \"tests\")) == ['Y', 'Y', 'Y', '-', 'y']\n"
      ],
      "metadata": {
        "colab": {
          "base_uri": "https://localhost:8080/",
          "height": 211
        },
        "id": "U3X2E6AIsljy",
        "outputId": "1bbf9964-ce0b-4831-9888-abbe2041a4d8"
      },
      "execution_count": 40,
      "outputs": [
        {
          "output_type": "error",
          "ename": "AssertionError",
          "evalue": "",
          "traceback": [
            "\u001b[0;31m---------------------------------------------------------------------------\u001b[0m",
            "\u001b[0;31mAssertionError\u001b[0m                            Traceback (most recent call last)",
            "\u001b[0;32m<ipython-input-40-ee7a5027c2e1>\u001b[0m in \u001b[0;36m<cell line: 0>\u001b[0;34m()\u001b[0m\n\u001b[1;32m     26\u001b[0m \u001b[0;32massert\u001b[0m \u001b[0mlist\u001b[0m\u001b[0;34m(\u001b[0m\u001b[0mgive_feedback\u001b[0m\u001b[0;34m(\u001b[0m\u001b[0;34m\"abcde\"\u001b[0m\u001b[0;34m,\u001b[0m \u001b[0;34m\"fghij\"\u001b[0m\u001b[0;34m)\u001b[0m\u001b[0;34m)\u001b[0m \u001b[0;34m==\u001b[0m \u001b[0;34m[\u001b[0m\u001b[0;34m'-'\u001b[0m\u001b[0;34m,\u001b[0m \u001b[0;34m'-'\u001b[0m\u001b[0;34m,\u001b[0m \u001b[0;34m'-'\u001b[0m\u001b[0;34m,\u001b[0m \u001b[0;34m'-'\u001b[0m\u001b[0;34m,\u001b[0m \u001b[0;34m'-'\u001b[0m\u001b[0;34m]\u001b[0m\u001b[0;34m\u001b[0m\u001b[0;34m\u001b[0m\u001b[0m\n\u001b[1;32m     27\u001b[0m \u001b[0;32massert\u001b[0m \u001b[0mlist\u001b[0m\u001b[0;34m(\u001b[0m\u001b[0mgive_feedback\u001b[0m\u001b[0;34m(\u001b[0m\u001b[0;34m\"edcba\"\u001b[0m\u001b[0;34m,\u001b[0m \u001b[0;34m\"edcba\"\u001b[0m\u001b[0;34m)\u001b[0m\u001b[0;34m)\u001b[0m \u001b[0;34m==\u001b[0m \u001b[0;34m[\u001b[0m\u001b[0;34m'Y'\u001b[0m\u001b[0;34m,\u001b[0m \u001b[0;34m'Y'\u001b[0m\u001b[0;34m,\u001b[0m \u001b[0;34m'Y'\u001b[0m\u001b[0;34m,\u001b[0m \u001b[0;34m'Y'\u001b[0m\u001b[0;34m,\u001b[0m \u001b[0;34m'Y'\u001b[0m\u001b[0;34m]\u001b[0m\u001b[0;34m\u001b[0m\u001b[0;34m\u001b[0m\u001b[0m\n\u001b[0;32m---> 28\u001b[0;31m \u001b[0;32massert\u001b[0m \u001b[0mlist\u001b[0m\u001b[0;34m(\u001b[0m\u001b[0mgive_feedback\u001b[0m\u001b[0;34m(\u001b[0m\u001b[0;34m\"hello\"\u001b[0m\u001b[0;34m,\u001b[0m \u001b[0;34m\"hails\"\u001b[0m\u001b[0;34m)\u001b[0m\u001b[0;34m)\u001b[0m \u001b[0;34m==\u001b[0m \u001b[0;34m[\u001b[0m\u001b[0;34m'Y'\u001b[0m\u001b[0;34m,\u001b[0m \u001b[0;34m'-'\u001b[0m\u001b[0;34m,\u001b[0m \u001b[0;34m'-'\u001b[0m\u001b[0;34m,\u001b[0m \u001b[0;34m'-'\u001b[0m\u001b[0;34m,\u001b[0m \u001b[0;34m'-'\u001b[0m\u001b[0;34m]\u001b[0m\u001b[0;34m\u001b[0m\u001b[0;34m\u001b[0m\u001b[0m\n\u001b[0m\u001b[1;32m     29\u001b[0m \u001b[0;32massert\u001b[0m \u001b[0mlist\u001b[0m\u001b[0;34m(\u001b[0m\u001b[0mgive_feedback\u001b[0m\u001b[0;34m(\u001b[0m\u001b[0;34m\"tests\"\u001b[0m\u001b[0;34m,\u001b[0m \u001b[0;34m\"testy\"\u001b[0m\u001b[0;34m)\u001b[0m\u001b[0;34m)\u001b[0m \u001b[0;34m==\u001b[0m \u001b[0;34m[\u001b[0m\u001b[0;34m'Y'\u001b[0m\u001b[0;34m,\u001b[0m \u001b[0;34m'Y'\u001b[0m\u001b[0;34m,\u001b[0m \u001b[0;34m'Y'\u001b[0m\u001b[0;34m,\u001b[0m \u001b[0;34m'Y'\u001b[0m\u001b[0;34m,\u001b[0m \u001b[0;34m'-'\u001b[0m\u001b[0;34m]\u001b[0m\u001b[0;34m\u001b[0m\u001b[0;34m\u001b[0m\u001b[0m\n\u001b[1;32m     30\u001b[0m \u001b[0;32massert\u001b[0m \u001b[0mlist\u001b[0m\u001b[0;34m(\u001b[0m\u001b[0mgive_feedback\u001b[0m\u001b[0;34m(\u001b[0m\u001b[0;34m\"testy\"\u001b[0m\u001b[0;34m,\u001b[0m \u001b[0;34m\"tests\"\u001b[0m\u001b[0;34m)\u001b[0m\u001b[0;34m)\u001b[0m \u001b[0;34m==\u001b[0m \u001b[0;34m[\u001b[0m\u001b[0;34m'Y'\u001b[0m\u001b[0;34m,\u001b[0m \u001b[0;34m'Y'\u001b[0m\u001b[0;34m,\u001b[0m \u001b[0;34m'Y'\u001b[0m\u001b[0;34m,\u001b[0m \u001b[0;34m'-'\u001b[0m\u001b[0;34m,\u001b[0m \u001b[0;34m'y'\u001b[0m\u001b[0;34m]\u001b[0m\u001b[0;34m\u001b[0m\u001b[0;34m\u001b[0m\u001b[0m\n",
            "\u001b[0;31mAssertionError\u001b[0m: "
          ]
        }
      ]
    },
    {
      "cell_type": "code",
      "source": [
        "# Using zip, it's a little easier to understand\n",
        "def give_feedback(guess, correct_word):\n",
        "    # Create an empty list to store feedback for each letter\n",
        "    feedback = []\n",
        "\n",
        "    # Use zip() to pair each letter from guess and correct_word\n",
        "    # For example: zip(\"hello\", \"hills\") → ('h','h'), ('e','i'), ('l','l'), ...\n",
        "    for guessed_let, correct_let in zip(guess, correct_word):\n",
        "\n",
        "        # If the guessed letter is exactly the same as the correct letter at the same position\n",
        "        if guessed_let == correct_let:\n",
        "            feedback.append(\"Y\")  # Add 'Y' to indicate a correct letter in the correct position\n",
        "\n",
        "        # If the guessed letter exists somewhere in the correct word (but not at this position)\n",
        "        elif guessed_let in correct_word:\n",
        "            feedback.append(\"y\")  # Add 'y' to indicate a correct letter in the wrong position\n",
        "\n",
        "        # If the guessed letter is not in the correct word at all\n",
        "        else:\n",
        "            feedback.append(\"-\")  # Add '-' to indicate the letter is not in the word\n",
        "\n",
        "    # Return the complete feedback list\n",
        "    return feedback\n"
      ],
      "metadata": {
        "id": "dpuqLQp0wArT"
      },
      "execution_count": 41,
      "outputs": []
    },
    {
      "cell_type": "markdown",
      "source": [
        "Fetching a page (api)"
      ],
      "metadata": {
        "id": "9FHXcpX5IUoS"
      }
    },
    {
      "cell_type": "code",
      "source": [
        "import requests  # Import the requests library to make HTTP requests\n",
        "import json      # Import the json library to handle JSON data\n",
        "\n",
        "# Make a GET request to the Datamuse API to get words that rhyme with \"funny\"\n",
        "page = requests.get(\"https://api.datamuse.com/words?rel_rhy=funny\")\n",
        "\n",
        "print(type(page))  # Show the type of the response object (should be <class 'requests.models.Response'>)\n",
        "print(\"------\")\n",
        "print(\"------\")\n",
        "print(\"------\")\n",
        "# Print the first 150 characters of the raw response text to get an idea of the structure\n",
        "print(page.text[:150])\n",
        "print(\"------\")\n",
        "print(\"------\")\n",
        "print(\"------\")\n",
        "# Print the URL that was actually fetched (in case it got redirected or changed)\n",
        "print(page.url)\n",
        "\n",
        "print(\"------\")\n",
        "print(\"------\")\n",
        "print(\"------\")\n",
        "# Convert the JSON response text into a native Python object (usually a list of dictionaries)\n",
        "x = page.json()\n",
        "\n",
        "print(type(x))  # Show the type of the converted object (should be a list)\n",
        "print(\"------\")\n",
        "print(\"------\")\n",
        "print(\"------\")\n",
        "print(\"---first item in the list---\")\n",
        "print(x[0])  # Print the first item from the list of results\n",
        "print(\"------\")\n",
        "print(\"------\")\n",
        "print(\"------\")\n",
        "\n",
        "print(\"---the whole list, pretty printed---\")\n",
        "# Pretty-print the full list using json.dumps with indentation\n",
        "print(json.dumps(x, indent=2))\n"
      ],
      "metadata": {
        "colab": {
          "base_uri": "https://localhost:8080/"
        },
        "id": "hEpJon4b8rft",
        "outputId": "5876bc7b-a231-48d1-e246-42e853f221b0"
      },
      "execution_count": 43,
      "outputs": [
        {
          "output_type": "stream",
          "name": "stdout",
          "text": [
            "<class 'requests.models.Response'>\n",
            "------\n",
            "------\n",
            "------\n",
            "[{\"word\":\"money\",\"score\":4415,\"numSyllables\":2},{\"word\":\"honey\",\"score\":1206,\"numSyllables\":2},{\"word\":\"sunny\",\"score\":717,\"numSyllables\":2},{\"word\":\"\n",
            "------\n",
            "------\n",
            "------\n",
            "https://api.datamuse.com/words?rel_rhy=funny\n",
            "------\n",
            "------\n",
            "------\n",
            "<class 'list'>\n",
            "------\n",
            "------\n",
            "------\n",
            "---first item in the list---\n",
            "{'word': 'money', 'score': 4415, 'numSyllables': 2}\n",
            "------\n",
            "------\n",
            "------\n",
            "---the whole list, pretty printed---\n",
            "[\n",
            "  {\n",
            "    \"word\": \"money\",\n",
            "    \"score\": 4415,\n",
            "    \"numSyllables\": 2\n",
            "  },\n",
            "  {\n",
            "    \"word\": \"honey\",\n",
            "    \"score\": 1206,\n",
            "    \"numSyllables\": 2\n",
            "  },\n",
            "  {\n",
            "    \"word\": \"sunny\",\n",
            "    \"score\": 717,\n",
            "    \"numSyllables\": 2\n",
            "  },\n",
            "  {\n",
            "    \"word\": \"bunny\",\n",
            "    \"score\": 702,\n",
            "    \"numSyllables\": 2\n",
            "  },\n",
            "  {\n",
            "    \"word\": \"blini\",\n",
            "    \"score\": 613,\n",
            "    \"numSyllables\": 2\n",
            "  },\n",
            "  {\n",
            "    \"word\": \"gunny\",\n",
            "    \"score\": 449,\n",
            "    \"numSyllables\": 2\n",
            "  },\n",
            "  {\n",
            "    \"word\": \"tunny\",\n",
            "    \"score\": 301,\n",
            "    \"numSyllables\": 2\n",
            "  },\n",
            "  {\n",
            "    \"word\": \"sonny\",\n",
            "    \"score\": 286,\n",
            "    \"numSyllables\": 2\n",
            "  },\n",
            "  {\n",
            "    \"word\": \"dunny\",\n",
            "    \"score\": 245,\n",
            "    \"numSyllables\": 2\n",
            "  },\n",
            "  {\n",
            "    \"word\": \"runny\",\n",
            "    \"score\": 225,\n",
            "    \"numSyllables\": 2\n",
            "  },\n",
            "  {\n",
            "    \"word\": \"thunny\",\n",
            "    \"score\": 222,\n",
            "    \"numSyllables\": 2\n",
            "  },\n",
            "  {\n",
            "    \"word\": \"aknee\",\n",
            "    \"score\": 179,\n",
            "    \"numSyllables\": 2\n",
            "  },\n",
            "  {\n",
            "    \"word\": \"squinny\",\n",
            "    \"score\": 170,\n",
            "    \"numSyllables\": 2\n",
            "  },\n",
            "  {\n",
            "    \"word\": \"fiat money\",\n",
            "    \"score\": 160,\n",
            "    \"numSyllables\": 4\n",
            "  },\n",
            "  {\n",
            "    \"word\": \"gunnie\",\n",
            "    \"score\": 156,\n",
            "    \"numSyllables\": 2\n",
            "  },\n",
            "  {\n",
            "    \"word\": \"blood money\",\n",
            "    \"score\": 152,\n",
            "    \"numSyllables\": 3\n",
            "  },\n",
            "  {\n",
            "    \"word\": \"squiny\",\n",
            "    \"score\": 151,\n",
            "    \"numSyllables\": 2\n",
            "  },\n",
            "  {\n",
            "    \"word\": \"tunney\",\n",
            "    \"score\": 119,\n",
            "    \"numSyllables\": 2\n",
            "  },\n",
            "  {\n",
            "    \"word\": \"spinny\",\n",
            "    \"score\": 117,\n",
            "    \"numSyllables\": 2\n",
            "  },\n",
            "  {\n",
            "    \"word\": \"pin money\",\n",
            "    \"score\": 107,\n",
            "    \"numSyllables\": 3\n",
            "  },\n",
            "  {\n",
            "    \"word\": \"easy money\",\n",
            "    \"score\": 66,\n",
            "    \"numSyllables\": 4\n",
            "  },\n",
            "  {\n",
            "    \"word\": \"smart money\",\n",
            "    \"score\": 66,\n",
            "    \"numSyllables\": 3\n",
            "  },\n",
            "  {\n",
            "    \"word\": \"earnest money\",\n",
            "    \"score\": 62,\n",
            "    \"numSyllables\": 4\n",
            "  },\n",
            "  {\n",
            "    \"word\": \"easter bunny\",\n",
            "    \"score\": 56,\n",
            "    \"numSyllables\": 4\n",
            "  },\n",
            "  {\n",
            "    \"word\": \"paper money\",\n",
            "    \"score\": 54,\n",
            "    \"numSyllables\": 4\n",
            "  },\n",
            "  {\n",
            "    \"word\": \"pocket money\",\n",
            "    \"score\": 47,\n",
            "    \"numSyllables\": 4\n",
            "  },\n",
            "  {\n",
            "    \"word\": \"folding money\",\n",
            "    \"score\": 46,\n",
            "    \"numSyllables\": 4\n",
            "  },\n",
            "  {\n",
            "    \"word\": \"conscience money\",\n",
            "    \"score\": 41,\n",
            "    \"numSyllables\": 4\n",
            "  },\n",
            "  {\n",
            "    \"word\": \"hush money\",\n",
            "    \"score\": 40,\n",
            "    \"numSyllables\": 3\n",
            "  },\n",
            "  {\n",
            "    \"word\": \"prize money\",\n",
            "    \"score\": 37,\n",
            "    \"numSyllables\": 3\n",
            "  },\n",
            "  {\n",
            "    \"word\": \"amount of money\",\n",
            "    \"score\": 33,\n",
            "    \"numSyllables\": 5\n",
            "  },\n",
            "  {\n",
            "    \"word\": \"for love or money\",\n",
            "    \"score\": 32,\n",
            "    \"numSyllables\": 5\n",
            "  },\n",
            "  {\n",
            "    \"word\": \"tight money\",\n",
            "    \"score\": 32,\n",
            "    \"numSyllables\": 3\n",
            "  },\n",
            "  {\n",
            "    \"word\": \"ship money\",\n",
            "    \"score\": 30,\n",
            "    \"numSyllables\": 3\n",
            "  },\n",
            "  {\n",
            "    \"word\": \"metal money\",\n",
            "    \"score\": 27,\n",
            "    \"numSyllables\": 4\n",
            "  },\n",
            "  {\n",
            "    \"word\": \"sum of money\",\n",
            "    \"score\": 23,\n",
            "    \"numSyllables\": 4\n",
            "  },\n",
            "  {\n",
            "    \"word\": \"entrance money\",\n",
            "    \"score\": 22,\n",
            "    \"numSyllables\": 4\n",
            "  },\n",
            "  {\n",
            "    \"word\": \"cheap money\",\n",
            "    \"score\": 21,\n",
            "    \"numSyllables\": 3\n",
            "  },\n",
            "  {\n",
            "    \"word\": \"spending money\",\n",
            "    \"score\": 21,\n",
            "    \"numSyllables\": 4\n",
            "  },\n",
            "  {\n",
            "    \"word\": \"token money\",\n",
            "    \"score\": 21,\n",
            "    \"numSyllables\": 4\n",
            "  },\n",
            "  {\n",
            "    \"word\": \"waste of money\",\n",
            "    \"score\": 19,\n",
            "    \"numSyllables\": 4\n",
            "  },\n",
            "  {\n",
            "    \"word\": \"ransom money\",\n",
            "    \"score\": 18,\n",
            "    \"numSyllables\": 4\n",
            "  },\n",
            "  {\n",
            "    \"word\": \"hearth money\",\n",
            "    \"score\": 14,\n",
            "    \"numSyllables\": 3\n",
            "  },\n",
            "  {\n",
            "    \"word\": \"munni\",\n",
            "    \"score\": 14,\n",
            "    \"numSyllables\": 2\n",
            "  },\n",
            "  {\n",
            "    \"word\": \"bunnie\",\n",
            "    \"score\": 2,\n",
            "    \"numSyllables\": 2\n",
            "  },\n",
            "  {\n",
            "    \"word\": \"euromoney\",\n",
            "    \"score\": 2,\n",
            "    \"numSyllables\": 4\n",
            "  },\n",
            "  {\n",
            "    \"word\": \"smartmoney\",\n",
            "    \"score\": 2,\n",
            "    \"numSyllables\": 3\n",
            "  },\n",
            "  {\n",
            "    \"word\": \"anyone he\",\n",
            "    \"numSyllables\": 4\n",
            "  },\n",
            "  {\n",
            "    \"word\": \"begun he\",\n",
            "    \"numSyllables\": 3\n",
            "  },\n",
            "  {\n",
            "    \"word\": \"bunney\",\n",
            "    \"numSyllables\": 2\n",
            "  },\n",
            "  {\n",
            "    \"word\": \"ca ne\",\n",
            "    \"numSyllables\": 2\n",
            "  },\n",
            "  {\n",
            "    \"word\": \"done he\",\n",
            "    \"numSyllables\": 2\n",
            "  },\n",
            "  {\n",
            "    \"word\": \"donne e\",\n",
            "    \"numSyllables\": 2\n",
            "  },\n",
            "  {\n",
            "    \"word\": \"everyone he\",\n",
            "    \"numSyllables\": 4\n",
            "  },\n",
            "  {\n",
            "    \"word\": \"fun he\",\n",
            "    \"numSyllables\": 2\n",
            "  },\n",
            "  {\n",
            "    \"word\": \"grandson he\",\n",
            "    \"numSyllables\": 3\n",
            "  },\n",
            "  {\n",
            "    \"word\": \"gun he\",\n",
            "    \"numSyllables\": 2\n",
            "  },\n",
            "  {\n",
            "    \"word\": \"handgun he\",\n",
            "    \"numSyllables\": 3\n",
            "  },\n",
            "  {\n",
            "    \"word\": \"kun hee\",\n",
            "    \"numSyllables\": 2\n",
            "  },\n",
            "  {\n",
            "    \"word\": \"le ne\",\n",
            "    \"numSyllables\": 2\n",
            "  },\n",
            "  {\n",
            "    \"word\": \"lunney\",\n",
            "    \"numSyllables\": 2\n",
            "  },\n",
            "  {\n",
            "    \"word\": \"lunny\",\n",
            "    \"numSyllables\": 2\n",
            "  },\n",
            "  {\n",
            "    \"word\": \"none e\",\n",
            "    \"numSyllables\": 2\n",
            "  },\n",
            "  {\n",
            "    \"word\": \"none he\",\n",
            "    \"numSyllables\": 2\n",
            "  },\n",
            "  {\n",
            "    \"word\": \"nun he\",\n",
            "    \"numSyllables\": 2\n",
            "  },\n",
            "  {\n",
            "    \"word\": \"one he\",\n",
            "    \"numSyllables\": 2\n",
            "  },\n",
            "  {\n",
            "    \"word\": \"one knee\",\n",
            "    \"numSyllables\": 2\n",
            "  },\n",
            "  {\n",
            "    \"word\": \"pun he\",\n",
            "    \"numSyllables\": 2\n",
            "  },\n",
            "  {\n",
            "    \"word\": \"run e\",\n",
            "    \"numSyllables\": 2\n",
            "  },\n",
            "  {\n",
            "    \"word\": \"run he\",\n",
            "    \"numSyllables\": 2\n",
            "  },\n",
            "  {\n",
            "    \"word\": \"shotgun he\",\n",
            "    \"numSyllables\": 3\n",
            "  },\n",
            "  {\n",
            "    \"word\": \"someone e\",\n",
            "    \"numSyllables\": 3\n",
            "  },\n",
            "  {\n",
            "    \"word\": \"someone he\",\n",
            "    \"numSyllables\": 3\n",
            "  },\n",
            "  {\n",
            "    \"word\": \"son e\",\n",
            "    \"numSyllables\": 2\n",
            "  },\n",
            "  {\n",
            "    \"word\": \"son he\",\n",
            "    \"numSyllables\": 2\n",
            "  },\n",
            "  {\n",
            "    \"word\": \"sun e\",\n",
            "    \"numSyllables\": 2\n",
            "  },\n",
            "  {\n",
            "    \"word\": \"sun he\",\n",
            "    \"numSyllables\": 2\n",
            "  },\n",
            "  {\n",
            "    \"word\": \"ton he\",\n",
            "    \"numSyllables\": 2\n",
            "  },\n",
            "  {\n",
            "    \"word\": \"ton ne\",\n",
            "    \"numSyllables\": 2\n",
            "  },\n",
            "  {\n",
            "    \"word\": \"un e\",\n",
            "    \"numSyllables\": 2\n",
            "  },\n",
            "  {\n",
            "    \"word\": \"un he\",\n",
            "    \"numSyllables\": 2\n",
            "  },\n",
            "  {\n",
            "    \"word\": \"un ne\",\n",
            "    \"numSyllables\": 2\n",
            "  },\n",
            "  {\n",
            "    \"word\": \"un ni\",\n",
            "    \"numSyllables\": 2\n",
            "  },\n",
            "  {\n",
            "    \"word\": \"won he\",\n",
            "    \"numSyllables\": 2\n",
            "  }\n",
            "]\n"
          ]
        }
      ]
    },
    {
      "cell_type": "code",
      "source": [
        "# Import statements for necessary Python modules\n",
        "import requests  # This lets us send HTTP requests to websites/APIs\n",
        "\n",
        "# Define a function to get rhyming words\n",
        "def get_rhymes(word):\n",
        "    # This is the base URL of the API we're calling\n",
        "    baseurl = \"https://api.datamuse.com/words\"\n",
        "\n",
        "    # Create an empty dictionary to store URL parameters\n",
        "    params_diction = {}\n",
        "\n",
        "    # Add a key 'rel_rhy' with the input word as the value\n",
        "    # This tells the API to find rhymes for the word\n",
        "    params_diction[\"rel_rhy\"] = word\n",
        "\n",
        "    # Limit the number of results to 3\n",
        "    params_diction[\"max\"] = \"3\"\n",
        "\n",
        "    # Send a GET request to the API with the base URL and parameters\n",
        "    resp = requests.get(baseurl, params=params_diction)\n",
        "\n",
        "    # Convert the JSON response into a Python object (list of dictionaries)\n",
        "    word_ds = resp.json()\n",
        "\n",
        "    # Use list comprehension to extract only the 'word' from each dictionary\n",
        "    return [d['word'] for d in word_ds]\n",
        "\n",
        "# Call the function and print rhyming words for 'funny'\n",
        "print(get_rhymes(\"funny\"))\n",
        "\n",
        "# Call the function and print rhyming words for 'dash'\n",
        "print(get_rhymes(\"dash\"))\n"
      ],
      "metadata": {
        "colab": {
          "base_uri": "https://localhost:8080/"
        },
        "id": "lffX9NPPJRx_",
        "outputId": "67eb93b7-8b70-4836-a04c-049c579202f3"
      },
      "execution_count": 44,
      "outputs": [
        {
          "output_type": "stream",
          "name": "stdout",
          "text": [
            "['money', 'honey', 'sunny']\n",
            "['cache', 'flash', 'ash']\n"
          ]
        }
      ]
    },
    {
      "cell_type": "code",
      "source": [],
      "metadata": {
        "id": "elaMMapDl2ah"
      },
      "execution_count": null,
      "outputs": []
    },
    {
      "cell_type": "code",
      "source": [
        "import requests\n",
        "import json\n",
        "\n",
        "PERMANENT_CACHE_FNAME = \"./assets/permanent_cache.txt\"\n",
        "TEMP_CACHE_FNAME = \"this_page_cache.txt\"\n",
        "\n",
        "def _write_to_file(cache, fname):\n",
        "    with open(fname, 'w') as outfile:\n",
        "        outfile.write(json.dumps(cache, indent=2))\n",
        "\n",
        "def _read_from_file(fname):\n",
        "    try:\n",
        "        with open(fname, 'r') as infile:\n",
        "            res = infile.read()\n",
        "            return json.loads(res)\n",
        "    except:\n",
        "        return {}\n",
        "\n",
        "def add_to_cache(cache_file, cache_key, cache_value):\n",
        "    temp_cache = _read_from_file(cache_file)\n",
        "    temp_cache[cache_key] = cache_value\n",
        "    _write_to_file(temp_cache, cache_file)\n",
        "\n",
        "def clear_cache(cache_file=TEMP_CACHE_FNAME):\n",
        "    _write_to_file({}, cache_file)\n",
        "\n",
        "def requestURL(baseurl, params = {}):\n",
        "    # This function accepts a URL path and a params diction as inputs.\n",
        "    # It calls requests.get() with those inputs,\n",
        "    # and returns the full URL of the data you want to get.\n",
        "    req = requests.Request(method = 'GET', url = baseurl, params = params)\n",
        "    prepped = req.prepare()\n",
        "    return prepped.url\n",
        "\n",
        "def make_cache_key(baseurl, params_d, private_keys=[\"api_key\", \"apikey\"]):\n",
        "    \"\"\"Makes a long string representing the query.\n",
        "    Alphabetize the keys from the params dictionary so we get the same order each time.\n",
        "    Omit keys with private info.\"\"\"\n",
        "    alphabetized_keys = sorted(params_d.keys())\n",
        "    res = []\n",
        "    for k in alphabetized_keys:\n",
        "        if k not in private_keys:\n",
        "            val = params_d[k]\n",
        "            if type(val) == type([]):\n",
        "                val = ','.join([str(item) for item in val])\n",
        "                print(val)\n",
        "            res.append(\"{}-{}\".format(k, val))\n",
        "    return baseurl + \"_\".join(res)\n",
        "\n",
        "def perm_cache():\n",
        "    return _read_from_file(PERMANENT_CACHE_FNAME)\n",
        "\n",
        "def get(baseurl, params={}, private_keys_to_ignore=[\"api_key\", \"apikey\"], permanent_cache_file=PERMANENT_CACHE_FNAME, temp_cache_file=TEMP_CACHE_FNAME, headers=None):\n",
        "    full_url = requestURL(baseurl, params)\n",
        "    cache_key = make_cache_key(baseurl, params, private_keys_to_ignore)\n",
        "    # Load the permanent and page-specific caches from files\n",
        "    permanent_cache = _read_from_file(permanent_cache_file)\n",
        "    temp_cache = _read_from_file(temp_cache_file)\n",
        "    if cache_key in temp_cache:\n",
        "        print(\"found in page-specific cache\")\n",
        "        # make a Response object containing text from the change, and the full_url that would have been fetched\n",
        "        resp = requests.Response()\n",
        "        resp._content = bytes(temp_cache[cache_key], 'utf-8')\n",
        "        resp.url = full_url\n",
        "        return resp\n",
        "    elif cache_key in permanent_cache:\n",
        "        print(\"found in permanent_cache\")\n",
        "        # make a Response object containing text from the change, and the full_url that would have been fetched\n",
        "        resp = requests.Response()\n",
        "        resp._content = bytes(permanent_cache[cache_key], 'utf-8')\n",
        "        resp.url = full_url\n",
        "        return resp\n",
        "    else:\n",
        "        print(\"new; adding to cache\")\n",
        "        # actually request it\n",
        "        resp = requests.get(baseurl, params, headers=headers)\n",
        "        # save it\n",
        "        add_to_cache(temp_cache_file, cache_key, resp.text)\n",
        "        return resp\n",
        "#---------\n",
        "#-------------------------------\n",
        "#----------------------------------------------------------\n",
        "import requests\n",
        "import json\n",
        "import os\n",
        "\n",
        "# This is the file we will use to store the cache\n",
        "CACHE_FILENAME = \"cache_file.json\"\n",
        "\n",
        "# Load cache if it exists\n",
        "if os.path.exists(CACHE_FILENAME):\n",
        "    with open(CACHE_FILENAME, 'r') as file:\n",
        "        cache = json.load(file)\n",
        "else:\n",
        "    cache = {}\n",
        "\n",
        "def get_with_caching(url):\n",
        "    \"\"\"Returns cached data if available, otherwise makes a request and saves it\"\"\"\n",
        "    if url in cache:\n",
        "        print(\"Getting from cache...\")\n",
        "        return cache[url]\n",
        "    else:\n",
        "        print(\"Fetching from the web...\")\n",
        "        response = requests.get(url)\n",
        "        cache[url] = response.text\n",
        "        with open(CACHE_FILENAME, 'w') as file:\n",
        "            json.dump(cache, file)\n",
        "        return response.text\n",
        "\n",
        "# Example usage\n",
        "url = \"https://api.datamuse.com/words?rel_rhy=happy\"\n",
        "data = get_with_caching(url)\n",
        "print(data[:100])\n",
        "\n",
        "#__________________________________________________________________________________________________________________\n",
        "#____________________________________________________________________________________________________________________\n",
        "# Import a special version of the requests library that includes caching functionality\n",
        "import requests_with_caching\n",
        "\n",
        "# First request: the response is not yet in the cache, so it is fetched from the web\n",
        "res = requests_with_caching.get(\n",
        "    \"https://api.datamuse.com/words?rel_rhy=happy\",  # API request for words that rhyme with \"happy\"\n",
        "    permanent_cache_file=\"datamuse_cache.txt\"        # Specify a file to permanently store cached responses\n",
        ")\n",
        "\n",
        "# Print the first 100 characters of the response text to see part of the result\n",
        "print(res.text[:100])\n",
        "\n",
        "# Second request: same URL as before, so this result will be fetched from the temporary cache\n",
        "res = requests_with_caching.get(\n",
        "    \"https://api.datamuse.com/words?rel_rhy=happy\",\n",
        "    permanent_cache_file=\"datamuse_cache.txt\"\n",
        ")\n",
        "\n",
        "# Third request: different word (\"funny\"), might be in the permanent cache if fetched before\n",
        "res = requests_with_caching.get(\n",
        "    \"https://api.datamuse.com/words?rel_rhy=funny\",\n",
        "    permanent_cache_file=\"datamuse_cache.txt\"\n",
        ")\n"
      ],
      "metadata": {
        "colab": {
          "base_uri": "https://localhost:8080/",
          "height": 419
        },
        "id": "XIzMDieFUnqS",
        "outputId": "9fbc6f60-57c1-4129-d738-308264ca3dc7"
      },
      "execution_count": 52,
      "outputs": [
        {
          "output_type": "stream",
          "name": "stdout",
          "text": [
            "Getting from cache...\n",
            "[{\"word\":\"nappy\",\"score\":703,\"numSyllables\":2},{\"word\":\"snappy\",\"score\":698,\"numSyllables\":2},{\"word\n"
          ]
        },
        {
          "output_type": "error",
          "ename": "ModuleNotFoundError",
          "evalue": "No module named 'requests_with_caching'",
          "traceback": [
            "\u001b[0;31m---------------------------------------------------------------------------\u001b[0m",
            "\u001b[0;31mModuleNotFoundError\u001b[0m                       Traceback (most recent call last)",
            "\u001b[0;32m<ipython-input-52-5e80f7d51c75>\u001b[0m in \u001b[0;36m<cell line: 0>\u001b[0;34m()\u001b[0m\n\u001b[1;32m    116\u001b[0m \u001b[0;31m#____________________________________________________________________________________________________________________\u001b[0m\u001b[0;34m\u001b[0m\u001b[0;34m\u001b[0m\u001b[0m\n\u001b[1;32m    117\u001b[0m \u001b[0;31m# Import a special version of the requests library that includes caching functionality\u001b[0m\u001b[0;34m\u001b[0m\u001b[0;34m\u001b[0m\u001b[0m\n\u001b[0;32m--> 118\u001b[0;31m \u001b[0;32mimport\u001b[0m \u001b[0mrequests_with_caching\u001b[0m\u001b[0;34m\u001b[0m\u001b[0;34m\u001b[0m\u001b[0m\n\u001b[0m\u001b[1;32m    119\u001b[0m \u001b[0;34m\u001b[0m\u001b[0m\n\u001b[1;32m    120\u001b[0m \u001b[0;31m# First request: the response is not yet in the cache, so it is fetched from the web\u001b[0m\u001b[0;34m\u001b[0m\u001b[0;34m\u001b[0m\u001b[0m\n",
            "\u001b[0;31mModuleNotFoundError\u001b[0m: No module named 'requests_with_caching'",
            "",
            "\u001b[0;31m---------------------------------------------------------------------------\u001b[0;32m\nNOTE: If your import is failing due to a missing package, you can\nmanually install dependencies using either !pip or !apt.\n\nTo view examples of installing some common dependencies, click the\n\"Open Examples\" button below.\n\u001b[0;31m---------------------------------------------------------------------------\u001b[0m\n"
          ],
          "errorDetails": {
            "actions": [
              {
                "action": "open_url",
                "actionText": "Open Examples",
                "url": "/notebooks/snippets/importing_libraries.ipynb"
              }
            ]
          }
        }
      ]
    },
    {
      "cell_type": "code",
      "source": [
        "import requests\n",
        "import json\n",
        "import os\n",
        "\n",
        "# File where the cached responses will be stored\n",
        "CACHE_FILENAME = \"cache_file.json\"\n",
        "\n",
        "# Load the cache from file if it exists, otherwise use an empty dictionary\n",
        "if os.path.exists(CACHE_FILENAME):\n",
        "    with open(CACHE_FILENAME, 'r') as f:\n",
        "        cache = json.load(f)\n",
        "else:\n",
        "    cache = {}\n",
        "\n",
        "def get_with_caching(url):\n",
        "    \"\"\"\n",
        "    Returns the cached response for a given URL if it exists.\n",
        "    Otherwise, makes a request, caches it, and returns the result.\n",
        "    \"\"\"\n",
        "    if url in cache:\n",
        "        print(\"Getting from cache...\")\n",
        "        return cache[url]\n",
        "    else:\n",
        "        print(\"Fetching from the web...\")\n",
        "        response = requests.get(url)\n",
        "        data = response.text\n",
        "        cache[url] = data\n",
        "        # Save updated cache to file\n",
        "        with open(CACHE_FILENAME, 'w') as f:\n",
        "            json.dump(cache, f)\n",
        "        return data\n",
        "\n",
        "# 🔁 Example Usage\n",
        "url1 = \"https://api.datamuse.com/words?rel_rhy=happy\"\n",
        "url2 = \"https://api.datamuse.com/words?rel_rhy=funny\"\n",
        "\n",
        "# First request – fetched from the web\n",
        "data1 = get_with_caching(url1)\n",
        "print(data1[:100])  # Print only the first 100 characters\n",
        "\n",
        "# Second request – same URL, should be fetched from cache\n",
        "data1_again = get_with_caching(url1)\n",
        "print(data1_again[:100])\n",
        "\n",
        "# Third request – different word, likely new\n",
        "data2 = get_with_caching(url2)\n",
        "print(data2[:100])\n"
      ],
      "metadata": {
        "colab": {
          "base_uri": "https://localhost:8080/"
        },
        "id": "N-w2oNwsVcOz",
        "outputId": "c8198c05-7d1f-4d45-d1ca-354db2284dae"
      },
      "execution_count": 47,
      "outputs": [
        {
          "output_type": "stream",
          "name": "stdout",
          "text": [
            "Getting from cache...\n",
            "[{\"word\":\"nappy\",\"score\":703,\"numSyllables\":2},{\"word\":\"snappy\",\"score\":698,\"numSyllables\":2},{\"word\n",
            "Getting from cache...\n",
            "[{\"word\":\"nappy\",\"score\":703,\"numSyllables\":2},{\"word\":\"snappy\",\"score\":698,\"numSyllables\":2},{\"word\n",
            "Fetching from the web...\n",
            "[{\"word\":\"money\",\"score\":4415,\"numSyllables\":2},{\"word\":\"honey\",\"score\":1206,\"numSyllables\":2},{\"wor\n"
          ]
        }
      ]
    },
    {
      "cell_type": "code",
      "source": [
        "# import statements\n",
        "import requests_with_caching\n",
        "import json\n",
        "# import webbrowser\n",
        "\n",
        "# apply for a flickr authentication key at http://www.flickr.com/services/apps/create/apply/?\n",
        "# paste the key (not the secret) as the value of the variable flickr_key\n",
        "flickr_key = 'yourkeyhere'\n",
        "\n",
        "def get_flickr_data(tags_string):\n",
        "    baseurl = \"https://api.flickr.com/services/rest/\"\n",
        "    params_diction = {}\n",
        "    params_diction[\"api_key\"] = flickr_key # from the above global variable\n",
        "    params_diction[\"tags\"] = tags_string # must be a comma separated string to work correctly\n",
        "    params_diction[\"tag_mode\"] = \"all\"\n",
        "    params_diction[\"method\"] = \"flickr.photos.search\"\n",
        "    params_diction[\"per_page\"] = 5\n",
        "    params_diction[\"media\"] = \"photos\"\n",
        "    params_diction[\"format\"] = \"json\"\n",
        "    params_diction[\"nojsoncallback\"] = 1\n",
        "    flickr_resp = requests_with_caching.get(baseurl, params = params_diction, permanent_cache_file=\"flickr_cache.txt\")\n",
        "    # Useful for debugging: print the url! Uncomment the below line to do so.\n",
        "    print(flickr_resp.url) # Paste the result into the browser to check it out...\n",
        "    return flickr_resp.json()\n",
        "\n",
        "result_river_mts = get_flickr_data(\"river,mountains\")\n",
        "\n",
        "# Some code to open up a few photos that are tagged with the mountains and river tags...\n",
        "\n",
        "photos = result_river_mts['photos']['photo']\n",
        "for photo in photos:\n",
        "    owner = photo['owner']\n",
        "    photo_id = photo['id']\n",
        "    url = 'https://www.flickr.com/photos/{}/{}'.format(owner, photo_id)\n",
        "    print(url)\n",
        "    # webbrowser.open(url)\n"
      ],
      "metadata": {
        "colab": {
          "base_uri": "https://localhost:8080/",
          "height": 385
        },
        "id": "LhpoqYgxd_-K",
        "outputId": "04385738-4d93-464b-8a1c-0ef3976602e6"
      },
      "execution_count": 48,
      "outputs": [
        {
          "output_type": "error",
          "ename": "ModuleNotFoundError",
          "evalue": "No module named 'requests_with_caching'",
          "traceback": [
            "\u001b[0;31m---------------------------------------------------------------------------\u001b[0m",
            "\u001b[0;31mModuleNotFoundError\u001b[0m                       Traceback (most recent call last)",
            "\u001b[0;32m<ipython-input-48-fd849ff51cc8>\u001b[0m in \u001b[0;36m<cell line: 0>\u001b[0;34m()\u001b[0m\n\u001b[1;32m      1\u001b[0m \u001b[0;31m# import statements\u001b[0m\u001b[0;34m\u001b[0m\u001b[0;34m\u001b[0m\u001b[0m\n\u001b[0;32m----> 2\u001b[0;31m \u001b[0;32mimport\u001b[0m \u001b[0mrequests_with_caching\u001b[0m\u001b[0;34m\u001b[0m\u001b[0;34m\u001b[0m\u001b[0m\n\u001b[0m\u001b[1;32m      3\u001b[0m \u001b[0;32mimport\u001b[0m \u001b[0mjson\u001b[0m\u001b[0;34m\u001b[0m\u001b[0;34m\u001b[0m\u001b[0m\n\u001b[1;32m      4\u001b[0m \u001b[0;31m# import webbrowser\u001b[0m\u001b[0;34m\u001b[0m\u001b[0;34m\u001b[0m\u001b[0m\n\u001b[1;32m      5\u001b[0m \u001b[0;34m\u001b[0m\u001b[0m\n",
            "\u001b[0;31mModuleNotFoundError\u001b[0m: No module named 'requests_with_caching'",
            "",
            "\u001b[0;31m---------------------------------------------------------------------------\u001b[0;32m\nNOTE: If your import is failing due to a missing package, you can\nmanually install dependencies using either !pip or !apt.\n\nTo view examples of installing some common dependencies, click the\n\"Open Examples\" button below.\n\u001b[0;31m---------------------------------------------------------------------------\u001b[0m\n"
          ],
          "errorDetails": {
            "actions": [
              {
                "action": "open_url",
                "actionText": "Open Examples",
                "url": "/notebooks/snippets/importing_libraries.ipynb"
              }
            ]
          }
        }
      ]
    },
    {
      "cell_type": "code",
      "source": [
        "import requests\n",
        "import json\n",
        "\n",
        "API_KEY = \"PASTE_YOUR_FLICKR_API_KEY_HERE\"\n",
        "\n",
        "base_url = \"https://api.flickr.com/services/rest/\"\n",
        "params = {\n",
        "    \"method\": \"flickr.photos.search\",\n",
        "    \"format\": \"json\",\n",
        "    \"nojsoncallback\": 1,\n",
        "    \"per_page\": 5,\n",
        "    \"tags\": \"mountains,river\",\n",
        "    \"tag_mode\": \"all\",\n",
        "    \"media\": \"photos\",\n",
        "    \"api_key\": API_KEY\n",
        "}\n",
        "\n",
        "response = requests.get(base_url, params=params)\n",
        "\n",
        "if response.status_code == 200:\n",
        "    print(\"✅ Successfully retrieved data from Flickr API.\\n\")\n",
        "\n",
        "    data = response.json()\n",
        "    print(\"📦 JSON response:\")\n",
        "    print(json.dumps(data, indent=2))  # This shows what's inside\n",
        "\n",
        "    # Now try to extract photos if the 'photos' key exists\n",
        "    if 'photos' in data:\n",
        "        photos = data['photos']['photo']\n",
        "        print(\"\\n📸 Displaying photo links:\\n\")\n",
        "        for photo in photos:\n",
        "            owner = photo['owner']\n",
        "            photo_id = photo['id']\n",
        "            photo_url = f\"https://www.flickr.com/photos/{owner}/{photo_id}\"\n",
        "            print(photo_url)\n",
        "    else:\n",
        "        print(\"\\n⚠️ 'photos' key not found. Likely an API error:\")\n",
        "        if 'message' in data:\n",
        "            print(\"❌ Flickr Error:\", data['message'])\n",
        "        else:\n",
        "            print(data)\n",
        "else:\n",
        "    print(\"❌ Failed to retrieve data. HTTP Status:\", response.status_code)\n"
      ],
      "metadata": {
        "colab": {
          "base_uri": "https://localhost:8080/"
        },
        "id": "Xf3nH2kqerRk",
        "outputId": "bcb04136-3d41-4e28-f95e-c15cd776f51f"
      },
      "execution_count": 50,
      "outputs": [
        {
          "output_type": "stream",
          "name": "stdout",
          "text": [
            "✅ Successfully retrieved data from Flickr API.\n",
            "\n",
            "📦 JSON response:\n",
            "{\n",
            "  \"stat\": \"fail\",\n",
            "  \"code\": 100,\n",
            "  \"message\": \"Invalid API Key (Key has invalid format)\"\n",
            "}\n",
            "\n",
            "⚠️ 'photos' key not found. Likely an API error:\n",
            "❌ Flickr Error: Invalid API Key (Key has invalid format)\n"
          ]
        }
      ]
    },
    {
      "cell_type": "code",
      "source": [],
      "metadata": {
        "id": "CfqhEhEul-zE"
      },
      "execution_count": null,
      "outputs": []
    }
  ]
}