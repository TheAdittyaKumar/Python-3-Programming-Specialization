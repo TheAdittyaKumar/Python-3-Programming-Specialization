{
 "cells": [
  {
   "cell_type": "code",
   "execution_count": 7,
   "metadata": {
    "tags": []
   },
   "outputs": [],
   "source": [
    "def give_feedback(guess, correct_word):\n",
    "    feedback = []\n",
    "\n",
    "    # Loop through each index in the guessed word\n",
    "    for i in range(len(guess)):\n",
    "        guessed_let = guess[i]         # Get the letter at position i from the guess\n",
    "        correct_let = correct_word[i]  # Get the correct letter at the same position\n",
    "\n",
    "        # If the guessed letter is exactly correct (right letter in the right position)\n",
    "        if guessed_let == correct_let:\n",
    "            feedback.append(\"Y\")  # Add \"Y\" to feedback to indicate a perfect match\n",
    "\n",
    "        # If the guessed letter is in the correct word but in the wrong position\n",
    "        elif guessed_let in correct_word:\n",
    "            feedback.append(\"y\")  # Add \"y\" to feedback for right letter, wrong position\n",
    "\n",
    "        # If the guessed letter is not in the correct word at all\n",
    "        else:\n",
    "            feedback.append(\"-\")  # Add \"-\" to feedback for wrong letter\n",
    "\n",
    "    # Return the full feedback list\n",
    "    return feedback"
   ]
  },
  {
   "cell_type": "code",
   "execution_count": 8,
   "metadata": {
    "tags": []
   },
   "outputs": [],
   "source": [
    "assert list(give_feedback(\"guess\", \"guess\")) == ['Y', 'Y', 'Y', 'Y', 'Y']\n",
    "assert list(give_feedback(\"abcde\", \"fghij\")) == ['-', '-', '-', '-', '-']\n",
    "assert list(give_feedback(\"abcde\", \"edcba\")) == ['y', 'y', 'Y', 'y', 'y']\n",
    "assert list(give_feedback(\"hello\", \"hails\")) == ['Y', '-', 'y', 'Y', '-']\n",
    "assert list(give_feedback(\"tests\", \"testy\")) == ['Y', 'Y', 'Y', 'Y', 'y']\n",
    "assert list(give_feedback(\"testy\", \"tests\")) == ['Y', 'Y', 'Y', 'Y', '-']\n"
   ]
  },
  {
   "cell_type": "code",
   "execution_count": 9,
   "metadata": {
    "tags": []
   },
   "outputs": [],
   "source": [
    "# without zip, iterate through the index values\n",
    "def give_feedback(guess, correct_word):\n",
    "    # Give feedack about a guessed word for a Wordle-like game\n",
    "    feedback = []\n",
    "    for i in range(len(guess)):\n",
    "        guessed_let = guess[i]\n",
    "        correct_let = correct_word[i]\n",
    "        if guessed_let == correct_let:\n",
    "            feedback.append(\"Y\")\n",
    "        elif guessed_let in correct_word:\n",
    "            feedback.append(\"y\")\n",
    "        else:\n",
    "            feedback.append(\"-\")\n",
    "    return feedback"
   ]
  },
  {
   "cell_type": "code",
   "execution_count": 10,
   "metadata": {
    "tags": []
   },
   "outputs": [],
   "source": [
    "# using zip, it's a little easier to understand\n",
    "def give_feedback(guess, correct_word):\n",
    "    # Give feedack about a guessed word for a Wordle-like game\n",
    "    feedback = []\n",
    "    for guessed_let, correct_let in zip(guess, correct_word):\n",
    "        if guessed_let == correct_let:\n",
    "            feedback.append(\"Y\")\n",
    "        elif guessed_let in correct_word:\n",
    "            feedback.append(\"y\")\n",
    "        else:\n",
    "            feedback.append(\"-\")\n",
    "    return feedback"
   ]
  },
  {
   "cell_type": "code",
   "execution_count": 11,
   "metadata": {
    "tags": []
   },
   "outputs": [],
   "source": [
    "# with a list comprehension instead of manual accumulation\n",
    "\n",
    "def one_letter_feedback(guessed_let, correct_let, correct_word):\n",
    "    if guessed_let == correct_let:\n",
    "        return \"Y\"\n",
    "    elif guessed_let in correct_word:\n",
    "        return \"y\"\n",
    "    else:\n",
    "        return \"-\"\n",
    "\n",
    "def give_feedback(guess, correct_word):\n",
    "    # Give feedack about a guessed word for a Wordle-like game\n",
    "    return [one_letter_feedback(guessed_let, correct_let, correct_word) \n",
    "            for guessed_let, correct_let in zip(guess, correct_word)]"
   ]
  },
  {
   "cell_type": "code",
   "execution_count": 6,
   "metadata": {
    "tags": []
   },
   "outputs": [],
   "source": [
    "def give_feedback(guess, correct_word):\n",
    "    # Give feedack about a guessed word for a Wordle-like game\n",
    "    return [one_letter_feedback(guessed_let, correct_let, correct_word) \n",
    "            for guessed_let, correct_let in zip(guess, correct_word)]"
   ]
  },
  {
   "cell_type": "code",
   "execution_count": null,
   "metadata": {},
   "outputs": [],
   "source": []
  },
  {
   "cell_type": "code",
   "execution_count": null,
   "metadata": {},
   "outputs": [],
   "source": []
  }
 ],
 "metadata": {
  "kernelspec": {
   "display_name": "Python 3.11 (ipykernel)",
   "language": "python",
   "name": "python3"
  },
  "language_info": {
   "codemirror_mode": {
    "name": "ipython",
    "version": 3
   },
   "file_extension": ".py",
   "mimetype": "text/x-python",
   "name": "python",
   "nbconvert_exporter": "python",
   "pygments_lexer": "ipython3",
   "version": "3.11.9"
  }
 },
 "nbformat": 4,
 "nbformat_minor": 4
}
